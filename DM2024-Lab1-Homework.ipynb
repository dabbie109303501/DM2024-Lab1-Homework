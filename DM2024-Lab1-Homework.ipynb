{
 "cells": [
  {
   "cell_type": "markdown",
   "metadata": {},
   "source": [
    "### Student Information\n",
    "Name: 林劭芸\n",
    "\n",
    "Student ID: 113033626\n",
    "\n",
    "GitHub ID: dabbie109303501"
   ]
  },
  {
   "cell_type": "markdown",
   "metadata": {},
   "source": [
    "---"
   ]
  },
  {
   "cell_type": "markdown",
   "metadata": {},
   "source": [
    "### Instructions"
   ]
  },
  {
   "cell_type": "markdown",
   "metadata": {},
   "source": [
    "1. First: do the **take home** exercises in the [DM2024-Lab1-Master](https://github.com/didiersalazar/DM2024-Lab1-Master.git). You may need to copy some cells from the Lab notebook to this notebook. __This part is worth 20% of your grade.__\n",
    "\n",
    "\n",
    "2. Second: follow the same process from the [DM2024-Lab1-Master](https://github.com/didiersalazar/DM2024-Lab1-Master.git) on **the new dataset**. You don't need to explain all details as we did (some **minimal comments** explaining your code are useful though).  __This part is worth 30% of your grade.__\n",
    "    - Download the [the new dataset](https://huggingface.co/datasets/Senem/Nostalgic_Sentiment_Analysis_of_YouTube_Comments_Data). The dataset contains a `sentiment` and `comment` columns, with the sentiment labels being: 'nostalgia' and 'not nostalgia'. Read the specificiations of the dataset for background details. \n",
    "    - You are allowed to use and modify the `helper` functions in the folder of the first lab session (notice they may need modification) or create your own.\n",
    "\n",
    "\n",
    "3. Third: please attempt the following tasks on **the new dataset**. __This part is worth 30% of your grade.__\n",
    "    - Generate meaningful **new data visualizations**. Refer to online resources and the Data Mining textbook for inspiration and ideas. \n",
    "    - Generate **TF-IDF features** from the tokens of each text. This will generating a document matrix, however, the weights will be computed differently (using the TF-IDF value of each word per document as opposed to the word frequency). Refer to this Scikit-learn [guide](http://scikit-learn.org/stable/modules/generated/sklearn.feature_extraction.text.TfidfVectorizer.html) .\n",
    "    - Implement a simple **Naive Bayes classifier** that automatically classifies the records into their categories. Use both the TF-IDF features and word frequency features to build two seperate classifiers. Note that for the TF-IDF features you might need to use other type of NB classifier different than the one in the Master Notebook. Comment on the differences.  Refer to this [article](https://hub.packtpub.com/implementing-3-naive-bayes-classifiers-in-scikit-learn/).\n",
    "\n",
    "\n",
    "4. Fourth: In the lab, we applied each step really quickly just to illustrate how to work with your dataset. There are somethings that are not ideal or the most efficient/meaningful. Each dataset can be handled differently as well. What are those inefficent parts you noticed? How can you improve the Data preprocessing for these specific datasets? __This part is worth 10% of your grade.__\n",
    "\n",
    "\n",
    "5. Fifth: It's hard for us to follow if your code is messy, so please **tidy up your notebook** and **add minimal comments where needed**. __This part is worth 10% of your grade.__\n",
    "\n",
    "\n",
    "You can submit your homework following these guidelines: [Git Intro & How to hand your homework](https://github.com/didiersalazar/DM2024-Lab1-Master/blob/main/Git%20Intro%20%26%20How%20to%20hand%20your%20homework.ipynb). Make sure to commit and save your changes to your repository __BEFORE the deadline (October 27th 11:59 pm, Sunday)__. "
   ]
  },
  {
   "cell_type": "code",
   "execution_count": 1,
   "metadata": {},
   "outputs": [],
   "source": [
    "### Begin Assignment Here\n",
    "%load_ext autoreload\n",
    "%autoreload 2\n"
   ]
  },
  {
   "cell_type": "markdown",
   "metadata": {},
   "source": [
    "#### First\n",
    "in master file"
   ]
  },
  {
   "cell_type": "markdown",
   "metadata": {},
   "source": [
    "#### Second\n",
    "Second: follow the same process from the [DM2024-Lab1-Master](https://github.com/didiersalazar/DM2024-Lab1-Master.git) on **the new dataset**. You don't need to explain all details as we did (some **minimal comments** explaining your code are useful though).  __This part is worth 30% of your grade.__\n",
    "    - Download the [the new dataset](https://huggingface.co/datasets/Senem/Nostalgic_Sentiment_Analysis_of_YouTube_Comments_Data). The dataset contains a `sentiment` and `comment` columns, with the sentiment labels being: 'nostalgia' and 'not nostalgia'. Read the specificiations of the dataset for background details. \n",
    "    - You are allowed to use and modify the `helper` functions in the folder of the first lab session (notice they may need modification) or create your own."
   ]
  },
  {
   "cell_type": "code",
   "execution_count": 2,
   "metadata": {},
   "outputs": [
    {
     "data": {
      "text/plain": [
       "DatasetDict({\n",
       "    train: Dataset({\n",
       "        features: ['sentiment', 'comment'],\n",
       "        num_rows: 1500\n",
       "    })\n",
       "})"
      ]
     },
     "execution_count": 2,
     "metadata": {},
     "output_type": "execute_result"
    }
   ],
   "source": [
    "from datasets import load_dataset\n",
    "\n",
    "ds = load_dataset(\"Senem/Nostalgic_Sentiment_Analysis_of_YouTube_Comments_Data\")\n",
    "ds"
   ]
  },
  {
   "cell_type": "code",
   "execution_count": 3,
   "metadata": {},
   "outputs": [
    {
     "data": {
      "text/html": [
       "<div>\n",
       "<style scoped>\n",
       "    .dataframe tbody tr th:only-of-type {\n",
       "        vertical-align: middle;\n",
       "    }\n",
       "\n",
       "    .dataframe tbody tr th {\n",
       "        vertical-align: top;\n",
       "    }\n",
       "\n",
       "    .dataframe thead th {\n",
       "        text-align: right;\n",
       "    }\n",
       "</style>\n",
       "<table border=\"1\" class=\"dataframe\">\n",
       "  <thead>\n",
       "    <tr style=\"text-align: right;\">\n",
       "      <th></th>\n",
       "      <th>sentiment</th>\n",
       "      <th>comment</th>\n",
       "    </tr>\n",
       "  </thead>\n",
       "  <tbody>\n",
       "    <tr>\n",
       "      <th>0</th>\n",
       "      <td>not nostalgia</td>\n",
       "      <td>He was a singer with a golden voice that I lov...</td>\n",
       "    </tr>\n",
       "    <tr>\n",
       "      <th>1</th>\n",
       "      <td>nostalgia</td>\n",
       "      <td>The mist beautiful voice ever I listened to hi...</td>\n",
       "    </tr>\n",
       "    <tr>\n",
       "      <th>2</th>\n",
       "      <td>nostalgia</td>\n",
       "      <td>I have most of Mr. Reeves songs.  Always love ...</td>\n",
       "    </tr>\n",
       "    <tr>\n",
       "      <th>3</th>\n",
       "      <td>not nostalgia</td>\n",
       "      <td>30 day leave from 1st tour in Viet Nam to conv...</td>\n",
       "    </tr>\n",
       "    <tr>\n",
       "      <th>4</th>\n",
       "      <td>nostalgia</td>\n",
       "      <td>listening to his songs reminds me of my mum wh...</td>\n",
       "    </tr>\n",
       "    <tr>\n",
       "      <th>...</th>\n",
       "      <td>...</td>\n",
       "      <td>...</td>\n",
       "    </tr>\n",
       "    <tr>\n",
       "      <th>1495</th>\n",
       "      <td>not nostalgia</td>\n",
       "      <td>i don't know!..but the opening of the video,.....</td>\n",
       "    </tr>\n",
       "    <tr>\n",
       "      <th>1496</th>\n",
       "      <td>not nostalgia</td>\n",
       "      <td>it's sad this is such a beautiful song when yo...</td>\n",
       "    </tr>\n",
       "    <tr>\n",
       "      <th>1497</th>\n",
       "      <td>not nostalgia</td>\n",
       "      <td>Dear Friend, I think age and time is not that ...</td>\n",
       "    </tr>\n",
       "    <tr>\n",
       "      <th>1498</th>\n",
       "      <td>nostalgia</td>\n",
       "      <td>I was born in 1954 and started to be aware of ...</td>\n",
       "    </tr>\n",
       "    <tr>\n",
       "      <th>1499</th>\n",
       "      <td>nostalgia</td>\n",
       "      <td>This is the first CD I bought after my marriag...</td>\n",
       "    </tr>\n",
       "  </tbody>\n",
       "</table>\n",
       "<p>1500 rows × 2 columns</p>\n",
       "</div>"
      ],
      "text/plain": [
       "          sentiment                                            comment\n",
       "0     not nostalgia  He was a singer with a golden voice that I lov...\n",
       "1         nostalgia  The mist beautiful voice ever I listened to hi...\n",
       "2         nostalgia  I have most of Mr. Reeves songs.  Always love ...\n",
       "3     not nostalgia  30 day leave from 1st tour in Viet Nam to conv...\n",
       "4         nostalgia  listening to his songs reminds me of my mum wh...\n",
       "...             ...                                                ...\n",
       "1495  not nostalgia  i don't know!..but the opening of the video,.....\n",
       "1496  not nostalgia  it's sad this is such a beautiful song when yo...\n",
       "1497  not nostalgia  Dear Friend, I think age and time is not that ...\n",
       "1498      nostalgia  I was born in 1954 and started to be aware of ...\n",
       "1499      nostalgia  This is the first CD I bought after my marriag...\n",
       "\n",
       "[1500 rows x 2 columns]"
      ]
     },
     "execution_count": 3,
     "metadata": {},
     "output_type": "execute_result"
    }
   ],
   "source": [
    "# Converting Dictionary into Pandas Dataframe\n",
    "import pandas as pd\n",
    "df=pd.DataFrame(\n",
    "    {\"sentiment\":ds[\"train\"][\"sentiment\"],\n",
    "     \"comment\":ds[\"train\"][\"comment\"]})\n",
    "df"
   ]
  },
  {
   "cell_type": "code",
   "execution_count": 4,
   "metadata": {},
   "outputs": [
    {
     "data": {
      "text/html": [
       "<div>\n",
       "<style scoped>\n",
       "    .dataframe tbody tr th:only-of-type {\n",
       "        vertical-align: middle;\n",
       "    }\n",
       "\n",
       "    .dataframe tbody tr th {\n",
       "        vertical-align: top;\n",
       "    }\n",
       "\n",
       "    .dataframe thead th {\n",
       "        text-align: right;\n",
       "    }\n",
       "</style>\n",
       "<table border=\"1\" class=\"dataframe\">\n",
       "  <thead>\n",
       "    <tr style=\"text-align: right;\">\n",
       "      <th></th>\n",
       "      <th>sentiment</th>\n",
       "      <th>comment</th>\n",
       "      <th>sentiments</th>\n",
       "    </tr>\n",
       "  </thead>\n",
       "  <tbody>\n",
       "    <tr>\n",
       "      <th>0</th>\n",
       "      <td>not nostalgia</td>\n",
       "      <td>He was a singer with a golden voice that I lov...</td>\n",
       "      <td>0</td>\n",
       "    </tr>\n",
       "    <tr>\n",
       "      <th>1</th>\n",
       "      <td>nostalgia</td>\n",
       "      <td>The mist beautiful voice ever I listened to hi...</td>\n",
       "      <td>1</td>\n",
       "    </tr>\n",
       "    <tr>\n",
       "      <th>2</th>\n",
       "      <td>nostalgia</td>\n",
       "      <td>I have most of Mr. Reeves songs.  Always love ...</td>\n",
       "      <td>1</td>\n",
       "    </tr>\n",
       "    <tr>\n",
       "      <th>3</th>\n",
       "      <td>not nostalgia</td>\n",
       "      <td>30 day leave from 1st tour in Viet Nam to conv...</td>\n",
       "      <td>0</td>\n",
       "    </tr>\n",
       "    <tr>\n",
       "      <th>4</th>\n",
       "      <td>nostalgia</td>\n",
       "      <td>listening to his songs reminds me of my mum wh...</td>\n",
       "      <td>1</td>\n",
       "    </tr>\n",
       "    <tr>\n",
       "      <th>...</th>\n",
       "      <td>...</td>\n",
       "      <td>...</td>\n",
       "      <td>...</td>\n",
       "    </tr>\n",
       "    <tr>\n",
       "      <th>1495</th>\n",
       "      <td>not nostalgia</td>\n",
       "      <td>i don't know!..but the opening of the video,.....</td>\n",
       "      <td>0</td>\n",
       "    </tr>\n",
       "    <tr>\n",
       "      <th>1496</th>\n",
       "      <td>not nostalgia</td>\n",
       "      <td>it's sad this is such a beautiful song when yo...</td>\n",
       "      <td>0</td>\n",
       "    </tr>\n",
       "    <tr>\n",
       "      <th>1497</th>\n",
       "      <td>not nostalgia</td>\n",
       "      <td>Dear Friend, I think age and time is not that ...</td>\n",
       "      <td>0</td>\n",
       "    </tr>\n",
       "    <tr>\n",
       "      <th>1498</th>\n",
       "      <td>nostalgia</td>\n",
       "      <td>I was born in 1954 and started to be aware of ...</td>\n",
       "      <td>1</td>\n",
       "    </tr>\n",
       "    <tr>\n",
       "      <th>1499</th>\n",
       "      <td>nostalgia</td>\n",
       "      <td>This is the first CD I bought after my marriag...</td>\n",
       "      <td>1</td>\n",
       "    </tr>\n",
       "  </tbody>\n",
       "</table>\n",
       "<p>1500 rows × 3 columns</p>\n",
       "</div>"
      ],
      "text/plain": [
       "          sentiment                                            comment  \\\n",
       "0     not nostalgia  He was a singer with a golden voice that I lov...   \n",
       "1         nostalgia  The mist beautiful voice ever I listened to hi...   \n",
       "2         nostalgia  I have most of Mr. Reeves songs.  Always love ...   \n",
       "3     not nostalgia  30 day leave from 1st tour in Viet Nam to conv...   \n",
       "4         nostalgia  listening to his songs reminds me of my mum wh...   \n",
       "...             ...                                                ...   \n",
       "1495  not nostalgia  i don't know!..but the opening of the video,.....   \n",
       "1496  not nostalgia  it's sad this is such a beautiful song when yo...   \n",
       "1497  not nostalgia  Dear Friend, I think age and time is not that ...   \n",
       "1498      nostalgia  I was born in 1954 and started to be aware of ...   \n",
       "1499      nostalgia  This is the first CD I bought after my marriag...   \n",
       "\n",
       "      sentiments  \n",
       "0              0  \n",
       "1              1  \n",
       "2              1  \n",
       "3              0  \n",
       "4              1  \n",
       "...          ...  \n",
       "1495           0  \n",
       "1496           0  \n",
       "1497           0  \n",
       "1498           1  \n",
       "1499           1  \n",
       "\n",
       "[1500 rows x 3 columns]"
      ]
     },
     "execution_count": 4,
     "metadata": {},
     "output_type": "execute_result"
    }
   ],
   "source": [
    "# Adding Columns\n",
    "sentiments=['not nostalgia','nostalgia']\n",
    "df['sentiments'] = [0 if s == sentiments[0] else 1 for s in df['sentiment']]\n",
    "df"
   ]
  },
  {
   "cell_type": "code",
   "execution_count": 5,
   "metadata": {},
   "outputs": [
    {
     "data": {
      "text/html": [
       "<div>\n",
       "<style scoped>\n",
       "    .dataframe tbody tr th:only-of-type {\n",
       "        vertical-align: middle;\n",
       "    }\n",
       "\n",
       "    .dataframe tbody tr th {\n",
       "        vertical-align: top;\n",
       "    }\n",
       "\n",
       "    .dataframe thead th {\n",
       "        text-align: right;\n",
       "    }\n",
       "</style>\n",
       "<table border=\"1\" class=\"dataframe\">\n",
       "  <thead>\n",
       "    <tr style=\"text-align: right;\">\n",
       "      <th></th>\n",
       "      <th>sentiment</th>\n",
       "      <th>comment</th>\n",
       "      <th>sentiments</th>\n",
       "    </tr>\n",
       "  </thead>\n",
       "  <tbody>\n",
       "    <tr>\n",
       "      <th>0</th>\n",
       "      <td>not nostalgia</td>\n",
       "      <td>He was a singer with a golden voice that I lov...</td>\n",
       "      <td>0</td>\n",
       "    </tr>\n",
       "    <tr>\n",
       "      <th>3</th>\n",
       "      <td>not nostalgia</td>\n",
       "      <td>30 day leave from 1st tour in Viet Nam to conv...</td>\n",
       "      <td>0</td>\n",
       "    </tr>\n",
       "    <tr>\n",
       "      <th>8</th>\n",
       "      <td>not nostalgia</td>\n",
       "      <td>Wherever you  are you always in my heart</td>\n",
       "      <td>0</td>\n",
       "    </tr>\n",
       "    <tr>\n",
       "      <th>9</th>\n",
       "      <td>not nostalgia</td>\n",
       "      <td>Elvis will always be number one no one can com...</td>\n",
       "      <td>0</td>\n",
       "    </tr>\n",
       "    <tr>\n",
       "      <th>10</th>\n",
       "      <td>not nostalgia</td>\n",
       "      <td>ill bet if they begin to play this song on the...</td>\n",
       "      <td>0</td>\n",
       "    </tr>\n",
       "    <tr>\n",
       "      <th>...</th>\n",
       "      <td>...</td>\n",
       "      <td>...</td>\n",
       "      <td>...</td>\n",
       "    </tr>\n",
       "    <tr>\n",
       "      <th>1493</th>\n",
       "      <td>not nostalgia</td>\n",
       "      <td>He really has that \"love you like a brother\" l...</td>\n",
       "      <td>0</td>\n",
       "    </tr>\n",
       "    <tr>\n",
       "      <th>1494</th>\n",
       "      <td>not nostalgia</td>\n",
       "      <td>That's funny. But Leo really is a nice guy. He...</td>\n",
       "      <td>0</td>\n",
       "    </tr>\n",
       "    <tr>\n",
       "      <th>1495</th>\n",
       "      <td>not nostalgia</td>\n",
       "      <td>i don't know!..but the opening of the video,.....</td>\n",
       "      <td>0</td>\n",
       "    </tr>\n",
       "    <tr>\n",
       "      <th>1496</th>\n",
       "      <td>not nostalgia</td>\n",
       "      <td>it's sad this is such a beautiful song when yo...</td>\n",
       "      <td>0</td>\n",
       "    </tr>\n",
       "    <tr>\n",
       "      <th>1497</th>\n",
       "      <td>not nostalgia</td>\n",
       "      <td>Dear Friend, I think age and time is not that ...</td>\n",
       "      <td>0</td>\n",
       "    </tr>\n",
       "  </tbody>\n",
       "</table>\n",
       "<p>750 rows × 3 columns</p>\n",
       "</div>"
      ],
      "text/plain": [
       "          sentiment                                            comment  \\\n",
       "0     not nostalgia  He was a singer with a golden voice that I lov...   \n",
       "3     not nostalgia  30 day leave from 1st tour in Viet Nam to conv...   \n",
       "8     not nostalgia           Wherever you  are you always in my heart   \n",
       "9     not nostalgia  Elvis will always be number one no one can com...   \n",
       "10    not nostalgia  ill bet if they begin to play this song on the...   \n",
       "...             ...                                                ...   \n",
       "1493  not nostalgia  He really has that \"love you like a brother\" l...   \n",
       "1494  not nostalgia  That's funny. But Leo really is a nice guy. He...   \n",
       "1495  not nostalgia  i don't know!..but the opening of the video,.....   \n",
       "1496  not nostalgia  it's sad this is such a beautiful song when yo...   \n",
       "1497  not nostalgia  Dear Friend, I think age and time is not that ...   \n",
       "\n",
       "      sentiments  \n",
       "0              0  \n",
       "3              0  \n",
       "8              0  \n",
       "9              0  \n",
       "10             0  \n",
       "...          ...  \n",
       "1493           0  \n",
       "1494           0  \n",
       "1495           0  \n",
       "1496           0  \n",
       "1497           0  \n",
       "\n",
       "[750 rows x 3 columns]"
      ]
     },
     "execution_count": 5,
     "metadata": {},
     "output_type": "execute_result"
    }
   ],
   "source": [
    "# Familiarizing yourself with the Data\n",
    "df[df[\"sentiments\"]==0]"
   ]
  },
  {
   "cell_type": "code",
   "execution_count": 6,
   "metadata": {},
   "outputs": [
    {
     "data": {
      "text/html": [
       "<div>\n",
       "<style scoped>\n",
       "    .dataframe tbody tr th:only-of-type {\n",
       "        vertical-align: middle;\n",
       "    }\n",
       "\n",
       "    .dataframe tbody tr th {\n",
       "        vertical-align: top;\n",
       "    }\n",
       "\n",
       "    .dataframe thead th {\n",
       "        text-align: right;\n",
       "    }\n",
       "</style>\n",
       "<table border=\"1\" class=\"dataframe\">\n",
       "  <thead>\n",
       "    <tr style=\"text-align: right;\">\n",
       "      <th></th>\n",
       "      <th>sentiment</th>\n",
       "      <th>comment</th>\n",
       "      <th>sentiments</th>\n",
       "    </tr>\n",
       "  </thead>\n",
       "  <tbody>\n",
       "    <tr>\n",
       "      <th>0</th>\n",
       "      <td>The amoung of missing records is:</td>\n",
       "      <td>The amoung of missing records is:</td>\n",
       "      <td>The amoung of missing records is:</td>\n",
       "    </tr>\n",
       "    <tr>\n",
       "      <th>1</th>\n",
       "      <td>0</td>\n",
       "      <td>0</td>\n",
       "      <td>0</td>\n",
       "    </tr>\n",
       "  </tbody>\n",
       "</table>\n",
       "</div>"
      ],
      "text/plain": [
       "                            sentiment                             comment  \\\n",
       "0  The amoung of missing records is:   The amoung of missing records is:    \n",
       "1                                   0                                   0   \n",
       "\n",
       "                           sentiments  \n",
       "0  The amoung of missing records is:   \n",
       "1                                   0  "
      ]
     },
     "execution_count": 6,
     "metadata": {},
     "output_type": "execute_result"
    }
   ],
   "source": [
    "# Missing Values\n",
    "import helpers.data_mining_helpers as dmh\n",
    "df.isnull().apply(lambda x: dmh.check_missing_values(x))"
   ]
  },
  {
   "cell_type": "code",
   "execution_count": 7,
   "metadata": {},
   "outputs": [
    {
     "name": "stdout",
     "output_type": "stream",
     "text": [
      "1\n",
      "        sentiment                                            comment  \\\n",
      "78  not nostalgia  never heard this song before... WOW What an am...   \n",
      "\n",
      "    sentiments  \n",
      "78           0  \n",
      "0\n"
     ]
    }
   ],
   "source": [
    "# Dealing with Duplicate Data\n",
    "print(sum(df.duplicated()))\n",
    "print(df[df.duplicated()==True])\n",
    "df.drop_duplicates(keep=False, inplace=True)\n",
    "print(sum(df.duplicated()))"
   ]
  },
  {
   "cell_type": "code",
   "execution_count": 8,
   "metadata": {},
   "outputs": [
    {
     "name": "stdout",
     "output_type": "stream",
     "text": [
      "sentiment\n",
      "nostalgia        750\n",
      "not nostalgia    748\n",
      "Name: count, dtype: int64\n"
     ]
    },
    {
     "data": {
      "image/png": "[encoded data removed]",
      "text/plain": [
       "<Figure size 800x300 with 1 Axes>"
      ]
     },
     "metadata": {},
     "output_type": "display_data"
    },
    {
     "name": "stdout",
     "output_type": "stream",
     "text": [
      "sentiment\n",
      "not nostalgia    254\n",
      "nostalgia        246\n",
      "Name: count, dtype: int64\n"
     ]
    },
    {
     "data": {
      "text/plain": [
       "<Axes: title={'center': 'Category distribution'}, xlabel='sentiment'>"
      ]
     },
     "execution_count": 8,
     "metadata": {},
     "output_type": "execute_result"
    },
    {
     "data": {
      "image/png": "[encoded data removed]",
      "text/plain": [
       "<Figure size 800x300 with 1 Axes>"
      ]
     },
     "metadata": {},
     "output_type": "display_data"
    },
    {
     "data": {
      "image/png": "[encoded data removed]",
      "text/plain": [
       "<Figure size 800x600 with 1 Axes>"
      ]
     },
     "metadata": {},
     "output_type": "display_data"
    }
   ],
   "source": [
    "# Sampling\n",
    "df_sample = df.sample(n=500)\n",
    "df_sample[0:4]\n",
    "\n",
    "import matplotlib.pyplot as plt\n",
    "%matplotlib inline\n",
    "print(df[\"sentiment\"].value_counts())\n",
    "df[\"sentiment\"].value_counts().plot(kind = 'bar',\n",
    "                                    title = 'sentiment distribution',      \n",
    "                                    rot = 0, fontsize = 11, figsize = (8,3))\n",
    "plt.show()\n",
    "print(df_sample[\"sentiment\"].value_counts())\n",
    "df_sample[\"sentiment\"].value_counts().plot(kind = 'bar',\n",
    "                                    title = 'sentiment sample distribution',      \n",
    "                                    rot = 0, fontsize = 11, figsize = (8,3))\n",
    "(pd.concat({'df.category_name': df, 'df_sample.category_name':\\\n",
    "            df_sample})\n",
    "   .groupby(level=0)[\"sentiment\"].value_counts()\n",
    "   .unstack(0)\n",
    "   .sort_index(ascending=False)\n",
    "   .plot(kind = 'bar',\n",
    "        title = 'Category distribution',       \n",
    "        rot = 0, fontsize = 11, figsize = (8,6))\n",
    ")"
   ]
  },
  {
   "cell_type": "code",
   "execution_count": 9,
   "metadata": {},
   "outputs": [
    {
     "data": {
      "text/plain": [
       "[['He',\n",
       "  'was',\n",
       "  'a',\n",
       "  'singer',\n",
       "  'with',\n",
       "  'a',\n",
       "  'golden',\n",
       "  'voice',\n",
       "  'that',\n",
       "  'I',\n",
       "  'love',\n",
       "  'to',\n",
       "  'hear',\n",
       "  'all',\n",
       "  'the',\n",
       "  'time',\n",
       "  '.',\n",
       "  'I',\n",
       "  'was',\n",
       "  'his',\n",
       "  'great',\n",
       "  'fan',\n",
       "  'at',\n",
       "  'the',\n",
       "  'age',\n",
       "  'of',\n",
       "  '16years',\n",
       "  'in',\n",
       "  'those',\n",
       "  'days',\n",
       "  'and',\n",
       "  'still',\n",
       "  'now',\n",
       "  '.',\n",
       "  'Although',\n",
       "  'we',\n",
       "  'have',\n",
       "  'many',\n",
       "  'singers',\n",
       "  'now',\n",
       "  ',',\n",
       "  'but',\n",
       "  ',',\n",
       "  'I',\n",
       "  'can',\n",
       "  'vouch',\n",
       "  'for',\n",
       "  'Jim',\n",
       "  'Reeves',\n",
       "  'all',\n",
       "  'the',\n",
       "  'time',\n",
       "  '.',\n",
       "  'You',\n",
       "  'feel',\n",
       "  'relaxed',\n",
       "  ',',\n",
       "  'emotional',\n",
       "  'and',\n",
       "  'loving',\n",
       "  '.',\n",
       "  'Thank',\n",
       "  'you',\n",
       "  'Lord',\n",
       "  'for',\n",
       "  'his',\n",
       "  'life',\n",
       "  '.'],\n",
       " ['The',\n",
       "  'mist',\n",
       "  'beautiful',\n",
       "  'voice',\n",
       "  'ever',\n",
       "  'I',\n",
       "  'listened',\n",
       "  'to',\n",
       "  'him',\n",
       "  'when',\n",
       "  'I',\n",
       "  'was',\n",
       "  'a',\n",
       "  'kid',\n",
       "  'and',\n",
       "  'still',\n",
       "  'love',\n",
       "  'his',\n",
       "  'singing',\n",
       "  'Never',\n",
       "  'forgotten',\n",
       "  'The',\n",
       "  'voice',\n",
       "  'of',\n",
       "  'an',\n",
       "  'angel'],\n",
       " ['I',\n",
       "  'have',\n",
       "  'most',\n",
       "  'of',\n",
       "  'Mr.',\n",
       "  'Reeves',\n",
       "  'songs',\n",
       "  '.',\n",
       "  'Always',\n",
       "  'love',\n",
       "  'his',\n",
       "  'smooth',\n",
       "  'voice',\n",
       "  ',',\n",
       "  'so',\n",
       "  'comforting',\n",
       "  'and',\n",
       "  'sounds',\n",
       "  'like',\n",
       "  'the',\n",
       "  'people',\n",
       "  'I',\n",
       "  'grew',\n",
       "  'up',\n",
       "  'around',\n",
       "  '.',\n",
       "  'They',\n",
       "  'were',\n",
       "  'so',\n",
       "  'gentle',\n",
       "  'and',\n",
       "  'sweet',\n",
       "  ',',\n",
       "  'but',\n",
       "  'I',\n",
       "  'had',\n",
       "  'to',\n",
       "  'leave',\n",
       "  'my',\n",
       "  'little',\n",
       "  'town',\n",
       "  'to',\n",
       "  'find',\n",
       "  'a',\n",
       "  'job',\n",
       "  'at',\n",
       "  'age',\n",
       "  '17',\n",
       "  '.',\n",
       "  'I',\n",
       "  'graduated',\n",
       "  'early',\n",
       "  '.',\n",
       "  'I',\n",
       "  'never',\n",
       "  'forgot',\n",
       "  'how',\n",
       "  'great',\n",
       "  'it',\n",
       "  'was',\n",
       "  'to',\n",
       "  'grow',\n",
       "  'up',\n",
       "  'with',\n",
       "  'simple',\n",
       "  'people',\n",
       "  'who',\n",
       "  'had',\n",
       "  'no',\n",
       "  'pretensions',\n",
       "  '--',\n",
       "  'just',\n",
       "  'loving',\n",
       "  'and',\n",
       "  'gentle',\n",
       "  ',',\n",
       "  'like',\n",
       "  'I',\n",
       "  'think',\n",
       "  'Jesus',\n",
       "  'is',\n",
       "  '.'],\n",
       " ['30',\n",
       "  'day',\n",
       "  'leave',\n",
       "  'from',\n",
       "  '1st',\n",
       "  'tour',\n",
       "  'in',\n",
       "  'Viet',\n",
       "  'Nam',\n",
       "  'to',\n",
       "  'convince',\n",
       "  'my',\n",
       "  'Mary',\n",
       "  'Lou',\n",
       "  'to',\n",
       "  '``',\n",
       "  'marry',\n",
       "  'me',\n",
       "  \"''\",\n",
       "  'when',\n",
       "  'I',\n",
       "  'came',\n",
       "  'back',\n",
       "  'from',\n",
       "  'my',\n",
       "  '2nd',\n",
       "  'tour',\n",
       "  '.',\n",
       "  'Now',\n",
       "  ',',\n",
       "  '47',\n",
       "  'years',\n",
       "  'later',\n",
       "  'this',\n",
       "  'December',\n",
       "  'God',\n",
       "  'granted',\n",
       "  'the',\n",
       "  'greatest',\n",
       "  'blessing',\n",
       "  'a',\n",
       "  'man',\n",
       "  'can',\n",
       "  'receive',\n",
       "  '.',\n",
       "  'This',\n",
       "  'song',\n",
       "  'is',\n",
       "  'for',\n",
       "  'the',\n",
       "  'hope',\n",
       "  'of',\n",
       "  'life',\n",
       "  'all',\n",
       "  'who',\n",
       "  'have',\n",
       "  'served',\n",
       "  'pray',\n",
       "  'for',\n",
       "  'and',\n",
       "  'some',\n",
       "  'are',\n",
       "  'granted',\n",
       "  'that',\n",
       "  'hope',\n",
       "  'to',\n",
       "  'be',\n",
       "  'reality',\n",
       "  '.',\n",
       "  'Thank',\n",
       "  'you',\n",
       "  'my',\n",
       "  'Mary',\n",
       "  'Lou',\n",
       "  '.']]"
      ]
     },
     "execution_count": 9,
     "metadata": {},
     "output_type": "execute_result"
    }
   ],
   "source": [
    "# Feature Creation\n",
    "import nltk\n",
    "df['unigrams'] = df['comment'].apply(lambda x: dmh.tokenize_text(x))\n",
    "list(df[0:4][\"unigrams\"])"
   ]
  },
  {
   "cell_type": "code",
   "execution_count": 10,
   "metadata": {},
   "outputs": [
    {
     "name": "stdout",
     "output_type": "stream",
     "text": [
      "  (0, 1598)\t1\n",
      "  (0, 3570)\t2\n",
      "  (0, 2973)\t1\n",
      "  (0, 3650)\t1\n",
      "  (0, 1470)\t1\n",
      "  (0, 3534)\t1\n",
      "  (0, 3282)\t1\n",
      "  (0, 2028)\t1\n",
      "  (0, 3336)\t1\n",
      "  (0, 1606)\t1\n",
      "  (0, 233)\t2\n",
      "  (0, 3284)\t3\n",
      "  (0, 3328)\t2\n",
      "  (0, 1651)\t2\n",
      "  (0, 1512)\t1\n",
      "  (0, 1249)\t1\n",
      "  (0, 323)\t1\n",
      "  (0, 214)\t1\n",
      "  (0, 2341)\t1\n",
      "  (0, 15)\t1\n",
      "  (0, 1733)\t1\n",
      "  (0, 3304)\t1\n",
      "  (0, 907)\t1\n",
      "  (0, 258)\t2\n",
      "  (0, 3124)\t1\n",
      "  (0, 2328)\t2\n",
      "  (0, 245)\t1\n",
      "  (0, 3581)\t1\n",
      "  (0, 1591)\t1\n",
      "  (0, 2082)\t1\n",
      "  (0, 2974)\t1\n",
      "  (0, 573)\t1\n",
      "  (0, 593)\t1\n",
      "  (0, 3538)\t1\n",
      "  (0, 1347)\t2\n",
      "  (0, 1833)\t1\n",
      "  (0, 2671)\t1\n",
      "  (0, 3713)\t2\n",
      "  (0, 1272)\t1\n",
      "  (0, 2688)\t1\n",
      "  (0, 1125)\t1\n",
      "  (0, 2035)\t1\n",
      "  (0, 3278)\t1\n",
      "  (0, 2018)\t1\n",
      "  (0, 1964)\t1\n",
      "he\n",
      "['am', 'craving', 'for', 'hawaiian', 'pizza', 'right', 'now']\n",
      "[[0 0 0 0 0 0 0 0 0 0 0 0 0 0 0 1 0 0 0 0 0 0 0 0 0 0 0 0 0 0 0 0 0 0 0 0\n",
      "  0 0 0 0 0 0 0 0 0 0 0 0 0 0 0 0 0 0 0 0 0 0 0 0 0 0 0 0 0 0 0 0 0 0 0 0\n",
      "  0 0 0 0 0 0 0 0 0 0 0 0 0 0 0 0 0 0 0 0 0 0 0 0 0 0 0 0]\n",
      " [0 0 0 0 0 0 0 0 0 0 0 0 0 0 0 0 0 0 0 0 0 0 0 0 0 0 0 0 0 0 0 0 0 0 0 0\n",
      "  0 0 0 0 0 0 0 0 0 0 0 0 0 0 0 0 0 0 0 0 0 0 0 0 0 0 0 0 0 0 0 0 0 0 0 0\n",
      "  0 0 0 0 0 0 0 0 0 0 0 0 0 0 0 0 0 0 0 0 0 0 0 0 0 0 0 0]\n",
      " [0 0 0 0 0 0 0 0 0 0 0 0 0 0 0 0 1 0 0 0 0 0 0 0 0 0 0 0 0 0 0 0 0 0 0 0\n",
      "  0 0 0 0 0 0 0 0 0 0 0 0 0 0 0 0 0 0 0 0 0 0 0 0 0 0 0 0 0 0 0 0 0 0 0 0\n",
      "  0 0 0 0 0 0 0 0 0 0 0 0 0 0 0 0 0 0 0 0 0 0 0 0 0 0 0 0]\n",
      " [0 0 0 0 0 0 0 0 0 0 0 0 0 0 0 0 0 0 0 0 0 0 0 0 0 0 0 0 0 0 0 0 0 0 0 0\n",
      "  0 0 0 0 0 0 0 0 0 0 0 0 0 0 0 0 0 0 0 0 0 0 0 0 0 0 1 0 0 0 0 0 0 0 0 0\n",
      "  0 0 0 0 0 0 0 0 0 0 0 0 0 0 0 0 0 0 1 1 0 0 0 0 0 0 0 0]\n",
      " [0 0 0 0 0 0 0 0 0 0 0 0 0 0 0 0 0 0 0 0 0 0 0 0 0 0 0 0 0 0 0 0 0 0 0 0\n",
      "  0 0 0 0 0 0 0 0 0 0 0 0 0 0 0 0 0 0 0 0 0 0 0 0 0 0 0 0 0 0 0 0 0 0 0 0\n",
      "  0 0 0 0 0 0 0 0 0 0 0 0 0 0 0 0 0 0 0 0 0 0 0 0 0 0 0 0]]\n"
     ]
    },
    {
     "data": {
      "image/png": "[encoded data removed]",
      "text/plain": [
       "<Figure size 900x700 with 2 Axes>"
      ]
     },
     "metadata": {},
     "output_type": "display_data"
    }
   ],
   "source": [
    "# Feature subset selection\n",
    "from sklearn.feature_extraction.text import CountVectorizer\n",
    "\n",
    "count_vect = CountVectorizer()\n",
    "df_counts = count_vect.fit_transform(df[\"comment\"]) #learn the vocabulary and return document-term matrix\n",
    "print(df_counts[0])\n",
    "print(count_vect.get_feature_names_out()[1598])\n",
    "analyze = count_vect.build_analyzer()\n",
    "print(analyze(\"I am craving for a hawaiian pizza right now\"))\n",
    "print(df_counts[0:5, 0:100].toarray())\n",
    "\n",
    "import seaborn as sns\n",
    "plot_x = [\"term_\"+str(i) for i in count_vect.get_feature_names_out()[0:20]]\n",
    "plot_y = [\"doc_\"+ str(i) for i in list(df.index)[0:20]]\n",
    "plot_z = df_counts[0:20, 0:20].toarray()\n",
    "df_todraw = pd.DataFrame(plot_z, columns = plot_x, index = plot_y)\n",
    "plt.subplots(figsize=(9, 7))\n",
    "ax = sns.heatmap(df_todraw,\n",
    "                 cmap=\"PuRd\",\n",
    "                 vmin=0, vmax=1, annot=True)\n",
    "plt.show()"
   ]
  },
  {
   "cell_type": "code",
   "execution_count": 11,
   "metadata": {},
   "outputs": [
    {
     "name": "stderr",
     "output_type": "stream",
     "text": [
      "C:\\Users\\dabbie\\AppData\\Local\\Temp\\ipykernel_19304\\419922094.py:11: UserWarning: set_ticklabels() should only be used with a fixed number of ticks, i.e. after set_ticks() or using a FixedLocator.\n",
      "  g.set_xticklabels(count_vect.get_feature_names_out()[:300], rotation = 90)\n"
     ]
    },
    {
     "data": {
      "image/png": "[encoded data removed]",
      "text/plain": [
       "<Figure size 10000x1000 with 1 Axes>"
      ]
     },
     "metadata": {},
     "output_type": "display_data"
    },
    {
     "data": {
      "application/vnd.plotly.v1+json": {
       "config": {
        "plotlyServerURL": "https://plot.ly"
       },
       "data": [
        {
         "alignmentgroup": "True",
         "hovertemplate": "count_vect=%{x}<br>term_frequencies=%{y}<extra></extra>",
         "legendgroup": "",
         "marker": {
          "color": "#636efa",
          "pattern": {
           "shape": ""
          }
         },
         "name": "",
         "offsetgroup": "",
         "orientation": "v",
         "showlegend": false,
         "textposition": "auto",
         "type": "bar",
         "x": [
          "00",
          "000",
          "045",
          "07",
          "10",
          "100",
          "10m",
          "11",
          "11th",
          "12",
          "13",
          "14",
          "15",
          "150",
          "16",
          "16years",
          "17",
          "17th",
          "18",
          "19",
          "1927",
          "1930",
          "1930s",
          "1950",
          "1950s",
          "1952",
          "1954",
          "1955",
          "1956",
          "1957",
          "1958",
          "1960",
          "1960s",
          "1962",
          "1963",
          "1964",
          "1965",
          "1966",
          "1967",
          "1968",
          "1969",
          "1970",
          "1970s",
          "1973",
          "1974",
          "1975",
          "1976",
          "1977",
          "1979",
          "1980",
          "1980s",
          "1981",
          "1985",
          "1987",
          "1988",
          "1989",
          "1990",
          "1992",
          "1993",
          "1996",
          "1997",
          "1998",
          "1st",
          "20",
          "2000s",
          "2002",
          "2006",
          "2009",
          "2010",
          "2014",
          "2015",
          "2016",
          "2017",
          "2018",
          "2019",
          "2040",
          "20s",
          "20th",
          "21",
          "21st",
          "21yr",
          "22",
          "22nd",
          "23",
          "25",
          "26",
          "27",
          "28",
          "29",
          "29th",
          "2nd",
          "30",
          "30s",
          "30th",
          "31",
          "32",
          "34",
          "36",
          "37",
          "3pm",
          "3rd",
          "40",
          "400",
          "40s",
          "40th",
          "40years",
          "40yrs",
          "42",
          "44yr",
          "45",
          "45rpm",
          "45s",
          "46",
          "47",
          "48am",
          "49",
          "4th",
          "50",
          "500",
          "50s",
          "51",
          "53",
          "55",
          "56",
          "57",
          "58",
          "59",
          "5th",
          "60",
          "60s",
          "60th",
          "60yrs",
          "61",
          "62",
          "63",
          "64",
          "66",
          "67",
          "68",
          "6pm",
          "6rtr",
          "6th",
          "70",
          "70s",
          "71",
          "72",
          "73",
          "74",
          "75",
          "76",
          "78",
          "80",
          "80s",
          "82",
          "86",
          "88",
          "89",
          "8th",
          "90",
          "90s",
          "94",
          "95",
          "97",
          "9th",
          "abandant",
          "ability",
          "able",
          "about",
          "above",
          "abroad",
          "absolutely",
          "absorbed",
          "accent",
          "accepting",
          "accident",
          "accurate",
          "acknowledge",
          "across",
          "act",
          "action",
          "actor",
          "actors",
          "actress",
          "actresses",
          "actually",
          "adaline",
          "adam",
          "add",
          "addition",
          "additional",
          "adds",
          "adele",
          "admit",
          "adorable",
          "adore",
          "ads",
          "adult",
          "adults",
          "advance",
          "advice",
          "affair",
          "affluence",
          "afford",
          "affordable",
          "afn",
          "afraid",
          "africa",
          "afro",
          "after",
          "afternoon",
          "afterwards",
          "afterwords",
          "again",
          "against",
          "age",
          "aged",
          "ageless",
          "ages",
          "ago",
          "agree",
          "ah",
          "ahead",
          "ain",
          "aint",
          "air",
          "airport",
          "aisle",
          "alabama",
          "alan",
          "album",
          "albums",
          "alike",
          "alive",
          "all",
          "allergies",
          "allowance",
          "almost",
          "alone",
          "along",
          "alongs",
          "aloud",
          "already",
          "alright",
          "also",
          "alternative",
          "although",
          "always",
          "am",
          "amazing",
          "amazingly",
          "amen",
          "america",
          "american",
          "ames",
          "among",
          "amount",
          "an",
          "ancient",
          "and",
          "angel",
          "angels",
          "angst",
          "anita",
          "anna",
          "anniversary",
          "announcement",
          "annoying",
          "another",
          "answer",
          "anthony",
          "anti",
          "any",
          "anybody",
          "anymore",
          "anyone",
          "anything",
          "anytime",
          "anyway",
          "apart",
          "apc",
          "apologies",
          "apologize",
          "apparent",
          "apparently",
          "appeals",
          "appear",
          "appearances",
          "appeared",
          "appears",
          "apply",
          "appreciate",
          "appreciated",
          "appreciation",
          "april",
          "apropos",
          "apt",
          "are",
          "aren",
          "arm",
          "arms"
         ],
         "xaxis": "x",
         "y": [
          1,
          2,
          1,
          2,
          16,
          5,
          1,
          8,
          1,
          11,
          8,
          15,
          10,
          2,
          12,
          1,
          13,
          1,
          9,
          6,
          1,
          1,
          1,
          1,
          3,
          2,
          4,
          1,
          1,
          1,
          2,
          5,
          3,
          2,
          12,
          1,
          3,
          10,
          3,
          2,
          2,
          5,
          3,
          7,
          2,
          1,
          4,
          3,
          2,
          7,
          1,
          2,
          2,
          4,
          6,
          2,
          1,
          1,
          1,
          1,
          1,
          2,
          5,
          11,
          1,
          1,
          2,
          2,
          1,
          1,
          2,
          2,
          1,
          8,
          25,
          1,
          1,
          1,
          3,
          1,
          1,
          2,
          1,
          1,
          4,
          1,
          3,
          3,
          3,
          1,
          2,
          11,
          1,
          2,
          2,
          2,
          1,
          1,
          1,
          1,
          1,
          13,
          1,
          1,
          2,
          1,
          1,
          2,
          1,
          4,
          1,
          2,
          1,
          5,
          1,
          1,
          1,
          20,
          1,
          7,
          1,
          3,
          4,
          2,
          3,
          2,
          2,
          1,
          28,
          20,
          1,
          1,
          1,
          3,
          2,
          2,
          2,
          4,
          1,
          1,
          1,
          2,
          24,
          17,
          2,
          1,
          3,
          1,
          1,
          3,
          1,
          19,
          16,
          1,
          1,
          1,
          1,
          1,
          6,
          6,
          2,
          1,
          1,
          1,
          1,
          1,
          9,
          82,
          2,
          1,
          14,
          1,
          1,
          1,
          2,
          1,
          1,
          3,
          1,
          1,
          1,
          2,
          4,
          1,
          11,
          1,
          1,
          3,
          1,
          1,
          1,
          1,
          3,
          1,
          3,
          1,
          3,
          2,
          2,
          1,
          1,
          1,
          1,
          1,
          1,
          2,
          1,
          2,
          47,
          3,
          1,
          1,
          55,
          3,
          35,
          3,
          1,
          2,
          46,
          7,
          2,
          2,
          4,
          1,
          2,
          1,
          1,
          1,
          1,
          10,
          3,
          1,
          9,
          181,
          1,
          1,
          17,
          4,
          14,
          1,
          1,
          7,
          1,
          18,
          1,
          8,
          127,
          94,
          32,
          3,
          2,
          3,
          2,
          3,
          3,
          2,
          71,
          1,
          923,
          10,
          1,
          1,
          1,
          1,
          1,
          1,
          1,
          26,
          1,
          1,
          1,
          26,
          7,
          22,
          22,
          9,
          3,
          2,
          3,
          1,
          1,
          1,
          1,
          2,
          1,
          2,
          1,
          2,
          1,
          1,
          10,
          4,
          2,
          2,
          1,
          1,
          103,
          4,
          2,
          2
         ],
         "yaxis": "y"
        }
       ],
       "layout": {
        "barmode": "relative",
        "legend": {
         "tracegroupgap": 0
        },
        "margin": {
         "t": 60
        },
        "template": {
         "data": {
          "bar": [
           {
            "error_x": {
             "color": "#2a3f5f"
            },
            "error_y": {
             "color": "#2a3f5f"
            },
            "marker": {
             "line": {
              "color": "#E5ECF6",
              "width": 0.5
             },
             "pattern": {
              "fillmode": "overlay",
              "size": 10,
              "solidity": 0.2
             }
            },
            "type": "bar"
           }
          ],
          "barpolar": [
           {
            "marker": {
             "line": {
              "color": "#E5ECF6",
              "width": 0.5
             },
             "pattern": {
              "fillmode": "overlay",
              "size": 10,
              "solidity": 0.2
             }
            },
            "type": "barpolar"
           }
          ],
          "carpet": [
           {
            "aaxis": {
             "endlinecolor": "#2a3f5f",
             "gridcolor": "white",
             "linecolor": "white",
             "minorgridcolor": "white",
             "startlinecolor": "#2a3f5f"
            },
            "baxis": {
             "endlinecolor": "#2a3f5f",
             "gridcolor": "white",
             "linecolor": "white",
             "minorgridcolor": "white",
             "startlinecolor": "#2a3f5f"
            },
            "type": "carpet"
           }
          ],
          "choropleth": [
           {
            "colorbar": {
             "outlinewidth": 0,
             "ticks": ""
            },
            "type": "choropleth"
           }
          ],
          "contour": [
           {
            "colorbar": {
             "outlinewidth": 0,
             "ticks": ""
            },
            "colorscale": [
             [
              0,
              "#0d0887"
             ],
             [
              0.1111111111111111,
              "#46039f"
             ],
             [
              0.2222222222222222,
              "#7201a8"
             ],
             [
              0.3333333333333333,
              "#9c179e"
             ],
             [
              0.4444444444444444,
              "#bd3786"
             ],
             [
              0.5555555555555556,
              "#d8576b"
             ],
             [
              0.6666666666666666,
              "#ed7953"
             ],
             [
              0.7777777777777778,
              "#fb9f3a"
             ],
             [
              0.8888888888888888,
              "#fdca26"
             ],
             [
              1,
              "#f0f921"
             ]
            ],
            "type": "contour"
           }
          ],
          "contourcarpet": [
           {
            "colorbar": {
             "outlinewidth": 0,
             "ticks": ""
            },
            "type": "contourcarpet"
           }
          ],
          "heatmap": [
           {
            "colorbar": {
             "outlinewidth": 0,
             "ticks": ""
            },
            "colorscale": [
             [
              0,
              "#0d0887"
             ],
             [
              0.1111111111111111,
              "#46039f"
             ],
             [
              0.2222222222222222,
              "#7201a8"
             ],
             [
              0.3333333333333333,
              "#9c179e"
             ],
             [
              0.4444444444444444,
              "#bd3786"
             ],
             [
              0.5555555555555556,
              "#d8576b"
             ],
             [
              0.6666666666666666,
              "#ed7953"
             ],
             [
              0.7777777777777778,
              "#fb9f3a"
             ],
             [
              0.8888888888888888,
              "#fdca26"
             ],
             [
              1,
              "#f0f921"
             ]
            ],
            "type": "heatmap"
           }
          ],
          "heatmapgl": [
           {
            "colorbar": {
             "outlinewidth": 0,
             "ticks": ""
            },
            "colorscale": [
             [
              0,
              "#0d0887"
             ],
             [
              0.1111111111111111,
              "#46039f"
             ],
             [
              0.2222222222222222,
              "#7201a8"
             ],
             [
              0.3333333333333333,
              "#9c179e"
             ],
             [
              0.4444444444444444,
              "#bd3786"
             ],
             [
              0.5555555555555556,
              "#d8576b"
             ],
             [
              0.6666666666666666,
              "#ed7953"
             ],
             [
              0.7777777777777778,
              "#fb9f3a"
             ],
             [
              0.8888888888888888,
              "#fdca26"
             ],
             [
              1,
              "#f0f921"
             ]
            ],
            "type": "heatmapgl"
           }
          ],
          "histogram": [
           {
            "marker": {
             "pattern": {
              "fillmode": "overlay",
              "size": 10,
              "solidity": 0.2
             }
            },
            "type": "histogram"
           }
          ],
          "histogram2d": [
           {
            "colorbar": {
             "outlinewidth": 0,
             "ticks": ""
            },
            "colorscale": [
             [
              0,
              "#0d0887"
             ],
             [
              0.1111111111111111,
              "#46039f"
             ],
             [
              0.2222222222222222,
              "#7201a8"
             ],
             [
              0.3333333333333333,
              "#9c179e"
             ],
             [
              0.4444444444444444,
              "#bd3786"
             ],
             [
              0.5555555555555556,
              "#d8576b"
             ],
             [
              0.6666666666666666,
              "#ed7953"
             ],
             [
              0.7777777777777778,
              "#fb9f3a"
             ],
             [
              0.8888888888888888,
              "#fdca26"
             ],
             [
              1,
              "#f0f921"
             ]
            ],
            "type": "histogram2d"
           }
          ],
          "histogram2dcontour": [
           {
            "colorbar": {
             "outlinewidth": 0,
             "ticks": ""
            },
            "colorscale": [
             [
              0,
              "#0d0887"
             ],
             [
              0.1111111111111111,
              "#46039f"
             ],
             [
              0.2222222222222222,
              "#7201a8"
             ],
             [
              0.3333333333333333,
              "#9c179e"
             ],
             [
              0.4444444444444444,
              "#bd3786"
             ],
             [
              0.5555555555555556,
              "#d8576b"
             ],
             [
              0.6666666666666666,
              "#ed7953"
             ],
             [
              0.7777777777777778,
              "#fb9f3a"
             ],
             [
              0.8888888888888888,
              "#fdca26"
             ],
             [
              1,
              "#f0f921"
             ]
            ],
            "type": "histogram2dcontour"
           }
          ],
          "mesh3d": [
           {
            "colorbar": {
             "outlinewidth": 0,
             "ticks": ""
            },
            "type": "mesh3d"
           }
          ],
          "parcoords": [
           {
            "line": {
             "colorbar": {
              "outlinewidth": 0,
              "ticks": ""
             }
            },
            "type": "parcoords"
           }
          ],
          "pie": [
           {
            "automargin": true,
            "type": "pie"
           }
          ],
          "scatter": [
           {
            "fillpattern": {
             "fillmode": "overlay",
             "size": 10,
             "solidity": 0.2
            },
            "type": "scatter"
           }
          ],
          "scatter3d": [
           {
            "line": {
             "colorbar": {
              "outlinewidth": 0,
              "ticks": ""
             }
            },
            "marker": {
             "colorbar": {
              "outlinewidth": 0,
              "ticks": ""
             }
            },
            "type": "scatter3d"
           }
          ],
          "scattercarpet": [
           {
            "marker": {
             "colorbar": {
              "outlinewidth": 0,
              "ticks": ""
             }
            },
            "type": "scattercarpet"
           }
          ],
          "scattergeo": [
           {
            "marker": {
             "colorbar": {
              "outlinewidth": 0,
              "ticks": ""
             }
            },
            "type": "scattergeo"
           }
          ],
          "scattergl": [
           {
            "marker": {
             "colorbar": {
              "outlinewidth": 0,
              "ticks": ""
             }
            },
            "type": "scattergl"
           }
          ],
          "scattermapbox": [
           {
            "marker": {
             "colorbar": {
              "outlinewidth": 0,
              "ticks": ""
             }
            },
            "type": "scattermapbox"
           }
          ],
          "scatterpolar": [
           {
            "marker": {
             "colorbar": {
              "outlinewidth": 0,
              "ticks": ""
             }
            },
            "type": "scatterpolar"
           }
          ],
          "scatterpolargl": [
           {
            "marker": {
             "colorbar": {
              "outlinewidth": 0,
              "ticks": ""
             }
            },
            "type": "scatterpolargl"
           }
          ],
          "scatterternary": [
           {
            "marker": {
             "colorbar": {
              "outlinewidth": 0,
              "ticks": ""
             }
            },
            "type": "scatterternary"
           }
          ],
          "surface": [
           {
            "colorbar": {
             "outlinewidth": 0,
             "ticks": ""
            },
            "colorscale": [
             [
              0,
              "#0d0887"
             ],
             [
              0.1111111111111111,
              "#46039f"
             ],
             [
              0.2222222222222222,
              "#7201a8"
             ],
             [
              0.3333333333333333,
              "#9c179e"
             ],
             [
              0.4444444444444444,
              "#bd3786"
             ],
             [
              0.5555555555555556,
              "#d8576b"
             ],
             [
              0.6666666666666666,
              "#ed7953"
             ],
             [
              0.7777777777777778,
              "#fb9f3a"
             ],
             [
              0.8888888888888888,
              "#fdca26"
             ],
             [
              1,
              "#f0f921"
             ]
            ],
            "type": "surface"
           }
          ],
          "table": [
           {
            "cells": {
             "fill": {
              "color": "#EBF0F8"
             },
             "line": {
              "color": "white"
             }
            },
            "header": {
             "fill": {
              "color": "#C8D4E3"
             },
             "line": {
              "color": "white"
             }
            },
            "type": "table"
           }
          ]
         },
         "layout": {
          "annotationdefaults": {
           "arrowcolor": "#2a3f5f",
           "arrowhead": 0,
           "arrowwidth": 1
          },
          "autotypenumbers": "strict",
          "coloraxis": {
           "colorbar": {
            "outlinewidth": 0,
            "ticks": ""
           }
          },
          "colorscale": {
           "diverging": [
            [
             0,
             "#8e0152"
            ],
            [
             0.1,
             "#c51b7d"
            ],
            [
             0.2,
             "#de77ae"
            ],
            [
             0.3,
             "#f1b6da"
            ],
            [
             0.4,
             "#fde0ef"
            ],
            [
             0.5,
             "#f7f7f7"
            ],
            [
             0.6,
             "#e6f5d0"
            ],
            [
             0.7,
             "#b8e186"
            ],
            [
             0.8,
             "#7fbc41"
            ],
            [
             0.9,
             "#4d9221"
            ],
            [
             1,
             "#276419"
            ]
           ],
           "sequential": [
            [
             0,
             "#0d0887"
            ],
            [
             0.1111111111111111,
             "#46039f"
            ],
            [
             0.2222222222222222,
             "#7201a8"
            ],
            [
             0.3333333333333333,
             "#9c179e"
            ],
            [
             0.4444444444444444,
             "#bd3786"
            ],
            [
             0.5555555555555556,
             "#d8576b"
            ],
            [
             0.6666666666666666,
             "#ed7953"
            ],
            [
             0.7777777777777778,
             "#fb9f3a"
            ],
            [
             0.8888888888888888,
             "#fdca26"
            ],
            [
             1,
             "#f0f921"
            ]
           ],
           "sequentialminus": [
            [
             0,
             "#0d0887"
            ],
            [
             0.1111111111111111,
             "#46039f"
            ],
            [
             0.2222222222222222,
             "#7201a8"
            ],
            [
             0.3333333333333333,
             "#9c179e"
            ],
            [
             0.4444444444444444,
             "#bd3786"
            ],
            [
             0.5555555555555556,
             "#d8576b"
            ],
            [
             0.6666666666666666,
             "#ed7953"
            ],
            [
             0.7777777777777778,
             "#fb9f3a"
            ],
            [
             0.8888888888888888,
             "#fdca26"
            ],
            [
             1,
             "#f0f921"
            ]
           ]
          },
          "colorway": [
           "#636efa",
           "#EF553B",
           "#00cc96",
           "#ab63fa",
           "#FFA15A",
           "#19d3f3",
           "#FF6692",
           "#B6E880",
           "#FF97FF",
           "#FECB52"
          ],
          "font": {
           "color": "#2a3f5f"
          },
          "geo": {
           "bgcolor": "white",
           "lakecolor": "white",
           "landcolor": "#E5ECF6",
           "showlakes": true,
           "showland": true,
           "subunitcolor": "white"
          },
          "hoverlabel": {
           "align": "left"
          },
          "hovermode": "closest",
          "mapbox": {
           "style": "light"
          },
          "paper_bgcolor": "white",
          "plot_bgcolor": "#E5ECF6",
          "polar": {
           "angularaxis": {
            "gridcolor": "white",
            "linecolor": "white",
            "ticks": ""
           },
           "bgcolor": "#E5ECF6",
           "radialaxis": {
            "gridcolor": "white",
            "linecolor": "white",
            "ticks": ""
           }
          },
          "scene": {
           "xaxis": {
            "backgroundcolor": "#E5ECF6",
            "gridcolor": "white",
            "gridwidth": 2,
            "linecolor": "white",
            "showbackground": true,
            "ticks": "",
            "zerolinecolor": "white"
           },
           "yaxis": {
            "backgroundcolor": "#E5ECF6",
            "gridcolor": "white",
            "gridwidth": 2,
            "linecolor": "white",
            "showbackground": true,
            "ticks": "",
            "zerolinecolor": "white"
           },
           "zaxis": {
            "backgroundcolor": "#E5ECF6",
            "gridcolor": "white",
            "gridwidth": 2,
            "linecolor": "white",
            "showbackground": true,
            "ticks": "",
            "zerolinecolor": "white"
           }
          },
          "shapedefaults": {
           "line": {
            "color": "#2a3f5f"
           }
          },
          "ternary": {
           "aaxis": {
            "gridcolor": "white",
            "linecolor": "white",
            "ticks": ""
           },
           "baxis": {
            "gridcolor": "white",
            "linecolor": "white",
            "ticks": ""
           },
           "bgcolor": "#E5ECF6",
           "caxis": {
            "gridcolor": "white",
            "linecolor": "white",
            "ticks": ""
           }
          },
          "title": {
           "x": 0.05
          },
          "xaxis": {
           "automargin": true,
           "gridcolor": "white",
           "linecolor": "white",
           "ticks": "",
           "title": {
            "standoff": 15
           },
           "zerolinecolor": "white",
           "zerolinewidth": 2
          },
          "yaxis": {
           "automargin": true,
           "gridcolor": "white",
           "linecolor": "white",
           "ticks": "",
           "title": {
            "standoff": 15
           },
           "zerolinecolor": "white",
           "zerolinewidth": 2
          }
         }
        },
        "xaxis": {
         "anchor": "y",
         "domain": [
          0,
          1
         ],
         "title": {
          "text": "count_vect"
         }
        },
        "yaxis": {
         "anchor": "x",
         "domain": [
          0,
          1
         ],
         "title": {
          "text": "term_frequencies"
         }
        }
       }
      }
     },
     "metadata": {},
     "output_type": "display_data"
    },
    {
     "data": {
      "application/vnd.plotly.v1+json": {
       "config": {
        "plotlyServerURL": "https://plot.ly"
       },
       "data": [
        {
         "alignmentgroup": "True",
         "hovertemplate": "count_vect=%{x}<br>term_frequencies=%{y}<extra></extra>",
         "legendgroup": "",
         "marker": {
          "color": "#636efa",
          "pattern": {
           "shape": ""
          }
         },
         "name": "",
         "offsetgroup": "",
         "orientation": "v",
         "showlegend": false,
         "textposition": "auto",
         "type": "bar",
         "x": [
          "and",
          "in",
          "it",
          "my",
          "of",
          "song",
          "the",
          "this",
          "to",
          "was"
         ],
         "xaxis": "x",
         "y": [
          923,
          612,
          586,
          765,
          722,
          747,
          1351,
          996,
          937,
          584
         ],
         "yaxis": "y"
        }
       ],
       "layout": {
        "barmode": "relative",
        "legend": {
         "tracegroupgap": 0
        },
        "margin": {
         "t": 60
        },
        "template": {
         "data": {
          "bar": [
           {
            "error_x": {
             "color": "#2a3f5f"
            },
            "error_y": {
             "color": "#2a3f5f"
            },
            "marker": {
             "line": {
              "color": "#E5ECF6",
              "width": 0.5
             },
             "pattern": {
              "fillmode": "overlay",
              "size": 10,
              "solidity": 0.2
             }
            },
            "type": "bar"
           }
          ],
          "barpolar": [
           {
            "marker": {
             "line": {
              "color": "#E5ECF6",
              "width": 0.5
             },
             "pattern": {
              "fillmode": "overlay",
              "size": 10,
              "solidity": 0.2
             }
            },
            "type": "barpolar"
           }
          ],
          "carpet": [
           {
            "aaxis": {
             "endlinecolor": "#2a3f5f",
             "gridcolor": "white",
             "linecolor": "white",
             "minorgridcolor": "white",
             "startlinecolor": "#2a3f5f"
            },
            "baxis": {
             "endlinecolor": "#2a3f5f",
             "gridcolor": "white",
             "linecolor": "white",
             "minorgridcolor": "white",
             "startlinecolor": "#2a3f5f"
            },
            "type": "carpet"
           }
          ],
          "choropleth": [
           {
            "colorbar": {
             "outlinewidth": 0,
             "ticks": ""
            },
            "type": "choropleth"
           }
          ],
          "contour": [
           {
            "colorbar": {
             "outlinewidth": 0,
             "ticks": ""
            },
            "colorscale": [
             [
              0,
              "#0d0887"
             ],
             [
              0.1111111111111111,
              "#46039f"
             ],
             [
              0.2222222222222222,
              "#7201a8"
             ],
             [
              0.3333333333333333,
              "#9c179e"
             ],
             [
              0.4444444444444444,
              "#bd3786"
             ],
             [
              0.5555555555555556,
              "#d8576b"
             ],
             [
              0.6666666666666666,
              "#ed7953"
             ],
             [
              0.7777777777777778,
              "#fb9f3a"
             ],
             [
              0.8888888888888888,
              "#fdca26"
             ],
             [
              1,
              "#f0f921"
             ]
            ],
            "type": "contour"
           }
          ],
          "contourcarpet": [
           {
            "colorbar": {
             "outlinewidth": 0,
             "ticks": ""
            },
            "type": "contourcarpet"
           }
          ],
          "heatmap": [
           {
            "colorbar": {
             "outlinewidth": 0,
             "ticks": ""
            },
            "colorscale": [
             [
              0,
              "#0d0887"
             ],
             [
              0.1111111111111111,
              "#46039f"
             ],
             [
              0.2222222222222222,
              "#7201a8"
             ],
             [
              0.3333333333333333,
              "#9c179e"
             ],
             [
              0.4444444444444444,
              "#bd3786"
             ],
             [
              0.5555555555555556,
              "#d8576b"
             ],
             [
              0.6666666666666666,
              "#ed7953"
             ],
             [
              0.7777777777777778,
              "#fb9f3a"
             ],
             [
              0.8888888888888888,
              "#fdca26"
             ],
             [
              1,
              "#f0f921"
             ]
            ],
            "type": "heatmap"
           }
          ],
          "heatmapgl": [
           {
            "colorbar": {
             "outlinewidth": 0,
             "ticks": ""
            },
            "colorscale": [
             [
              0,
              "#0d0887"
             ],
             [
              0.1111111111111111,
              "#46039f"
             ],
             [
              0.2222222222222222,
              "#7201a8"
             ],
             [
              0.3333333333333333,
              "#9c179e"
             ],
             [
              0.4444444444444444,
              "#bd3786"
             ],
             [
              0.5555555555555556,
              "#d8576b"
             ],
             [
              0.6666666666666666,
              "#ed7953"
             ],
             [
              0.7777777777777778,
              "#fb9f3a"
             ],
             [
              0.8888888888888888,
              "#fdca26"
             ],
             [
              1,
              "#f0f921"
             ]
            ],
            "type": "heatmapgl"
           }
          ],
          "histogram": [
           {
            "marker": {
             "pattern": {
              "fillmode": "overlay",
              "size": 10,
              "solidity": 0.2
             }
            },
            "type": "histogram"
           }
          ],
          "histogram2d": [
           {
            "colorbar": {
             "outlinewidth": 0,
             "ticks": ""
            },
            "colorscale": [
             [
              0,
              "#0d0887"
             ],
             [
              0.1111111111111111,
              "#46039f"
             ],
             [
              0.2222222222222222,
              "#7201a8"
             ],
             [
              0.3333333333333333,
              "#9c179e"
             ],
             [
              0.4444444444444444,
              "#bd3786"
             ],
             [
              0.5555555555555556,
              "#d8576b"
             ],
             [
              0.6666666666666666,
              "#ed7953"
             ],
             [
              0.7777777777777778,
              "#fb9f3a"
             ],
             [
              0.8888888888888888,
              "#fdca26"
             ],
             [
              1,
              "#f0f921"
             ]
            ],
            "type": "histogram2d"
           }
          ],
          "histogram2dcontour": [
           {
            "colorbar": {
             "outlinewidth": 0,
             "ticks": ""
            },
            "colorscale": [
             [
              0,
              "#0d0887"
             ],
             [
              0.1111111111111111,
              "#46039f"
             ],
             [
              0.2222222222222222,
              "#7201a8"
             ],
             [
              0.3333333333333333,
              "#9c179e"
             ],
             [
              0.4444444444444444,
              "#bd3786"
             ],
             [
              0.5555555555555556,
              "#d8576b"
             ],
             [
              0.6666666666666666,
              "#ed7953"
             ],
             [
              0.7777777777777778,
              "#fb9f3a"
             ],
             [
              0.8888888888888888,
              "#fdca26"
             ],
             [
              1,
              "#f0f921"
             ]
            ],
            "type": "histogram2dcontour"
           }
          ],
          "mesh3d": [
           {
            "colorbar": {
             "outlinewidth": 0,
             "ticks": ""
            },
            "type": "mesh3d"
           }
          ],
          "parcoords": [
           {
            "line": {
             "colorbar": {
              "outlinewidth": 0,
              "ticks": ""
             }
            },
            "type": "parcoords"
           }
          ],
          "pie": [
           {
            "automargin": true,
            "type": "pie"
           }
          ],
          "scatter": [
           {
            "fillpattern": {
             "fillmode": "overlay",
             "size": 10,
             "solidity": 0.2
            },
            "type": "scatter"
           }
          ],
          "scatter3d": [
           {
            "line": {
             "colorbar": {
              "outlinewidth": 0,
              "ticks": ""
             }
            },
            "marker": {
             "colorbar": {
              "outlinewidth": 0,
              "ticks": ""
             }
            },
            "type": "scatter3d"
           }
          ],
          "scattercarpet": [
           {
            "marker": {
             "colorbar": {
              "outlinewidth": 0,
              "ticks": ""
             }
            },
            "type": "scattercarpet"
           }
          ],
          "scattergeo": [
           {
            "marker": {
             "colorbar": {
              "outlinewidth": 0,
              "ticks": ""
             }
            },
            "type": "scattergeo"
           }
          ],
          "scattergl": [
           {
            "marker": {
             "colorbar": {
              "outlinewidth": 0,
              "ticks": ""
             }
            },
            "type": "scattergl"
           }
          ],
          "scattermapbox": [
           {
            "marker": {
             "colorbar": {
              "outlinewidth": 0,
              "ticks": ""
             }
            },
            "type": "scattermapbox"
           }
          ],
          "scatterpolar": [
           {
            "marker": {
             "colorbar": {
              "outlinewidth": 0,
              "ticks": ""
             }
            },
            "type": "scatterpolar"
           }
          ],
          "scatterpolargl": [
           {
            "marker": {
             "colorbar": {
              "outlinewidth": 0,
              "ticks": ""
             }
            },
            "type": "scatterpolargl"
           }
          ],
          "scatterternary": [
           {
            "marker": {
             "colorbar": {
              "outlinewidth": 0,
              "ticks": ""
             }
            },
            "type": "scatterternary"
           }
          ],
          "surface": [
           {
            "colorbar": {
             "outlinewidth": 0,
             "ticks": ""
            },
            "colorscale": [
             [
              0,
              "#0d0887"
             ],
             [
              0.1111111111111111,
              "#46039f"
             ],
             [
              0.2222222222222222,
              "#7201a8"
             ],
             [
              0.3333333333333333,
              "#9c179e"
             ],
             [
              0.4444444444444444,
              "#bd3786"
             ],
             [
              0.5555555555555556,
              "#d8576b"
             ],
             [
              0.6666666666666666,
              "#ed7953"
             ],
             [
              0.7777777777777778,
              "#fb9f3a"
             ],
             [
              0.8888888888888888,
              "#fdca26"
             ],
             [
              1,
              "#f0f921"
             ]
            ],
            "type": "surface"
           }
          ],
          "table": [
           {
            "cells": {
             "fill": {
              "color": "#EBF0F8"
             },
             "line": {
              "color": "white"
             }
            },
            "header": {
             "fill": {
              "color": "#C8D4E3"
             },
             "line": {
              "color": "white"
             }
            },
            "type": "table"
           }
          ]
         },
         "layout": {
          "annotationdefaults": {
           "arrowcolor": "#2a3f5f",
           "arrowhead": 0,
           "arrowwidth": 1
          },
          "autotypenumbers": "strict",
          "coloraxis": {
           "colorbar": {
            "outlinewidth": 0,
            "ticks": ""
           }
          },
          "colorscale": {
           "diverging": [
            [
             0,
             "#8e0152"
            ],
            [
             0.1,
             "#c51b7d"
            ],
            [
             0.2,
             "#de77ae"
            ],
            [
             0.3,
             "#f1b6da"
            ],
            [
             0.4,
             "#fde0ef"
            ],
            [
             0.5,
             "#f7f7f7"
            ],
            [
             0.6,
             "#e6f5d0"
            ],
            [
             0.7,
             "#b8e186"
            ],
            [
             0.8,
             "#7fbc41"
            ],
            [
             0.9,
             "#4d9221"
            ],
            [
             1,
             "#276419"
            ]
           ],
           "sequential": [
            [
             0,
             "#0d0887"
            ],
            [
             0.1111111111111111,
             "#46039f"
            ],
            [
             0.2222222222222222,
             "#7201a8"
            ],
            [
             0.3333333333333333,
             "#9c179e"
            ],
            [
             0.4444444444444444,
             "#bd3786"
            ],
            [
             0.5555555555555556,
             "#d8576b"
            ],
            [
             0.6666666666666666,
             "#ed7953"
            ],
            [
             0.7777777777777778,
             "#fb9f3a"
            ],
            [
             0.8888888888888888,
             "#fdca26"
            ],
            [
             1,
             "#f0f921"
            ]
           ],
           "sequentialminus": [
            [
             0,
             "#0d0887"
            ],
            [
             0.1111111111111111,
             "#46039f"
            ],
            [
             0.2222222222222222,
             "#7201a8"
            ],
            [
             0.3333333333333333,
             "#9c179e"
            ],
            [
             0.4444444444444444,
             "#bd3786"
            ],
            [
             0.5555555555555556,
             "#d8576b"
            ],
            [
             0.6666666666666666,
             "#ed7953"
            ],
            [
             0.7777777777777778,
             "#fb9f3a"
            ],
            [
             0.8888888888888888,
             "#fdca26"
            ],
            [
             1,
             "#f0f921"
            ]
           ]
          },
          "colorway": [
           "#636efa",
           "#EF553B",
           "#00cc96",
           "#ab63fa",
           "#FFA15A",
           "#19d3f3",
           "#FF6692",
           "#B6E880",
           "#FF97FF",
           "#FECB52"
          ],
          "font": {
           "color": "#2a3f5f"
          },
          "geo": {
           "bgcolor": "white",
           "lakecolor": "white",
           "landcolor": "#E5ECF6",
           "showlakes": true,
           "showland": true,
           "subunitcolor": "white"
          },
          "hoverlabel": {
           "align": "left"
          },
          "hovermode": "closest",
          "mapbox": {
           "style": "light"
          },
          "paper_bgcolor": "white",
          "plot_bgcolor": "#E5ECF6",
          "polar": {
           "angularaxis": {
            "gridcolor": "white",
            "linecolor": "white",
            "ticks": ""
           },
           "bgcolor": "#E5ECF6",
           "radialaxis": {
            "gridcolor": "white",
            "linecolor": "white",
            "ticks": ""
           }
          },
          "scene": {
           "xaxis": {
            "backgroundcolor": "#E5ECF6",
            "gridcolor": "white",
            "gridwidth": 2,
            "linecolor": "white",
            "showbackground": true,
            "ticks": "",
            "zerolinecolor": "white"
           },
           "yaxis": {
            "backgroundcolor": "#E5ECF6",
            "gridcolor": "white",
            "gridwidth": 2,
            "linecolor": "white",
            "showbackground": true,
            "ticks": "",
            "zerolinecolor": "white"
           },
           "zaxis": {
            "backgroundcolor": "#E5ECF6",
            "gridcolor": "white",
            "gridwidth": 2,
            "linecolor": "white",
            "showbackground": true,
            "ticks": "",
            "zerolinecolor": "white"
           }
          },
          "shapedefaults": {
           "line": {
            "color": "#2a3f5f"
           }
          },
          "ternary": {
           "aaxis": {
            "gridcolor": "white",
            "linecolor": "white",
            "ticks": ""
           },
           "baxis": {
            "gridcolor": "white",
            "linecolor": "white",
            "ticks": ""
           },
           "bgcolor": "#E5ECF6",
           "caxis": {
            "gridcolor": "white",
            "linecolor": "white",
            "ticks": ""
           }
          },
          "title": {
           "x": 0.05
          },
          "xaxis": {
           "automargin": true,
           "gridcolor": "white",
           "linecolor": "white",
           "ticks": "",
           "title": {
            "standoff": 15
           },
           "zerolinecolor": "white",
           "zerolinewidth": 2
          },
          "yaxis": {
           "automargin": true,
           "gridcolor": "white",
           "linecolor": "white",
           "ticks": "",
           "title": {
            "standoff": 15
           },
           "zerolinecolor": "white",
           "zerolinewidth": 2
          }
         }
        },
        "xaxis": {
         "anchor": "y",
         "categoryorder": "total descending",
         "domain": [
          0,
          1
         ],
         "title": {
          "text": "count_vect"
         }
        },
        "yaxis": {
         "anchor": "x",
         "domain": [
          0,
          1
         ],
         "title": {
          "text": "term_frequencies"
         }
        }
       }
      }
     },
     "metadata": {},
     "output_type": "display_data"
    }
   ],
   "source": [
    "# Attribute Transformation / Aggregation\n",
    "import numpy as np\n",
    "term_frequencies = []\n",
    "for j in range(0,df_counts.shape[1]):\n",
    "    term_frequencies.append(sum(df_counts[:,j].toarray()))\n",
    "term_frequencies = np.asarray(df_counts.sum(axis=0))[0]\n",
    "\n",
    "plt.subplots(figsize=(100, 10))\n",
    "g = sns.barplot(x=count_vect.get_feature_names_out()[:300], \n",
    "            y=term_frequencies[:300])\n",
    "g.set_xticklabels(count_vect.get_feature_names_out()[:300], rotation = 90)\n",
    "plt.show()\n",
    "\n",
    "import plotly.express as px\n",
    "import pandas as pd\n",
    "d = pd.DataFrame(dict(\n",
    "    count_vect = count_vect.get_feature_names_out()[:300],\n",
    "    term_frequencies = term_frequencies[:300]))\n",
    "\n",
    "fig = px.bar(d, x = 'count_vect', y = 'term_frequencies')\n",
    "fig.show()\n",
    "\n",
    "x=[];y=[]\n",
    "for i in range(term_frequencies.shape[0]):\n",
    "    if term_frequencies[i]>500:\n",
    "       x=np.concatenate([x,count_vect.get_feature_names_out()[i:i+1]])\n",
    "       y=np.concatenate([y,term_frequencies[i:i+1]])\n",
    "d = pd.DataFrame(dict(\n",
    "    count_vect = x,\n",
    "    term_frequencies = y))\n",
    "fig = px.bar(d, x = 'count_vect', y = 'term_frequencies')\n",
    "fig.update_xaxes(categoryorder='total descending')\n",
    "fig.show()"
   ]
  },
  {
   "cell_type": "code",
   "execution_count": 12,
   "metadata": {},
   "outputs": [
    {
     "name": "stdout",
     "output_type": "stream",
     "text": [
      "Filtered Term-Document Frequency DataFrame for Category not nostalgia:\n",
      "     00  000  045  10  100  10m  11  12  14  15  ...  youngest  youngsters  \\\n",
      "0     0    0    0   0    0    0   0   0   0   0  ...         0           0   \n",
      "1     0    0    0   0    0    0   0   0   0   0  ...         0           0   \n",
      "2     0    0    0   0    0    0   0   0   0   0  ...         0           0   \n",
      "3     0    0    0   0    0    0   0   0   0   0  ...         0           0   \n",
      "4     0    0    0   0    0    0   0   0   0   0  ...         0           0   \n",
      "..   ..  ...  ...  ..  ...  ...  ..  ..  ..  ..  ...       ...         ...   \n",
      "743   0    0    0   0    0    0   0   0   0   0  ...         0           0   \n",
      "744   0    0    0   0    0    0   0   0   0   0  ...         0           0   \n",
      "745   0    0    0   0    0    0   0   0   0   0  ...         0           0   \n",
      "746   0    0    0   0    0    0   0   0   0   0  ...         0           0   \n",
      "747   0    0    0   0    0    0   0   0   0   0  ...         0           0   \n",
      "\n",
      "     your  yourself  youth  youtube  yrs  yuo  zealand  zulus  \n",
      "0       0         0      0        0    0    0        0      0  \n",
      "1       0         0      0        0    0    0        0      0  \n",
      "2       0         0      0        0    0    0        0      0  \n",
      "3       0         0      0        0    0    0        0      0  \n",
      "4       0         0      0        0    0    0        0      0  \n",
      "..    ...       ...    ...      ...  ...  ...      ...    ...  \n",
      "743     0         0      0        0    0    0        0      0  \n",
      "744     0         0      0        0    0    0        0      0  \n",
      "745     0         0      0        0    0    0        0      0  \n",
      "746     1         0      0        0    0    0        0      0  \n",
      "747     0         0      0        0    0    0        0      0  \n",
      "\n",
      "[748 rows x 2602 columns]\n"
     ]
    },
    {
     "data": {
      "image/png": "[encoded data removed]",
      "text/plain": [
       "<Figure size 1000x600 with 1 Axes>"
      ]
     },
     "metadata": {},
     "output_type": "display_data"
    },
    {
     "name": "stdout",
     "output_type": "stream",
     "text": [
      "Filtered Term-Document Frequency DataFrame for Category not nostalgia:\n",
      "     000  045  10  100  10m  11  12  14  15  150  ...  younger  youngest  \\\n",
      "0      0    0   0    0    0   0   0   0   0    0  ...        0         0   \n",
      "1      0    0   0    0    0   0   0   0   0    0  ...        0         0   \n",
      "2      0    0   0    0    0   0   0   0   0    0  ...        0         0   \n",
      "3      0    0   0    0    0   0   0   0   0    0  ...        0         0   \n",
      "4      0    0   0    0    0   0   0   0   0    0  ...        0         0   \n",
      "..   ...  ...  ..  ...  ...  ..  ..  ..  ..  ...  ...      ...       ...   \n",
      "743    0    0   0    0    0   0   0   0   0    0  ...        0         0   \n",
      "744    0    0   0    0    0   0   0   0   0    0  ...        0         0   \n",
      "745    0    0   0    0    0   0   0   0   0    0  ...        0         0   \n",
      "746    0    0   0    0    0   0   0   0   0    0  ...        0         0   \n",
      "747    0    0   0    0    0   0   0   0   0    0  ...        0         0   \n",
      "\n",
      "     youngsters  yourself  youth  youtube  yrs  yuo  zealand  zulus  \n",
      "0             0         0      0        0    0    0        0      0  \n",
      "1             0         0      0        0    0    0        0      0  \n",
      "2             0         0      0        0    0    0        0      0  \n",
      "3             0         0      0        0    0    0        0      0  \n",
      "4             0         0      0        0    0    0        0      0  \n",
      "..          ...       ...    ...      ...  ...  ...      ...    ...  \n",
      "743           0         0      0        0    0    0        0      0  \n",
      "744           0         0      0        0    0    0        0      0  \n",
      "745           0         0      0        0    0    0        0      0  \n",
      "746           0         0      0        0    0    0        0      0  \n",
      "747           0         0      0        0    0    0        0      0  \n",
      "\n",
      "[748 rows x 2446 columns]\n"
     ]
    }
   ],
   "source": [
    "# Finding frequent patterns\n",
    "import pandas as pd\n",
    "from sklearn.feature_extraction.text import CountVectorizer\n",
    "\n",
    "#Create separate DataFrames for each category\n",
    "categories = df['sentiment'].unique()  # Get unique category labels\n",
    "category_dfs = {}  # Dictionary to store DataFrames for each category\n",
    "\n",
    "for category in categories:\n",
    "    # Filter the original DataFrame by category\n",
    "    category_dfs[category] = df[df[\"sentiment\"] == category].copy()\n",
    "\n",
    "# Function to create term-document frequency DataFrame for each category\n",
    "def create_term_document_df(df):\n",
    "    count_vect = CountVectorizer()  # Initialize the CountVectorizer\n",
    "    df_counts = count_vect.fit_transform(df[\"comment\"])  # Transform the text data into word counts\n",
    "    \n",
    "    # Get the unique words (vocabulary) from the vectorizer\n",
    "    words = count_vect.get_feature_names_out()\n",
    "    \n",
    "    # Create a DataFrame where rows are documents and columns are words\n",
    "    term_document_df = pd.DataFrame(df_counts.toarray(), columns=words)\n",
    "    \n",
    "    return term_document_df\n",
    "\n",
    "# Create term-document frequency DataFrames for each category\n",
    "term_document_dfs = {}  # Dictionary to store term-document DataFrames for each category\n",
    "\n",
    "for category in categories:\n",
    "    term_document_dfs[category] = create_term_document_df(category_dfs[category])\n",
    "\n",
    "category_number=0 #You can change it from 0 to 3\n",
    "print(f\"Filtered Term-Document Frequency DataFrame for Category {categories[category_number]}:\")\n",
    "print(term_document_dfs[categories[category_number]])\n",
    "\n",
    "category_number=0 #You can change it from 0 to 3\n",
    "word_counts = term_document_dfs[categories[category_number]].sum(axis=0).to_numpy()\n",
    " \n",
    "# Visualize the frequency distribution\n",
    "plt.figure(figsize=(10, 6))\n",
    "plt.hist(word_counts, bins=5000, color='blue', edgecolor='black')\n",
    "plt.title(f'Term Frequency Distribution for Category {categories[category_number]}')\n",
    "plt.xlabel('Frequency')\n",
    "plt.ylabel('Number of Terms')\n",
    "plt.xlim(1, 200)\n",
    "plt.show()\n",
    "\n",
    "category_number=0 #You can change it from 0 to 3\n",
    "\n",
    "# Filter the bottom 1% and top 5% words based on their sum across all documents\n",
    "def filter_top_bottom_words_by_sum(term_document_df, top_percent=0.05, bottom_percent=0.01):\n",
    "    # Calculate the sum of each word across all documents\n",
    "    word_sums = term_document_df.sum(axis=0)\n",
    "    \n",
    "    # Sort the words by their total sum\n",
    "    sorted_words = word_sums.sort_values()\n",
    "    \n",
    "    # Calculate the number of words to remove\n",
    "    total_words = len(sorted_words)\n",
    "    top_n = int(top_percent * total_words)\n",
    "    bottom_n = int(bottom_percent * total_words)\n",
    "    \n",
    "    # Get the words to remove from the top 5% and bottom 1%\n",
    "    words_to_remove = pd.concat([sorted_words.head(bottom_n), sorted_words.tail(top_n)]).index\n",
    "    \n",
    "    # Return the DataFrame without the filtered words\n",
    "    return term_document_df.drop(columns=words_to_remove)\n",
    "\n",
    "# Apply the filtering function to each category\n",
    "filtered_term_document_dfs = {}\n",
    "\n",
    "for category in categories:\n",
    "    filtered_term_document_dfs[category] = filter_top_bottom_words_by_sum(term_document_dfs[category])\n",
    "term_document_dfs=filtered_term_document_dfs\n",
    "# Example: Display the filtered DataFrame for one of the categories\n",
    "print(f\"Filtered Term-Document Frequency DataFrame for Category {categories[category_number]}:\")\n",
    "print(filtered_term_document_dfs[categories[category_number]])\n",
    "\n",
    "import os\n",
    "os.environ['PYTHONIOENCODING'] = 'utf-8'\n",
    "from PAMI.extras.convert.DF2DB import DF2DB\n",
    "\n",
    "for category in term_document_dfs:\n",
    "    # Replace dots with underscores in the category name to avoid errors in the file creation\n",
    "    category_safe = category.replace('.', '_')\n",
    "    \n",
    "    # Create the DenseFormatDF object and convert to a transactional database\n",
    "    obj = DF2DB(term_document_dfs[category])\n",
    "    obj.convert2TransactionalDatabase(f'td_freq_db_{category_safe}.csv', '>=', 1)\n"
   ]
  },
  {
   "cell_type": "code",
   "execution_count": 13,
   "metadata": {},
   "outputs": [
    {
     "name": "stdout",
     "output_type": "stream",
     "text": [
      "Database size (total no of transactions) : 584\n",
      "Number of items : 13756\n",
      "Minimum Transaction Size : 15\n",
      "Average Transaction Size : 122.93493150684931\n",
      "Maximum Transaction Size : 2603\n",
      "Standard Deviation Transaction Size : 198.28098372213412\n",
      "Variance in Transaction Sizes : 39382.784781127375\n",
      "Sparsity : 0.9910631774129944\n"
     ]
    },
    {
     "data": {
      "image/png": "[encoded data removed]",
      "text/plain": [
       "<Figure size 640x480 with 1 Axes>"
      ]
     },
     "metadata": {},
     "output_type": "display_data"
    },
    {
     "data": {
      "image/png": "[encoded data removed]",
      "text/plain": [
       "<Figure size 640x480 with 1 Axes>"
      ]
     },
     "metadata": {},
     "output_type": "display_data"
    }
   ],
   "source": [
    "from PAMI.extras.dbStats import TransactionalDatabase as tds\n",
    "obj = tds.TransactionalDatabase('td_freq_db_comp_graphics.csv')\n",
    "obj.run()\n",
    "obj.printStats()\n",
    "obj.plotGraphs()"
   ]
  },
  {
   "cell_type": "code",
   "execution_count": null,
   "metadata": {},
   "outputs": [],
   "source": [
    "from PAMI.frequentPattern.basic import FPGrowth as alg\n",
    "minSup=9\n",
    "obj1 = alg.FPGrowth(iFile='td_freq_db_sci_med.csv', minSup=minSup)\n",
    "obj1.mine()\n",
    "frequentPatternsDF_sci_med= obj1.getPatternsAsDataFrame()\n",
    "obj2 = alg.FPGrowth(iFile='td_freq_db_alt_atheism.csv', minSup=minSup)\n",
    "obj2.mine()\n",
    "frequentPatternsDF_alt_atheism= obj2.getPatternsAsDataFrame()\n",
    "obj3 = alg.FPGrowth(iFile='td_freq_db_comp_graphics.csv', minSup=minSup)\n",
    "obj3.mine()\n",
    "frequentPatternsDF_comp_graphics= obj3.getPatternsAsDataFrame()\n",
    "obj4 = alg.FPGrowth(iFile='td_freq_db_soc_religion_christian.csv', minSup=minSup)\n",
    "obj4.mine()\n",
    "frequentPatternsDF_soc_religion_christian= obj4.getPatternsAsDataFrame()\n",
    "\n"
   ]
  },
  {
   "cell_type": "code",
   "execution_count": null,
   "metadata": {},
   "outputs": [],
   "source": [
    "import pandas as pd\n",
    "from sklearn.feature_extraction.text import CountVectorizer\n",
    "\n",
    "# Convert 'text' column into term-document matrix using CountVectorizer\n",
    "count_vect = CountVectorizer()\n",
    "X_tdm = count_vect.fit_transform(X['text'])  # X['text'] contains your text data\n",
    "terms = count_vect.get_feature_names_out()  # Original terms in the vocabulary\n",
    "\n",
    "# Tokenize the sentences into sets of unique words\n",
    "X['tokenized_text'] = X['text'].str.split().apply(set)\n",
    "\n",
    "# Initialize the pattern matrix\n",
    "pattern_matrix = pd.DataFrame(0, index=X.index, columns=final_pattern_df['Patterns'])\n",
    "\n",
    "# Iterate over each pattern and check if all words in the pattern are present in the tokenized sentence\n",
    "for pattern in final_pattern_df['Patterns'][100]:\n",
    "    pattern_words = set(pattern.split())  # Tokenize pattern into words\n",
    "    pattern_matrix[pattern] = df['tokenized_text'].apply(lambda x: 1 if pattern_words.issubset(x) else 0)\n",
    "\n",
    "# Convert the term-document matrix to a DataFrame for easy merging\n",
    "tdm_df = pd.DataFrame(X_tdm.toarray(), columns=terms, index=X.index)\n",
    "\n",
    "# Concatenate the original TDM and the pattern matrix to augment the features\n",
    "augmented_df = pd.concat([tdm_df, pattern_matrix], axis=1)\n",
    "\n",
    "augmented_df"
   ]
  },
  {
   "cell_type": "code",
   "execution_count": null,
   "metadata": {},
   "outputs": [],
   "source": [
    "# Dimensionality Reduction\n",
    "#Applying dimensionality reduction with only the document-term frequency data\n",
    "from sklearn.decomposition import PCA\n",
    "from sklearn.manifold import TSNE\n",
    "import umap\n",
    "import matplotlib.pyplot as plt\n",
    "\n",
    "#This might take a couple of minutes to execute\n",
    "# Apply PCA, t-SNE, and UMAP to the data\n",
    "df_pca_tdm = PCA(n_components=2).fit_transform(tdm_df.values)\n",
    "df_tsne_tdm = TSNE(n_components=2).fit_transform(tdm_df.values)\n",
    "df_umap_tdm = umap.UMAP(n_components=2).fit_transform(tdm_df.values)"
   ]
  },
  {
   "cell_type": "code",
   "execution_count": null,
   "metadata": {},
   "outputs": [],
   "source": [
    "import pandas as pd\n",
    "\n",
    "#We group together all of the dataframes related to our found patterns\n",
    "dfs = [frequentPatternsDF_sci_med, frequentPatternsDF_soc_religion_christian, frequentPatternsDF_comp_graphics, frequentPatternsDF_alt_atheism]\n",
    "\n",
    "\n",
    "# Identify patterns that appear in more than one category\n",
    "# Count how many times each pattern appears across all dataframes\n",
    "pattern_counts = {}\n",
    "for df in dfs:\n",
    "    for pattern in df['Patterns']:\n",
    "        if pattern not in pattern_counts:\n",
    "            pattern_counts[pattern] = 1\n",
    "        else:\n",
    "            pattern_counts[pattern] += 1\n",
    "\n",
    "# Filter out patterns that appear in more than one dataframe\n",
    "unique_patterns = {pattern for pattern, count in pattern_counts.items() if count == 1}\n",
    "# Calculate the total number of patterns across all categories\n",
    "total_patterns_count = sum(len(df) for df in dfs)\n",
    "# Calculate how many patterns were discarded\n",
    "discarded_patterns_count = total_patterns_count - len(unique_patterns)\n",
    "\n",
    "# For each category, filter the patterns to keep only the unique ones\n",
    "filtered_dfs = []\n",
    "for df in dfs:\n",
    "    filtered_df = df[df['Patterns'].isin(unique_patterns)]\n",
    "    filtered_dfs.append(filtered_df)\n",
    "\n",
    "# Merge the filtered dataframes into a final dataframe\n",
    "final_pattern_df = pd.concat(filtered_dfs, ignore_index=True)\n",
    "\n",
    "# Sort by support\n",
    "final_pattern_df = final_pattern_df.sort_values(by='Support', ascending=False)\n",
    "\n",
    "# Display the final result\n",
    "print(final_pattern_df)\n",
    "# Print the number of discarded patterns\n",
    "print(f\"Number of patterns discarded: {discarded_patterns_count}\")"
   ]
  },
  {
   "cell_type": "markdown",
   "metadata": {},
   "source": [
    "#### Third\n",
    "Third: please attempt the following tasks on **the new dataset**. __This part is worth 30% of your grade.__\n",
    "    - Generate meaningful **new data visualizations**. Refer to online resources and the Data Mining textbook for inspiration and ideas. \n",
    "    - Generate **TF-IDF features** from the tokens of each text. This will generating a document matrix, however, the weights will be computed differently (using the TF-IDF value of each word per document as opposed to the word frequency). Refer to this Scikit-learn [guide](http://scikit-learn.org/stable/modules/generated/sklearn.feature_extraction.text.TfidfVectorizer.html) .\n",
    "    - Implement a simple **Naive Bayes classifier** that automatically classifies the records into their categories. Use both the TF-IDF features and word frequency features to build two seperate classifiers. Note that for the TF-IDF features you might need to use other type of NB classifier different than the one in the Master Notebook. Comment on the differences.  Refer to this [article](https://hub.packtpub.com/implementing-3-naive-bayes-classifiers-in-scikit-learn/)."
   ]
  }
 ],
 "metadata": {
  "kernelspec": {
   "display_name": "env3.9.6",
   "language": "python",
   "name": "python3"
  },
  "language_info": {
   "codemirror_mode": {
    "name": "ipython",
    "version": 3
   },
   "file_extension": ".py",
   "mimetype": "text/x-python",
   "name": "python",
   "nbconvert_exporter": "python",
   "pygments_lexer": "ipython3",
   "version": "3.9.6"
  }
 },
 "nbformat": 4,
 "nbformat_minor": 4
}
