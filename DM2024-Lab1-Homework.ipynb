{
 "cells": [
  {
   "cell_type": "markdown",
   "metadata": {},
   "source": [
    "### Student Information\n",
    "Name: 林劭芸\n",
    "\n",
    "Student ID: 113033626\n",
    "\n",
    "GitHub ID: dabbie109303501"
   ]
  },
  {
   "cell_type": "markdown",
   "metadata": {},
   "source": [
    "---"
   ]
  },
  {
   "cell_type": "markdown",
   "metadata": {},
   "source": [
    "### Instructions"
   ]
  },
  {
   "cell_type": "markdown",
   "metadata": {},
   "source": [
    "1. First: do the **take home** exercises in the [DM2024-Lab1-Master](https://github.com/didiersalazar/DM2024-Lab1-Master.git). You may need to copy some cells from the Lab notebook to this notebook. __This part is worth 20% of your grade.__\n",
    "\n",
    "\n",
    "2. Second: follow the same process from the [DM2024-Lab1-Master](https://github.com/didiersalazar/DM2024-Lab1-Master.git) on **the new dataset**. You don't need to explain all details as we did (some **minimal comments** explaining your code are useful though).  __This part is worth 30% of your grade.__\n",
    "    - Download the [the new dataset](https://huggingface.co/datasets/Senem/Nostalgic_Sentiment_Analysis_of_YouTube_Comments_Data). The dataset contains a `sentiment` and `comment` columns, with the sentiment labels being: 'nostalgia' and 'not nostalgia'. Read the specificiations of the dataset for background details. \n",
    "    - You are allowed to use and modify the `helper` functions in the folder of the first lab session (notice they may need modification) or create your own.\n",
    "\n",
    "\n",
    "3. Third: please attempt the following tasks on **the new dataset**. __This part is worth 30% of your grade.__\n",
    "    - Generate meaningful **new data visualizations**. Refer to online resources and the Data Mining textbook for inspiration and ideas. \n",
    "    - Generate **TF-IDF features** from the tokens of each text. This will generating a document matrix, however, the weights will be computed differently (using the TF-IDF value of each word per document as opposed to the word frequency). Refer to this Scikit-learn [guide](http://scikit-learn.org/stable/modules/generated/sklearn.feature_extraction.text.TfidfVectorizer.html) .\n",
    "    - Implement a simple **Naive Bayes classifier** that automatically classifies the records into their categories. Use both the TF-IDF features and word frequency features to build two seperate classifiers. Note that for the TF-IDF features you might need to use other type of NB classifier different than the one in the Master Notebook. Comment on the differences.  Refer to this [article](https://hub.packtpub.com/implementing-3-naive-bayes-classifiers-in-scikit-learn/).\n",
    "\n",
    "\n",
    "4. Fourth: In the lab, we applied each step really quickly just to illustrate how to work with your dataset. There are somethings that are not ideal or the most efficient/meaningful. Each dataset can be handled differently as well. What are those inefficent parts you noticed? How can you improve the Data preprocessing for these specific datasets? __This part is worth 10% of your grade.__\n",
    "\n",
    "\n",
    "5. Fifth: It's hard for us to follow if your code is messy, so please **tidy up your notebook** and **add minimal comments where needed**. __This part is worth 10% of your grade.__\n",
    "\n",
    "\n",
    "You can submit your homework following these guidelines: [Git Intro & How to hand your homework](https://github.com/didiersalazar/DM2024-Lab1-Master/blob/main/Git%20Intro%20%26%20How%20to%20hand%20your%20homework.ipynb). Make sure to commit and save your changes to your repository __BEFORE the deadline (October 27th 11:59 pm, Sunday)__. "
   ]
  },
  {
   "cell_type": "code",
   "execution_count": 68,
   "metadata": {},
   "outputs": [
    {
     "name": "stdout",
     "output_type": "stream",
     "text": [
      "The autoreload extension is already loaded. To reload it, use:\n",
      "  %reload_ext autoreload\n"
     ]
    }
   ],
   "source": [
    "### Begin Assignment Here\n",
    "%load_ext autoreload\n",
    "%autoreload 2\n"
   ]
  },
  {
   "cell_type": "markdown",
   "metadata": {},
   "source": [
    "#### First"
   ]
  },
  {
   "cell_type": "code",
   "execution_count": 69,
   "metadata": {},
   "outputs": [],
   "source": [
    "categories = ['alt.atheism', 'soc.religion.christian', 'comp.graphics', 'sci.med']\n",
    "from sklearn.datasets import fetch_20newsgroups\n",
    "\n",
    "twenty_train = fetch_20newsgroups(subset='train', categories=categories,\n",
    "                                  shuffle=True, random_state=42) \n",
    "\n",
    "import pandas as pd\n",
    "import helpers.data_mining_helpers as dmh\n",
    "X = pd.DataFrame.from_records(dmh.format_rows(twenty_train), columns= ['text'])\n",
    "\n",
    "X['category'] = twenty_train.target\n",
    "X['category_name'] = X.category.apply(lambda t: dmh.format_labels(t, twenty_train))\n"
   ]
  },
  {
   "cell_type": "code",
   "execution_count": 70,
   "metadata": {},
   "outputs": [
    {
     "name": "stdout",
     "output_type": "stream",
     "text": [
      "where:                                                 text  category  \\\n",
      "0                                                NaN       NaN   \n",
      "1                                                NaN       NaN   \n",
      "2  From: djohnson@cs.ucsd.edu (Darin Johnson) Sub...       3.0   \n",
      "3  From: s0612596@let.rug.nl (M.M. Zwart) Subject...       3.0   \n",
      "4  From: stanly@grok11.columbiasc.ncr.com (stanly...       3.0   \n",
      "\n",
      "            category_name  \n",
      "0                     NaN  \n",
      "1                     NaN  \n",
      "2  soc.religion.christian  \n",
      "3  soc.religion.christian  \n",
      "4  soc.religion.christian  \n",
      "\n",
      "only selected:                                                 text  category  \\\n",
      "2  From: djohnson@cs.ucsd.edu (Darin Johnson) Sub...         3   \n",
      "3  From: s0612596@let.rug.nl (M.M. Zwart) Subject...         3   \n",
      "4  From: stanly@grok11.columbiasc.ncr.com (stanly...         3   \n",
      "5  From: vbv@lor.eeap.cwru.edu (Virgilio (Dean) B...         3   \n",
      "6  From: jodfishe@silver.ucs.indiana.edu (joseph ...         3   \n",
      "\n",
      "            category_name  \n",
      "2  soc.religion.christian  \n",
      "3  soc.religion.christian  \n",
      "4  soc.religion.christian  \n",
      "5  soc.religion.christian  \n",
      "6  soc.religion.christian  \n"
     ]
    }
   ],
   "source": [
    "#Exercise 2 (take home)\n",
    "\n",
    "result=X.where(X['category']>1)\n",
    "print(\"where:\",result[:5])\n",
    "result=X[X['category']> 1]\n",
    "print(\"\\nonly selected:\",result[:5])"
   ]
  },
  {
   "cell_type": "code",
   "execution_count": 71,
   "metadata": {},
   "outputs": [
    {
     "data": {
      "text/html": [
       "<div>\n",
       "<style scoped>\n",
       "    .dataframe tbody tr th:only-of-type {\n",
       "        vertical-align: middle;\n",
       "    }\n",
       "\n",
       "    .dataframe tbody tr th {\n",
       "        vertical-align: top;\n",
       "    }\n",
       "\n",
       "    .dataframe thead th {\n",
       "        text-align: right;\n",
       "    }\n",
       "</style>\n",
       "<table border=\"1\" class=\"dataframe\">\n",
       "  <thead>\n",
       "    <tr style=\"text-align: right;\">\n",
       "      <th></th>\n",
       "      <th>text</th>\n",
       "      <th>category</th>\n",
       "      <th>category_name</th>\n",
       "    </tr>\n",
       "  </thead>\n",
       "  <tbody>\n",
       "    <tr>\n",
       "      <th>0</th>\n",
       "      <td>From: sd345@city.ac.uk (Michael Collier) Subje...</td>\n",
       "      <td>1</td>\n",
       "      <td>comp.graphics</td>\n",
       "    </tr>\n",
       "    <tr>\n",
       "      <th>1</th>\n",
       "      <td>From: ani@ms.uky.edu (Aniruddha B. Deglurkar) ...</td>\n",
       "      <td>1</td>\n",
       "      <td>comp.graphics</td>\n",
       "    </tr>\n",
       "    <tr>\n",
       "      <th>2</th>\n",
       "      <td>From: djohnson@cs.ucsd.edu (Darin Johnson) Sub...</td>\n",
       "      <td>3</td>\n",
       "      <td>soc.religion.christian</td>\n",
       "    </tr>\n",
       "    <tr>\n",
       "      <th>3</th>\n",
       "      <td>From: s0612596@let.rug.nl (M.M. Zwart) Subject...</td>\n",
       "      <td>3</td>\n",
       "      <td>soc.religion.christian</td>\n",
       "    </tr>\n",
       "    <tr>\n",
       "      <th>4</th>\n",
       "      <td>From: stanly@grok11.columbiasc.ncr.com (stanly...</td>\n",
       "      <td>3</td>\n",
       "      <td>soc.religion.christian</td>\n",
       "    </tr>\n",
       "    <tr>\n",
       "      <th>...</th>\n",
       "      <td>...</td>\n",
       "      <td>...</td>\n",
       "      <td>...</td>\n",
       "    </tr>\n",
       "    <tr>\n",
       "      <th>2252</th>\n",
       "      <td>From: roos@Operoni.Helsinki.FI (Christophe Roo...</td>\n",
       "      <td>2</td>\n",
       "      <td>sci.med</td>\n",
       "    </tr>\n",
       "    <tr>\n",
       "      <th>2253</th>\n",
       "      <td>From: mhollowa@ic.sunysb.edu (Michael Holloway...</td>\n",
       "      <td>2</td>\n",
       "      <td>sci.med</td>\n",
       "    </tr>\n",
       "    <tr>\n",
       "      <th>2254</th>\n",
       "      <td>From: sasghm@theseus.unx.sas.com (Gary Merrill...</td>\n",
       "      <td>2</td>\n",
       "      <td>sci.med</td>\n",
       "    </tr>\n",
       "    <tr>\n",
       "      <th>2255</th>\n",
       "      <td>From: Dan Wallach &lt;dwallach@cs.berkeley.edu&gt; S...</td>\n",
       "      <td>2</td>\n",
       "      <td>sci.med</td>\n",
       "    </tr>\n",
       "    <tr>\n",
       "      <th>2256</th>\n",
       "      <td>From: dyer@spdcc.com (Steve Dyer) Subject: Re:...</td>\n",
       "      <td>2</td>\n",
       "      <td>sci.med</td>\n",
       "    </tr>\n",
       "  </tbody>\n",
       "</table>\n",
       "<p>2257 rows × 3 columns</p>\n",
       "</div>"
      ],
      "text/plain": [
       "                                                   text  category  \\\n",
       "0     From: sd345@city.ac.uk (Michael Collier) Subje...         1   \n",
       "1     From: ani@ms.uky.edu (Aniruddha B. Deglurkar) ...         1   \n",
       "2     From: djohnson@cs.ucsd.edu (Darin Johnson) Sub...         3   \n",
       "3     From: s0612596@let.rug.nl (M.M. Zwart) Subject...         3   \n",
       "4     From: stanly@grok11.columbiasc.ncr.com (stanly...         3   \n",
       "...                                                 ...       ...   \n",
       "2252  From: roos@Operoni.Helsinki.FI (Christophe Roo...         2   \n",
       "2253  From: mhollowa@ic.sunysb.edu (Michael Holloway...         2   \n",
       "2254  From: sasghm@theseus.unx.sas.com (Gary Merrill...         2   \n",
       "2255  From: Dan Wallach <dwallach@cs.berkeley.edu> S...         2   \n",
       "2256  From: dyer@spdcc.com (Steve Dyer) Subject: Re:...         2   \n",
       "\n",
       "               category_name  \n",
       "0              comp.graphics  \n",
       "1              comp.graphics  \n",
       "2     soc.religion.christian  \n",
       "3     soc.religion.christian  \n",
       "4     soc.religion.christian  \n",
       "...                      ...  \n",
       "2252                 sci.med  \n",
       "2253                 sci.med  \n",
       "2254                 sci.med  \n",
       "2255                 sci.med  \n",
       "2256                 sci.med  \n",
       "\n",
       "[2257 rows x 3 columns]"
      ]
     },
     "execution_count": 71,
     "metadata": {},
     "output_type": "execute_result"
    }
   ],
   "source": [
    "X.isnull().apply(lambda x: dmh.check_missing_values(x))\n",
    "dummy_series = pd.Series([\"dummy_record\", 1], index=[\"text\", \"category\"])\n",
    "dummy_series.to_frame().T\n",
    "result_with_series = pd.concat([X, dummy_series.to_frame().T], ignore_index=True)\n",
    "result_with_series.isnull().apply(lambda x: dmh.check_missing_values(x))\n",
    "dummy_dict = [{'text': 'dummy_record',\n",
    "               'category': 1\n",
    "              }]\n",
    "X = pd.concat([X, pd.DataFrame(dummy_dict)], ignore_index=True)\n",
    "X.isnull().apply(lambda x: dmh.check_missing_values(x))\n",
    "X.dropna(inplace=True)\n",
    "X.isnull().apply(lambda x: dmh.check_missing_values(x))\n",
    "X"
   ]
  },
  {
   "cell_type": "code",
   "execution_count": 72,
   "metadata": {},
   "outputs": [
    {
     "data": {
      "text/plain": [
       "0     True\n",
       "1     True\n",
       "2    False\n",
       "3    False\n",
       "4     True\n",
       "5    False\n",
       "Name: missing_example, dtype: bool"
      ]
     },
     "execution_count": 72,
     "metadata": {},
     "output_type": "execute_result"
    }
   ],
   "source": [
    "#Exercise 5 (take home)\n",
    "\n",
    "import numpy as np\n",
    "\n",
    "NA_dict = [{ 'id': 'A', 'missing_example': np.nan }, #nan = null\n",
    "           { 'id': 'B'                    }, #no definition\n",
    "           { 'id': 'C', 'missing_example': 'NaN'  }, #it is a string, not null\n",
    "           { 'id': 'D', 'missing_example': 'None' }, #it is a string, not null\n",
    "           { 'id': 'E', 'missing_example':  None  }, #it neans none, = null\n",
    "           { 'id': 'F', 'missing_example': ''     }] #it is a string, not null \n",
    "\n",
    "NA_df = pd.DataFrame(NA_dict, columns = ['id','missing_example'])\n",
    "NA_df['missing_example'].isnull()\n"
   ]
  },
  {
   "cell_type": "code",
   "execution_count": 73,
   "metadata": {},
   "outputs": [
    {
     "data": {
      "text/html": [
       "<div>\n",
       "<style scoped>\n",
       "    .dataframe tbody tr th:only-of-type {\n",
       "        vertical-align: middle;\n",
       "    }\n",
       "\n",
       "    .dataframe tbody tr th {\n",
       "        vertical-align: top;\n",
       "    }\n",
       "\n",
       "    .dataframe thead th {\n",
       "        text-align: right;\n",
       "    }\n",
       "</style>\n",
       "<table border=\"1\" class=\"dataframe\">\n",
       "  <thead>\n",
       "    <tr style=\"text-align: right;\">\n",
       "      <th></th>\n",
       "      <th>text</th>\n",
       "      <th>category</th>\n",
       "      <th>category_name</th>\n",
       "    </tr>\n",
       "  </thead>\n",
       "  <tbody>\n",
       "    <tr>\n",
       "      <th>0</th>\n",
       "      <td>From: sd345@city.ac.uk (Michael Collier) Subje...</td>\n",
       "      <td>1</td>\n",
       "      <td>comp.graphics</td>\n",
       "    </tr>\n",
       "    <tr>\n",
       "      <th>1</th>\n",
       "      <td>From: ani@ms.uky.edu (Aniruddha B. Deglurkar) ...</td>\n",
       "      <td>1</td>\n",
       "      <td>comp.graphics</td>\n",
       "    </tr>\n",
       "    <tr>\n",
       "      <th>2</th>\n",
       "      <td>From: djohnson@cs.ucsd.edu (Darin Johnson) Sub...</td>\n",
       "      <td>3</td>\n",
       "      <td>soc.religion.christian</td>\n",
       "    </tr>\n",
       "    <tr>\n",
       "      <th>3</th>\n",
       "      <td>From: s0612596@let.rug.nl (M.M. Zwart) Subject...</td>\n",
       "      <td>3</td>\n",
       "      <td>soc.religion.christian</td>\n",
       "    </tr>\n",
       "    <tr>\n",
       "      <th>4</th>\n",
       "      <td>From: stanly@grok11.columbiasc.ncr.com (stanly...</td>\n",
       "      <td>3</td>\n",
       "      <td>soc.religion.christian</td>\n",
       "    </tr>\n",
       "    <tr>\n",
       "      <th>...</th>\n",
       "      <td>...</td>\n",
       "      <td>...</td>\n",
       "      <td>...</td>\n",
       "    </tr>\n",
       "    <tr>\n",
       "      <th>2252</th>\n",
       "      <td>From: roos@Operoni.Helsinki.FI (Christophe Roo...</td>\n",
       "      <td>2</td>\n",
       "      <td>sci.med</td>\n",
       "    </tr>\n",
       "    <tr>\n",
       "      <th>2253</th>\n",
       "      <td>From: mhollowa@ic.sunysb.edu (Michael Holloway...</td>\n",
       "      <td>2</td>\n",
       "      <td>sci.med</td>\n",
       "    </tr>\n",
       "    <tr>\n",
       "      <th>2254</th>\n",
       "      <td>From: sasghm@theseus.unx.sas.com (Gary Merrill...</td>\n",
       "      <td>2</td>\n",
       "      <td>sci.med</td>\n",
       "    </tr>\n",
       "    <tr>\n",
       "      <th>2255</th>\n",
       "      <td>From: Dan Wallach &lt;dwallach@cs.berkeley.edu&gt; S...</td>\n",
       "      <td>2</td>\n",
       "      <td>sci.med</td>\n",
       "    </tr>\n",
       "    <tr>\n",
       "      <th>2256</th>\n",
       "      <td>From: dyer@spdcc.com (Steve Dyer) Subject: Re:...</td>\n",
       "      <td>2</td>\n",
       "      <td>sci.med</td>\n",
       "    </tr>\n",
       "  </tbody>\n",
       "</table>\n",
       "<p>2257 rows × 3 columns</p>\n",
       "</div>"
      ],
      "text/plain": [
       "                                                   text  category  \\\n",
       "0     From: sd345@city.ac.uk (Michael Collier) Subje...         1   \n",
       "1     From: ani@ms.uky.edu (Aniruddha B. Deglurkar) ...         1   \n",
       "2     From: djohnson@cs.ucsd.edu (Darin Johnson) Sub...         3   \n",
       "3     From: s0612596@let.rug.nl (M.M. Zwart) Subject...         3   \n",
       "4     From: stanly@grok11.columbiasc.ncr.com (stanly...         3   \n",
       "...                                                 ...       ...   \n",
       "2252  From: roos@Operoni.Helsinki.FI (Christophe Roo...         2   \n",
       "2253  From: mhollowa@ic.sunysb.edu (Michael Holloway...         2   \n",
       "2254  From: sasghm@theseus.unx.sas.com (Gary Merrill...         2   \n",
       "2255  From: Dan Wallach <dwallach@cs.berkeley.edu> S...         2   \n",
       "2256  From: dyer@spdcc.com (Steve Dyer) Subject: Re:...         2   \n",
       "\n",
       "               category_name  \n",
       "0              comp.graphics  \n",
       "1              comp.graphics  \n",
       "2     soc.religion.christian  \n",
       "3     soc.religion.christian  \n",
       "4     soc.religion.christian  \n",
       "...                      ...  \n",
       "2252                 sci.med  \n",
       "2253                 sci.med  \n",
       "2254                 sci.med  \n",
       "2255                 sci.med  \n",
       "2256                 sci.med  \n",
       "\n",
       "[2257 rows x 3 columns]"
      ]
     },
     "execution_count": 73,
     "metadata": {},
     "output_type": "execute_result"
    }
   ],
   "source": [
    "X.duplicated()\n",
    "dummy_duplicate_dict = [{\n",
    "                             'text': 'dummy record',\n",
    "                             'category': 1, \n",
    "                             'category_name': \"dummy category\"\n",
    "                        },\n",
    "                        {\n",
    "                             'text': 'dummy record',\n",
    "                             'category': 1, \n",
    "                             'category_name': \"dummy category\"\n",
    "                        }]\n",
    "X = pd.concat([X, pd.DataFrame(dummy_duplicate_dict)], ignore_index=True)\n",
    "X.drop_duplicates(keep=False, inplace=True)\n",
    "X_sample = X.sample(n=1000) \n",
    "X"
   ]
  },
  {
   "cell_type": "code",
   "execution_count": 74,
   "metadata": {},
   "outputs": [
    {
     "name": "stdout",
     "output_type": "stream",
     "text": [
      "                                                   text  category  \\\n",
      "1735  From: \"james kewageshig\" <james.kewageshig@can...         1   \n",
      "2088  From: sloan@cis.uab.edu (Kenneth Sloan) Subjec...         1   \n",
      "1246  From: morley@suncad.camosun.bc.ca (Mark Morley...         1   \n",
      "\n",
      "      category_name  \n",
      "1735  comp.graphics  \n",
      "2088  comp.graphics  \n",
      "1246  comp.graphics  \n",
      "                                                   text  category  \\\n",
      "2073  From: uk02183@nx10.mik.uky.edu (bryan k willia...         1   \n",
      "723   From: halat@pooh.bears (Jim Halat) Subject: Is...         0   \n",
      "834   From: jose@csd.uwo.ca (Jose Thekkumthala) Subj...         2   \n",
      "\n",
      "      category_name  \n",
      "2073  comp.graphics  \n",
      "723     alt.atheism  \n",
      "834         sci.med  \n",
      "                                                   text  category  \\\n",
      "1735  From: \"james kewageshig\" <james.kewageshig@can...         1   \n",
      "\n",
      "      category_name  \n",
      "1735  comp.graphics  \n",
      "                                                   text  category  \\\n",
      "1735  From: \"james kewageshig\" <james.kewageshig@can...         1   \n",
      "\n",
      "      category_name  \n",
      "1735  comp.graphics  \n",
      "<class 'pandas.core.frame.DataFrame'>\n",
      "<class 'pandas.core.frame.DataFrame'>\n"
     ]
    }
   ],
   "source": [
    "#Exercise 6 (take home)\n",
    "\n",
    "X_sample1 = X.sample(n=1000)\n",
    "print(X_sample1[:3])\n",
    "X_sample2 = X.sample(n=1000)\n",
    "print(X_sample2[:3])\n",
    "print(X[X.index==X_sample1.index[0]])\n",
    "print(X_sample1[X_sample1.index==X_sample1.index[0]])\n",
    "#each sample is random selected from X\n",
    "#the sample will show the series order in X\n",
    "\n",
    "print(type(X))\n",
    "print(type(X_sample1))\n",
    "#type is the same"
   ]
  },
  {
   "cell_type": "code",
   "execution_count": 75,
   "metadata": {},
   "outputs": [
    {
     "name": "stdout",
     "output_type": "stream",
     "text": [
      "soc.religion.christian    599\n",
      "sci.med                   594\n",
      "comp.graphics             584\n",
      "alt.atheism               480\n",
      "Name: category_name, dtype: int64\n"
     ]
    },
    {
     "data": {
      "image/png": "[encoded data removed]",
      "text/plain": [
       "<Figure size 800x300 with 1 Axes>"
      ]
     },
     "metadata": {},
     "output_type": "display_data"
    },
    {
     "name": "stdout",
     "output_type": "stream",
     "text": [
      "soc.religion.christian    277\n",
      "sci.med                   262\n",
      "comp.graphics             241\n",
      "alt.atheism               220\n",
      "Name: category_name, dtype: int64\n"
     ]
    },
    {
     "data": {
      "image/png": "[encoded data removed]",
      "text/plain": [
       "<Figure size 800x300 with 1 Axes>"
      ]
     },
     "metadata": {},
     "output_type": "display_data"
    }
   ],
   "source": [
    "import matplotlib.pyplot as plt\n",
    "%matplotlib inline\n",
    "print(X.category_name.value_counts())\n",
    "X.category_name.value_counts().plot(kind = 'bar',\n",
    "                                    title = 'Category distribution',\n",
    "                                    ylim = [0, 700],        \n",
    "                                    rot = 0, fontsize = 11, figsize = (8,3))\n",
    "plt.show()\n",
    "print(X_sample.category_name.value_counts())\n",
    "# plot barchart for X_sample\n",
    "X_sample.category_name.value_counts().plot(kind = 'bar',\n",
    "                                           title = 'Category distribution',\n",
    "                                           ylim = [0, 300], \n",
    "                                           rot = 0, fontsize = 12, figsize = (8,3))\n",
    "plt.show()"
   ]
  },
  {
   "cell_type": "code",
   "execution_count": 76,
   "metadata": {},
   "outputs": [
    {
     "data": {
      "text/plain": [
       "<Axes: title={'center': 'Category distribution'}, xlabel='category_name'>"
      ]
     },
     "execution_count": 76,
     "metadata": {},
     "output_type": "execute_result"
    },
    {
     "data": {
      "image/png": "[encoded data removed]",
      "text/plain": [
       "<Figure size 800x600 with 1 Axes>"
      ]
     },
     "metadata": {},
     "output_type": "display_data"
    }
   ],
   "source": [
    "#Exercise 8 (take home)\n",
    "import matplotlib.pyplot as plt\n",
    "%matplotlib inline\n",
    "\n",
    "(pd.concat({'X.category_name': X, 'X_sample.category_name':\\\n",
    "            X_sample})\n",
    "   .groupby(level=0).category_name.value_counts()\n",
    "   .unstack(0)\n",
    "   .sort_index(ascending=False)\n",
    "   .plot(kind = 'bar',\n",
    "        title = 'Category distribution',\n",
    "        ylim = [0, 700],        \n",
    "        rot = 0, fontsize = 11, figsize = (8,6))\n",
    ")"
   ]
  },
  {
   "cell_type": "code",
   "execution_count": 77,
   "metadata": {},
   "outputs": [
    {
     "data": {
      "text/plain": [
       "3"
      ]
     },
     "execution_count": 77,
     "metadata": {},
     "output_type": "execute_result"
    }
   ],
   "source": [
    "import nltk\n",
    "X['unigrams'] = X['text'].apply(lambda x: dmh.tokenize_text(x))\n",
    "from sklearn.feature_extraction.text import CountVectorizer\n",
    "\n",
    "count_vect = CountVectorizer()\n",
    "X_counts = count_vect.fit_transform(X.text) \n",
    "analyze = count_vect.build_analyzer()\n",
    "analyze(\"I am craving for a hawaiian pizza right now\")\n",
    "X_counts.shape\n",
    "len(count_vect.get_feature_names_out()[1][:])"
   ]
  },
  {
   "cell_type": "code",
   "execution_count": 78,
   "metadata": {},
   "outputs": [
    {
     "data": {
      "text/plain": [
       "array(['01'], dtype=object)"
      ]
     },
     "execution_count": 78,
     "metadata": {},
     "output_type": "execute_result"
    }
   ],
   "source": [
    "#Exercise 10 (take home)\n",
    "index=np.where(X_counts[4:5, 0:100].toarray()==1)[1][1]\n",
    "count_vect.get_feature_names_out()[index:index+1]"
   ]
  },
  {
   "cell_type": "code",
   "execution_count": 79,
   "metadata": {},
   "outputs": [
    {
     "data": {
      "image/png": "[encoded data removed]",
      "text/plain": [
       "<Figure size 900x700 with 2 Axes>"
      ]
     },
     "metadata": {},
     "output_type": "display_data"
    }
   ],
   "source": [
    "plot_x = [\"term_\"+str(i) for i in count_vect.get_feature_names_out()[0:20]]\n",
    "plot_y = [\"doc_\"+ str(i) for i in list(X.index)[0:20]]\n",
    "plot_z = X_counts[0:20, 0:20].toarray() \n",
    "\n",
    "import seaborn as sns\n",
    "df_todraw = pd.DataFrame(plot_z, columns = plot_x, index = plot_y)\n",
    "plt.subplots(figsize=(9, 7))\n",
    "ax = sns.heatmap(df_todraw,\n",
    "                 cmap=\"PuRd\",\n",
    "                 vmin=0, vmax=1, annot=True)"
   ]
  },
  {
   "cell_type": "code",
   "execution_count": 80,
   "metadata": {},
   "outputs": [
    {
     "name": "stdout",
     "output_type": "stream",
     "text": [
      "[64, 140, 110]\n"
     ]
    },
    {
     "data": {
      "image/png": "[encoded data removed]",
      "text/plain": [
       "<Figure size 900x700 with 2 Axes>"
      ]
     },
     "metadata": {},
     "output_type": "display_data"
    }
   ],
   "source": [
    "#Exercise 11 (take home)\n",
    "\n",
    "max=[0,0,0]\n",
    "for i in range(X_counts.shape[0]//10):\n",
    "    for j in range(X_counts.shape[0]//10):\n",
    "        sum_=sum(sum(X_counts[10*i:10*(i+1), 10*j:10*(j+1)].toarray()))\n",
    "        if sum_>max[0]:\n",
    "            max=[sum_,i,j]\n",
    "print(max)\n",
    "i=max[1]\n",
    "j=max[2]\n",
    "plot_x = [\"term_\"+str(i) for i in count_vect.get_feature_names_out()[10*i-5:10*(i+1)+5]]\n",
    "plot_y = [\"doc_\"+ str(i) for i in list(X.index)[10*j-5:10*(j+1)+5]]\n",
    "plot_z = X_counts[10*i-5:10*(i+1)+5, 10*j-5:10*(j+1)+5].toarray() \n",
    "\n",
    "df_todraw = pd.DataFrame(plot_z, columns = plot_x, index = plot_y)\n",
    "plt.subplots(figsize=(9, 7))\n",
    "ax = sns.heatmap(df_todraw,\n",
    "                 cmap=\"PuRd\",\n",
    "                 vmin=0, vmax=1, annot=True)"
   ]
  },
  {
   "cell_type": "code",
   "execution_count": 81,
   "metadata": {},
   "outputs": [
    {
     "data": {
      "text/plain": [
       "134"
      ]
     },
     "execution_count": 81,
     "metadata": {},
     "output_type": "execute_result"
    }
   ],
   "source": [
    "term_frequencies = []\n",
    "for j in range(0,X_counts.shape[1]):\n",
    "    term_frequencies.append(sum(X_counts[:,j].toarray()))\n",
    "term_frequencies = np.asarray(X_counts.sum(axis=0))[0]\n",
    "term_frequencies[0]"
   ]
  },
  {
   "cell_type": "code",
   "execution_count": 82,
   "metadata": {},
   "outputs": [
    {
     "data": {
      "application/vnd.plotly.v1+json": {
       "config": {
        "plotlyServerURL": "https://plot.ly"
       },
       "data": [
        {
         "alignmentgroup": "True",
         "hovertemplate": "count_vect=%{x}<br>term_frequencies=%{y}<extra></extra>",
         "legendgroup": "",
         "marker": {
          "color": "#636efa",
          "pattern": {
           "shape": ""
          }
         },
         "name": "",
         "offsetgroup": "",
         "orientation": "v",
         "showlegend": false,
         "textposition": "auto",
         "type": "bar",
         "x": [
          "00",
          "000",
          "0000",
          "0000001200",
          "000005102000",
          "0001",
          "000100255pixel",
          "00014",
          "000406",
          "0007",
          "000usd",
          "0010",
          "001004",
          "0010580b",
          "001125",
          "001200201pixel",
          "0014",
          "001642",
          "00196",
          "002",
          "0028",
          "003258u19250",
          "0033",
          "0038",
          "0039",
          "004021809",
          "004158",
          "004627",
          "0049",
          "00500",
          "005148",
          "00630",
          "008561",
          "0094",
          "00am",
          "00index",
          "00pm",
          "01",
          "0100",
          "010116",
          "010702",
          "011255",
          "011308pxf3",
          "011605",
          "011720",
          "012019",
          "012536",
          "012946",
          "013",
          "013034",
          "0131",
          "013423tan102",
          "013657",
          "0138",
          "013846",
          "0150",
          "015518",
          "01580",
          "015931",
          "01720",
          "01752",
          "0179",
          "01821",
          "01830",
          "0184",
          "01852",
          "01854",
          "01890",
          "0195",
          "0199",
          "01a",
          "01wb",
          "02",
          "020",
          "0200",
          "020504",
          "020637",
          "020646",
          "020701tan102",
          "020751",
          "02115",
          "02118",
          "02139",
          "02142",
          "02154",
          "02160",
          "021635",
          "021708",
          "02173",
          "0223",
          "02254",
          "022621tan102",
          "023044",
          "0235",
          "0237",
          "024103",
          "024150",
          "024626",
          "025240",
          "025924",
          "0278",
          "02908",
          "0293",
          "03",
          "030105",
          "0303",
          "030334",
          "03051",
          "0306",
          "030734",
          "031423",
          "0318",
          "032251",
          "0330",
          "033446",
          "033843",
          "034226",
          "0349",
          "0358",
          "0362",
          "0372",
          "03756",
          "0380",
          "0391",
          "04",
          "040",
          "040286",
          "04046",
          "040493161915",
          "040819",
          "0410",
          "041343",
          "0418",
          "042100",
          "0423",
          "043654",
          "044140",
          "044946",
          "04g",
          "05",
          "0500",
          "050046mvs104",
          "0502",
          "050524",
          "050750",
          "0510",
          "051039",
          "0511",
          "051201",
          "051246",
          "0513",
          "053250",
          "05401",
          "05402",
          "05446",
          "054600",
          "055958",
          "0578",
          "06",
          "0600",
          "0600lines",
          "060493161931",
          "0608",
          "061",
          "062328",
          "062908mvs104",
          "06320",
          "063425",
          "0649",
          "06510",
          "065230",
          "0656",
          "068",
          "07",
          "0700",
          "0704",
          "0706",
          "071",
          "07102",
          "071613j5j",
          "071823",
          "0721",
          "0729",
          "07410",
          "0752",
          "07653",
          "077",
          "07748",
          "08",
          "0804",
          "08057",
          "080719",
          "081",
          "081052",
          "081303",
          "083731",
          "084",
          "084042",
          "084258",
          "085526",
          "08690",
          "08786",
          "08934",
          "09",
          "0900",
          "090030",
          "0901",
          "0903",
          "090306",
          "0908",
          "091139",
          "091258",
          "091844",
          "092051",
          "0922",
          "0926",
          "0930",
          "093300",
          "093904",
          "0943",
          "095148",
          "095220",
          "0987",
          "0_",
          "0______________________________________________________________________0",
          "0a",
          "0b",
          "0b10",
          "0b15",
          "0e9",
          "0hb",
          "0l7",
          "0s",
          "0u1",
          "0x",
          "0x00",
          "0x100",
          "0x1f",
          "0x3d4",
          "0x8",
          "0xc010",
          "0xc018",
          "10",
          "100",
          "1000",
          "10000",
          "100000",
          "100015",
          "100039",
          "100042",
          "1000mg",
          "1001",
          "10012",
          "10016",
          "10021",
          "1003",
          "10032",
          "10036",
          "10038",
          "1005",
          "10056",
          "1007",
          "100c",
          "100grams",
          "100k",
          "100lez",
          "100megs",
          "100mg",
          "101",
          "1010",
          "10101",
          "101010",
          "1013",
          "1015",
          "101747",
          "10179",
          "10193",
          "10196",
          "101h",
          "102",
          "102007",
          "1023",
          "1024",
          "1024x1024",
          "1024x512",
          "1024x728",
          "1024x768",
          "1024x768x24",
          "1024x768x65000",
          "1024x786x24",
          "10250",
          "1027",
          "1028",
          "102810",
          "1029",
          "103",
          "1030",
          "103237",
          "10368",
          "1039"
         ],
         "xaxis": "x",
         "y": [
          134,
          92,
          1,
          2,
          1,
          3,
          1,
          1,
          1,
          1,
          2,
          1,
          1,
          3,
          1,
          1,
          1,
          2,
          1,
          3,
          1,
          2,
          1,
          1,
          1,
          2,
          1,
          1,
          1,
          1,
          1,
          1,
          1,
          1,
          5,
          1,
          13,
          95,
          4,
          1,
          1,
          1,
          1,
          1,
          2,
          1,
          1,
          1,
          2,
          1,
          1,
          1,
          1,
          2,
          1,
          1,
          1,
          4,
          2,
          1,
          1,
          1,
          1,
          1,
          2,
          1,
          1,
          1,
          1,
          1,
          2,
          1,
          59,
          1,
          4,
          2,
          1,
          1,
          1,
          1,
          2,
          3,
          1,
          2,
          1,
          1,
          1,
          1,
          3,
          1,
          1,
          1,
          3,
          1,
          1,
          3,
          2,
          1,
          2,
          2,
          1,
          1,
          3,
          100,
          1,
          1,
          1,
          1,
          1,
          1,
          2,
          1,
          2,
          1,
          2,
          1,
          2,
          5,
          24,
          1,
          1,
          1,
          1,
          2,
          47,
          4,
          1,
          1,
          1,
          1,
          1,
          3,
          1,
          1,
          4,
          2,
          2,
          1,
          1,
          62,
          2,
          2,
          1,
          1,
          1,
          2,
          1,
          5,
          1,
          1,
          1,
          1,
          1,
          1,
          1,
          1,
          1,
          1,
          18,
          3,
          1,
          1,
          3,
          2,
          1,
          1,
          3,
          2,
          1,
          1,
          1,
          1,
          1,
          27,
          1,
          1,
          1,
          7,
          1,
          1,
          2,
          2,
          1,
          1,
          1,
          1,
          1,
          1,
          40,
          1,
          2,
          1,
          1,
          5,
          1,
          1,
          1,
          5,
          1,
          1,
          1,
          1,
          1,
          34,
          1,
          2,
          1,
          1,
          1,
          1,
          2,
          2,
          2,
          1,
          1,
          1,
          2,
          2,
          1,
          1,
          1,
          4,
          2,
          1,
          1,
          1,
          1,
          1,
          1,
          1,
          1,
          1,
          1,
          1,
          2,
          1,
          3,
          1,
          1,
          1,
          1,
          1,
          378,
          105,
          20,
          2,
          2,
          2,
          1,
          1,
          1,
          1,
          1,
          2,
          1,
          1,
          1,
          1,
          1,
          1,
          1,
          1,
          1,
          2,
          2,
          1,
          1,
          1,
          19,
          1,
          3,
          4,
          8,
          2,
          1,
          2,
          2,
          1,
          1,
          7,
          3,
          1,
          5,
          1,
          1,
          1,
          7,
          1,
          1,
          2,
          1,
          1,
          2,
          1,
          1,
          4,
          1,
          3,
          1,
          1
         ],
         "yaxis": "y"
        }
       ],
       "layout": {
        "barmode": "relative",
        "legend": {
         "tracegroupgap": 0
        },
        "margin": {
         "t": 60
        },
        "template": {
         "data": {
          "bar": [
           {
            "error_x": {
             "color": "#2a3f5f"
            },
            "error_y": {
             "color": "#2a3f5f"
            },
            "marker": {
             "line": {
              "color": "#E5ECF6",
              "width": 0.5
             },
             "pattern": {
              "fillmode": "overlay",
              "size": 10,
              "solidity": 0.2
             }
            },
            "type": "bar"
           }
          ],
          "barpolar": [
           {
            "marker": {
             "line": {
              "color": "#E5ECF6",
              "width": 0.5
             },
             "pattern": {
              "fillmode": "overlay",
              "size": 10,
              "solidity": 0.2
             }
            },
            "type": "barpolar"
           }
          ],
          "carpet": [
           {
            "aaxis": {
             "endlinecolor": "#2a3f5f",
             "gridcolor": "white",
             "linecolor": "white",
             "minorgridcolor": "white",
             "startlinecolor": "#2a3f5f"
            },
            "baxis": {
             "endlinecolor": "#2a3f5f",
             "gridcolor": "white",
             "linecolor": "white",
             "minorgridcolor": "white",
             "startlinecolor": "#2a3f5f"
            },
            "type": "carpet"
           }
          ],
          "choropleth": [
           {
            "colorbar": {
             "outlinewidth": 0,
             "ticks": ""
            },
            "type": "choropleth"
           }
          ],
          "contour": [
           {
            "colorbar": {
             "outlinewidth": 0,
             "ticks": ""
            },
            "colorscale": [
             [
              0,
              "#0d0887"
             ],
             [
              0.1111111111111111,
              "#46039f"
             ],
             [
              0.2222222222222222,
              "#7201a8"
             ],
             [
              0.3333333333333333,
              "#9c179e"
             ],
             [
              0.4444444444444444,
              "#bd3786"
             ],
             [
              0.5555555555555556,
              "#d8576b"
             ],
             [
              0.6666666666666666,
              "#ed7953"
             ],
             [
              0.7777777777777778,
              "#fb9f3a"
             ],
             [
              0.8888888888888888,
              "#fdca26"
             ],
             [
              1,
              "#f0f921"
             ]
            ],
            "type": "contour"
           }
          ],
          "contourcarpet": [
           {
            "colorbar": {
             "outlinewidth": 0,
             "ticks": ""
            },
            "type": "contourcarpet"
           }
          ],
          "heatmap": [
           {
            "colorbar": {
             "outlinewidth": 0,
             "ticks": ""
            },
            "colorscale": [
             [
              0,
              "#0d0887"
             ],
             [
              0.1111111111111111,
              "#46039f"
             ],
             [
              0.2222222222222222,
              "#7201a8"
             ],
             [
              0.3333333333333333,
              "#9c179e"
             ],
             [
              0.4444444444444444,
              "#bd3786"
             ],
             [
              0.5555555555555556,
              "#d8576b"
             ],
             [
              0.6666666666666666,
              "#ed7953"
             ],
             [
              0.7777777777777778,
              "#fb9f3a"
             ],
             [
              0.8888888888888888,
              "#fdca26"
             ],
             [
              1,
              "#f0f921"
             ]
            ],
            "type": "heatmap"
           }
          ],
          "heatmapgl": [
           {
            "colorbar": {
             "outlinewidth": 0,
             "ticks": ""
            },
            "colorscale": [
             [
              0,
              "#0d0887"
             ],
             [
              0.1111111111111111,
              "#46039f"
             ],
             [
              0.2222222222222222,
              "#7201a8"
             ],
             [
              0.3333333333333333,
              "#9c179e"
             ],
             [
              0.4444444444444444,
              "#bd3786"
             ],
             [
              0.5555555555555556,
              "#d8576b"
             ],
             [
              0.6666666666666666,
              "#ed7953"
             ],
             [
              0.7777777777777778,
              "#fb9f3a"
             ],
             [
              0.8888888888888888,
              "#fdca26"
             ],
             [
              1,
              "#f0f921"
             ]
            ],
            "type": "heatmapgl"
           }
          ],
          "histogram": [
           {
            "marker": {
             "pattern": {
              "fillmode": "overlay",
              "size": 10,
              "solidity": 0.2
             }
            },
            "type": "histogram"
           }
          ],
          "histogram2d": [
           {
            "colorbar": {
             "outlinewidth": 0,
             "ticks": ""
            },
            "colorscale": [
             [
              0,
              "#0d0887"
             ],
             [
              0.1111111111111111,
              "#46039f"
             ],
             [
              0.2222222222222222,
              "#7201a8"
             ],
             [
              0.3333333333333333,
              "#9c179e"
             ],
             [
              0.4444444444444444,
              "#bd3786"
             ],
             [
              0.5555555555555556,
              "#d8576b"
             ],
             [
              0.6666666666666666,
              "#ed7953"
             ],
             [
              0.7777777777777778,
              "#fb9f3a"
             ],
             [
              0.8888888888888888,
              "#fdca26"
             ],
             [
              1,
              "#f0f921"
             ]
            ],
            "type": "histogram2d"
           }
          ],
          "histogram2dcontour": [
           {
            "colorbar": {
             "outlinewidth": 0,
             "ticks": ""
            },
            "colorscale": [
             [
              0,
              "#0d0887"
             ],
             [
              0.1111111111111111,
              "#46039f"
             ],
             [
              0.2222222222222222,
              "#7201a8"
             ],
             [
              0.3333333333333333,
              "#9c179e"
             ],
             [
              0.4444444444444444,
              "#bd3786"
             ],
             [
              0.5555555555555556,
              "#d8576b"
             ],
             [
              0.6666666666666666,
              "#ed7953"
             ],
             [
              0.7777777777777778,
              "#fb9f3a"
             ],
             [
              0.8888888888888888,
              "#fdca26"
             ],
             [
              1,
              "#f0f921"
             ]
            ],
            "type": "histogram2dcontour"
           }
          ],
          "mesh3d": [
           {
            "colorbar": {
             "outlinewidth": 0,
             "ticks": ""
            },
            "type": "mesh3d"
           }
          ],
          "parcoords": [
           {
            "line": {
             "colorbar": {
              "outlinewidth": 0,
              "ticks": ""
             }
            },
            "type": "parcoords"
           }
          ],
          "pie": [
           {
            "automargin": true,
            "type": "pie"
           }
          ],
          "scatter": [
           {
            "fillpattern": {
             "fillmode": "overlay",
             "size": 10,
             "solidity": 0.2
            },
            "type": "scatter"
           }
          ],
          "scatter3d": [
           {
            "line": {
             "colorbar": {
              "outlinewidth": 0,
              "ticks": ""
             }
            },
            "marker": {
             "colorbar": {
              "outlinewidth": 0,
              "ticks": ""
             }
            },
            "type": "scatter3d"
           }
          ],
          "scattercarpet": [
           {
            "marker": {
             "colorbar": {
              "outlinewidth": 0,
              "ticks": ""
             }
            },
            "type": "scattercarpet"
           }
          ],
          "scattergeo": [
           {
            "marker": {
             "colorbar": {
              "outlinewidth": 0,
              "ticks": ""
             }
            },
            "type": "scattergeo"
           }
          ],
          "scattergl": [
           {
            "marker": {
             "colorbar": {
              "outlinewidth": 0,
              "ticks": ""
             }
            },
            "type": "scattergl"
           }
          ],
          "scattermapbox": [
           {
            "marker": {
             "colorbar": {
              "outlinewidth": 0,
              "ticks": ""
             }
            },
            "type": "scattermapbox"
           }
          ],
          "scatterpolar": [
           {
            "marker": {
             "colorbar": {
              "outlinewidth": 0,
              "ticks": ""
             }
            },
            "type": "scatterpolar"
           }
          ],
          "scatterpolargl": [
           {
            "marker": {
             "colorbar": {
              "outlinewidth": 0,
              "ticks": ""
             }
            },
            "type": "scatterpolargl"
           }
          ],
          "scatterternary": [
           {
            "marker": {
             "colorbar": {
              "outlinewidth": 0,
              "ticks": ""
             }
            },
            "type": "scatterternary"
           }
          ],
          "surface": [
           {
            "colorbar": {
             "outlinewidth": 0,
             "ticks": ""
            },
            "colorscale": [
             [
              0,
              "#0d0887"
             ],
             [
              0.1111111111111111,
              "#46039f"
             ],
             [
              0.2222222222222222,
              "#7201a8"
             ],
             [
              0.3333333333333333,
              "#9c179e"
             ],
             [
              0.4444444444444444,
              "#bd3786"
             ],
             [
              0.5555555555555556,
              "#d8576b"
             ],
             [
              0.6666666666666666,
              "#ed7953"
             ],
             [
              0.7777777777777778,
              "#fb9f3a"
             ],
             [
              0.8888888888888888,
              "#fdca26"
             ],
             [
              1,
              "#f0f921"
             ]
            ],
            "type": "surface"
           }
          ],
          "table": [
           {
            "cells": {
             "fill": {
              "color": "#EBF0F8"
             },
             "line": {
              "color": "white"
             }
            },
            "header": {
             "fill": {
              "color": "#C8D4E3"
             },
             "line": {
              "color": "white"
             }
            },
            "type": "table"
           }
          ]
         },
         "layout": {
          "annotationdefaults": {
           "arrowcolor": "#2a3f5f",
           "arrowhead": 0,
           "arrowwidth": 1
          },
          "autotypenumbers": "strict",
          "coloraxis": {
           "colorbar": {
            "outlinewidth": 0,
            "ticks": ""
           }
          },
          "colorscale": {
           "diverging": [
            [
             0,
             "#8e0152"
            ],
            [
             0.1,
             "#c51b7d"
            ],
            [
             0.2,
             "#de77ae"
            ],
            [
             0.3,
             "#f1b6da"
            ],
            [
             0.4,
             "#fde0ef"
            ],
            [
             0.5,
             "#f7f7f7"
            ],
            [
             0.6,
             "#e6f5d0"
            ],
            [
             0.7,
             "#b8e186"
            ],
            [
             0.8,
             "#7fbc41"
            ],
            [
             0.9,
             "#4d9221"
            ],
            [
             1,
             "#276419"
            ]
           ],
           "sequential": [
            [
             0,
             "#0d0887"
            ],
            [
             0.1111111111111111,
             "#46039f"
            ],
            [
             0.2222222222222222,
             "#7201a8"
            ],
            [
             0.3333333333333333,
             "#9c179e"
            ],
            [
             0.4444444444444444,
             "#bd3786"
            ],
            [
             0.5555555555555556,
             "#d8576b"
            ],
            [
             0.6666666666666666,
             "#ed7953"
            ],
            [
             0.7777777777777778,
             "#fb9f3a"
            ],
            [
             0.8888888888888888,
             "#fdca26"
            ],
            [
             1,
             "#f0f921"
            ]
           ],
           "sequentialminus": [
            [
             0,
             "#0d0887"
            ],
            [
             0.1111111111111111,
             "#46039f"
            ],
            [
             0.2222222222222222,
             "#7201a8"
            ],
            [
             0.3333333333333333,
             "#9c179e"
            ],
            [
             0.4444444444444444,
             "#bd3786"
            ],
            [
             0.5555555555555556,
             "#d8576b"
            ],
            [
             0.6666666666666666,
             "#ed7953"
            ],
            [
             0.7777777777777778,
             "#fb9f3a"
            ],
            [
             0.8888888888888888,
             "#fdca26"
            ],
            [
             1,
             "#f0f921"
            ]
           ]
          },
          "colorway": [
           "#636efa",
           "#EF553B",
           "#00cc96",
           "#ab63fa",
           "#FFA15A",
           "#19d3f3",
           "#FF6692",
           "#B6E880",
           "#FF97FF",
           "#FECB52"
          ],
          "font": {
           "color": "#2a3f5f"
          },
          "geo": {
           "bgcolor": "white",
           "lakecolor": "white",
           "landcolor": "#E5ECF6",
           "showlakes": true,
           "showland": true,
           "subunitcolor": "white"
          },
          "hoverlabel": {
           "align": "left"
          },
          "hovermode": "closest",
          "mapbox": {
           "style": "light"
          },
          "paper_bgcolor": "white",
          "plot_bgcolor": "#E5ECF6",
          "polar": {
           "angularaxis": {
            "gridcolor": "white",
            "linecolor": "white",
            "ticks": ""
           },
           "bgcolor": "#E5ECF6",
           "radialaxis": {
            "gridcolor": "white",
            "linecolor": "white",
            "ticks": ""
           }
          },
          "scene": {
           "xaxis": {
            "backgroundcolor": "#E5ECF6",
            "gridcolor": "white",
            "gridwidth": 2,
            "linecolor": "white",
            "showbackground": true,
            "ticks": "",
            "zerolinecolor": "white"
           },
           "yaxis": {
            "backgroundcolor": "#E5ECF6",
            "gridcolor": "white",
            "gridwidth": 2,
            "linecolor": "white",
            "showbackground": true,
            "ticks": "",
            "zerolinecolor": "white"
           },
           "zaxis": {
            "backgroundcolor": "#E5ECF6",
            "gridcolor": "white",
            "gridwidth": 2,
            "linecolor": "white",
            "showbackground": true,
            "ticks": "",
            "zerolinecolor": "white"
           }
          },
          "shapedefaults": {
           "line": {
            "color": "#2a3f5f"
           }
          },
          "ternary": {
           "aaxis": {
            "gridcolor": "white",
            "linecolor": "white",
            "ticks": ""
           },
           "baxis": {
            "gridcolor": "white",
            "linecolor": "white",
            "ticks": ""
           },
           "bgcolor": "#E5ECF6",
           "caxis": {
            "gridcolor": "white",
            "linecolor": "white",
            "ticks": ""
           }
          },
          "title": {
           "x": 0.05
          },
          "xaxis": {
           "automargin": true,
           "gridcolor": "white",
           "linecolor": "white",
           "ticks": "",
           "title": {
            "standoff": 15
           },
           "zerolinecolor": "white",
           "zerolinewidth": 2
          },
          "yaxis": {
           "automargin": true,
           "gridcolor": "white",
           "linecolor": "white",
           "ticks": "",
           "title": {
            "standoff": 15
           },
           "zerolinecolor": "white",
           "zerolinewidth": 2
          }
         }
        },
        "xaxis": {
         "anchor": "y",
         "domain": [
          0,
          1
         ],
         "title": {
          "text": "count_vect"
         }
        },
        "yaxis": {
         "anchor": "x",
         "domain": [
          0,
          1
         ],
         "title": {
          "text": "term_frequencies"
         }
        }
       }
      }
     },
     "metadata": {},
     "output_type": "display_data"
    }
   ],
   "source": [
    "#Exercise 12 (take home)\n",
    "\n",
    "import plotly.express as px\n",
    "import pandas as pd\n",
    "df = pd.DataFrame(dict(\n",
    "    count_vect = count_vect.get_feature_names_out()[:300],\n",
    "    term_frequencies = term_frequencies[:300]))\n",
    "\n",
    "fig = px.bar(df, x = 'count_vect', y = 'term_frequencies')\n",
    "\n",
    "fig.show()"
   ]
  },
  {
   "cell_type": "code",
   "execution_count": 83,
   "metadata": {},
   "outputs": [
    {
     "data": {
      "application/vnd.plotly.v1+json": {
       "config": {
        "plotlyServerURL": "https://plot.ly"
       },
       "data": [
        {
         "alignmentgroup": "True",
         "hovertemplate": "count_vect=%{x}<br>term_frequencies=%{y}<extra></extra>",
         "legendgroup": "",
         "marker": {
          "color": "#636efa",
          "pattern": {
           "shape": ""
          }
         },
         "name": "",
         "offsetgroup": "",
         "orientation": "v",
         "showlegend": false,
         "textposition": "auto",
         "type": "bar",
         "x": [
          "and",
          "for",
          "in",
          "is",
          "it",
          "not",
          "of",
          "that",
          "the",
          "this",
          "to",
          "you"
         ],
         "xaxis": "x",
         "y": [
          13017,
          5962,
          11226,
          12343,
          8447,
          5285,
          17660,
          10723,
          29825,
          5063,
          17222,
          6157
         ],
         "yaxis": "y"
        }
       ],
       "layout": {
        "barmode": "relative",
        "legend": {
         "tracegroupgap": 0
        },
        "margin": {
         "t": 60
        },
        "template": {
         "data": {
          "bar": [
           {
            "error_x": {
             "color": "#2a3f5f"
            },
            "error_y": {
             "color": "#2a3f5f"
            },
            "marker": {
             "line": {
              "color": "#E5ECF6",
              "width": 0.5
             },
             "pattern": {
              "fillmode": "overlay",
              "size": 10,
              "solidity": 0.2
             }
            },
            "type": "bar"
           }
          ],
          "barpolar": [
           {
            "marker": {
             "line": {
              "color": "#E5ECF6",
              "width": 0.5
             },
             "pattern": {
              "fillmode": "overlay",
              "size": 10,
              "solidity": 0.2
             }
            },
            "type": "barpolar"
           }
          ],
          "carpet": [
           {
            "aaxis": {
             "endlinecolor": "#2a3f5f",
             "gridcolor": "white",
             "linecolor": "white",
             "minorgridcolor": "white",
             "startlinecolor": "#2a3f5f"
            },
            "baxis": {
             "endlinecolor": "#2a3f5f",
             "gridcolor": "white",
             "linecolor": "white",
             "minorgridcolor": "white",
             "startlinecolor": "#2a3f5f"
            },
            "type": "carpet"
           }
          ],
          "choropleth": [
           {
            "colorbar": {
             "outlinewidth": 0,
             "ticks": ""
            },
            "type": "choropleth"
           }
          ],
          "contour": [
           {
            "colorbar": {
             "outlinewidth": 0,
             "ticks": ""
            },
            "colorscale": [
             [
              0,
              "#0d0887"
             ],
             [
              0.1111111111111111,
              "#46039f"
             ],
             [
              0.2222222222222222,
              "#7201a8"
             ],
             [
              0.3333333333333333,
              "#9c179e"
             ],
             [
              0.4444444444444444,
              "#bd3786"
             ],
             [
              0.5555555555555556,
              "#d8576b"
             ],
             [
              0.6666666666666666,
              "#ed7953"
             ],
             [
              0.7777777777777778,
              "#fb9f3a"
             ],
             [
              0.8888888888888888,
              "#fdca26"
             ],
             [
              1,
              "#f0f921"
             ]
            ],
            "type": "contour"
           }
          ],
          "contourcarpet": [
           {
            "colorbar": {
             "outlinewidth": 0,
             "ticks": ""
            },
            "type": "contourcarpet"
           }
          ],
          "heatmap": [
           {
            "colorbar": {
             "outlinewidth": 0,
             "ticks": ""
            },
            "colorscale": [
             [
              0,
              "#0d0887"
             ],
             [
              0.1111111111111111,
              "#46039f"
             ],
             [
              0.2222222222222222,
              "#7201a8"
             ],
             [
              0.3333333333333333,
              "#9c179e"
             ],
             [
              0.4444444444444444,
              "#bd3786"
             ],
             [
              0.5555555555555556,
              "#d8576b"
             ],
             [
              0.6666666666666666,
              "#ed7953"
             ],
             [
              0.7777777777777778,
              "#fb9f3a"
             ],
             [
              0.8888888888888888,
              "#fdca26"
             ],
             [
              1,
              "#f0f921"
             ]
            ],
            "type": "heatmap"
           }
          ],
          "heatmapgl": [
           {
            "colorbar": {
             "outlinewidth": 0,
             "ticks": ""
            },
            "colorscale": [
             [
              0,
              "#0d0887"
             ],
             [
              0.1111111111111111,
              "#46039f"
             ],
             [
              0.2222222222222222,
              "#7201a8"
             ],
             [
              0.3333333333333333,
              "#9c179e"
             ],
             [
              0.4444444444444444,
              "#bd3786"
             ],
             [
              0.5555555555555556,
              "#d8576b"
             ],
             [
              0.6666666666666666,
              "#ed7953"
             ],
             [
              0.7777777777777778,
              "#fb9f3a"
             ],
             [
              0.8888888888888888,
              "#fdca26"
             ],
             [
              1,
              "#f0f921"
             ]
            ],
            "type": "heatmapgl"
           }
          ],
          "histogram": [
           {
            "marker": {
             "pattern": {
              "fillmode": "overlay",
              "size": 10,
              "solidity": 0.2
             }
            },
            "type": "histogram"
           }
          ],
          "histogram2d": [
           {
            "colorbar": {
             "outlinewidth": 0,
             "ticks": ""
            },
            "colorscale": [
             [
              0,
              "#0d0887"
             ],
             [
              0.1111111111111111,
              "#46039f"
             ],
             [
              0.2222222222222222,
              "#7201a8"
             ],
             [
              0.3333333333333333,
              "#9c179e"
             ],
             [
              0.4444444444444444,
              "#bd3786"
             ],
             [
              0.5555555555555556,
              "#d8576b"
             ],
             [
              0.6666666666666666,
              "#ed7953"
             ],
             [
              0.7777777777777778,
              "#fb9f3a"
             ],
             [
              0.8888888888888888,
              "#fdca26"
             ],
             [
              1,
              "#f0f921"
             ]
            ],
            "type": "histogram2d"
           }
          ],
          "histogram2dcontour": [
           {
            "colorbar": {
             "outlinewidth": 0,
             "ticks": ""
            },
            "colorscale": [
             [
              0,
              "#0d0887"
             ],
             [
              0.1111111111111111,
              "#46039f"
             ],
             [
              0.2222222222222222,
              "#7201a8"
             ],
             [
              0.3333333333333333,
              "#9c179e"
             ],
             [
              0.4444444444444444,
              "#bd3786"
             ],
             [
              0.5555555555555556,
              "#d8576b"
             ],
             [
              0.6666666666666666,
              "#ed7953"
             ],
             [
              0.7777777777777778,
              "#fb9f3a"
             ],
             [
              0.8888888888888888,
              "#fdca26"
             ],
             [
              1,
              "#f0f921"
             ]
            ],
            "type": "histogram2dcontour"
           }
          ],
          "mesh3d": [
           {
            "colorbar": {
             "outlinewidth": 0,
             "ticks": ""
            },
            "type": "mesh3d"
           }
          ],
          "parcoords": [
           {
            "line": {
             "colorbar": {
              "outlinewidth": 0,
              "ticks": ""
             }
            },
            "type": "parcoords"
           }
          ],
          "pie": [
           {
            "automargin": true,
            "type": "pie"
           }
          ],
          "scatter": [
           {
            "fillpattern": {
             "fillmode": "overlay",
             "size": 10,
             "solidity": 0.2
            },
            "type": "scatter"
           }
          ],
          "scatter3d": [
           {
            "line": {
             "colorbar": {
              "outlinewidth": 0,
              "ticks": ""
             }
            },
            "marker": {
             "colorbar": {
              "outlinewidth": 0,
              "ticks": ""
             }
            },
            "type": "scatter3d"
           }
          ],
          "scattercarpet": [
           {
            "marker": {
             "colorbar": {
              "outlinewidth": 0,
              "ticks": ""
             }
            },
            "type": "scattercarpet"
           }
          ],
          "scattergeo": [
           {
            "marker": {
             "colorbar": {
              "outlinewidth": 0,
              "ticks": ""
             }
            },
            "type": "scattergeo"
           }
          ],
          "scattergl": [
           {
            "marker": {
             "colorbar": {
              "outlinewidth": 0,
              "ticks": ""
             }
            },
            "type": "scattergl"
           }
          ],
          "scattermapbox": [
           {
            "marker": {
             "colorbar": {
              "outlinewidth": 0,
              "ticks": ""
             }
            },
            "type": "scattermapbox"
           }
          ],
          "scatterpolar": [
           {
            "marker": {
             "colorbar": {
              "outlinewidth": 0,
              "ticks": ""
             }
            },
            "type": "scatterpolar"
           }
          ],
          "scatterpolargl": [
           {
            "marker": {
             "colorbar": {
              "outlinewidth": 0,
              "ticks": ""
             }
            },
            "type": "scatterpolargl"
           }
          ],
          "scatterternary": [
           {
            "marker": {
             "colorbar": {
              "outlinewidth": 0,
              "ticks": ""
             }
            },
            "type": "scatterternary"
           }
          ],
          "surface": [
           {
            "colorbar": {
             "outlinewidth": 0,
             "ticks": ""
            },
            "colorscale": [
             [
              0,
              "#0d0887"
             ],
             [
              0.1111111111111111,
              "#46039f"
             ],
             [
              0.2222222222222222,
              "#7201a8"
             ],
             [
              0.3333333333333333,
              "#9c179e"
             ],
             [
              0.4444444444444444,
              "#bd3786"
             ],
             [
              0.5555555555555556,
              "#d8576b"
             ],
             [
              0.6666666666666666,
              "#ed7953"
             ],
             [
              0.7777777777777778,
              "#fb9f3a"
             ],
             [
              0.8888888888888888,
              "#fdca26"
             ],
             [
              1,
              "#f0f921"
             ]
            ],
            "type": "surface"
           }
          ],
          "table": [
           {
            "cells": {
             "fill": {
              "color": "#EBF0F8"
             },
             "line": {
              "color": "white"
             }
            },
            "header": {
             "fill": {
              "color": "#C8D4E3"
             },
             "line": {
              "color": "white"
             }
            },
            "type": "table"
           }
          ]
         },
         "layout": {
          "annotationdefaults": {
           "arrowcolor": "#2a3f5f",
           "arrowhead": 0,
           "arrowwidth": 1
          },
          "autotypenumbers": "strict",
          "coloraxis": {
           "colorbar": {
            "outlinewidth": 0,
            "ticks": ""
           }
          },
          "colorscale": {
           "diverging": [
            [
             0,
             "#8e0152"
            ],
            [
             0.1,
             "#c51b7d"
            ],
            [
             0.2,
             "#de77ae"
            ],
            [
             0.3,
             "#f1b6da"
            ],
            [
             0.4,
             "#fde0ef"
            ],
            [
             0.5,
             "#f7f7f7"
            ],
            [
             0.6,
             "#e6f5d0"
            ],
            [
             0.7,
             "#b8e186"
            ],
            [
             0.8,
             "#7fbc41"
            ],
            [
             0.9,
             "#4d9221"
            ],
            [
             1,
             "#276419"
            ]
           ],
           "sequential": [
            [
             0,
             "#0d0887"
            ],
            [
             0.1111111111111111,
             "#46039f"
            ],
            [
             0.2222222222222222,
             "#7201a8"
            ],
            [
             0.3333333333333333,
             "#9c179e"
            ],
            [
             0.4444444444444444,
             "#bd3786"
            ],
            [
             0.5555555555555556,
             "#d8576b"
            ],
            [
             0.6666666666666666,
             "#ed7953"
            ],
            [
             0.7777777777777778,
             "#fb9f3a"
            ],
            [
             0.8888888888888888,
             "#fdca26"
            ],
            [
             1,
             "#f0f921"
            ]
           ],
           "sequentialminus": [
            [
             0,
             "#0d0887"
            ],
            [
             0.1111111111111111,
             "#46039f"
            ],
            [
             0.2222222222222222,
             "#7201a8"
            ],
            [
             0.3333333333333333,
             "#9c179e"
            ],
            [
             0.4444444444444444,
             "#bd3786"
            ],
            [
             0.5555555555555556,
             "#d8576b"
            ],
            [
             0.6666666666666666,
             "#ed7953"
            ],
            [
             0.7777777777777778,
             "#fb9f3a"
            ],
            [
             0.8888888888888888,
             "#fdca26"
            ],
            [
             1,
             "#f0f921"
            ]
           ]
          },
          "colorway": [
           "#636efa",
           "#EF553B",
           "#00cc96",
           "#ab63fa",
           "#FFA15A",
           "#19d3f3",
           "#FF6692",
           "#B6E880",
           "#FF97FF",
           "#FECB52"
          ],
          "font": {
           "color": "#2a3f5f"
          },
          "geo": {
           "bgcolor": "white",
           "lakecolor": "white",
           "landcolor": "#E5ECF6",
           "showlakes": true,
           "showland": true,
           "subunitcolor": "white"
          },
          "hoverlabel": {
           "align": "left"
          },
          "hovermode": "closest",
          "mapbox": {
           "style": "light"
          },
          "paper_bgcolor": "white",
          "plot_bgcolor": "#E5ECF6",
          "polar": {
           "angularaxis": {
            "gridcolor": "white",
            "linecolor": "white",
            "ticks": ""
           },
           "bgcolor": "#E5ECF6",
           "radialaxis": {
            "gridcolor": "white",
            "linecolor": "white",
            "ticks": ""
           }
          },
          "scene": {
           "xaxis": {
            "backgroundcolor": "#E5ECF6",
            "gridcolor": "white",
            "gridwidth": 2,
            "linecolor": "white",
            "showbackground": true,
            "ticks": "",
            "zerolinecolor": "white"
           },
           "yaxis": {
            "backgroundcolor": "#E5ECF6",
            "gridcolor": "white",
            "gridwidth": 2,
            "linecolor": "white",
            "showbackground": true,
            "ticks": "",
            "zerolinecolor": "white"
           },
           "zaxis": {
            "backgroundcolor": "#E5ECF6",
            "gridcolor": "white",
            "gridwidth": 2,
            "linecolor": "white",
            "showbackground": true,
            "ticks": "",
            "zerolinecolor": "white"
           }
          },
          "shapedefaults": {
           "line": {
            "color": "#2a3f5f"
           }
          },
          "ternary": {
           "aaxis": {
            "gridcolor": "white",
            "linecolor": "white",
            "ticks": ""
           },
           "baxis": {
            "gridcolor": "white",
            "linecolor": "white",
            "ticks": ""
           },
           "bgcolor": "#E5ECF6",
           "caxis": {
            "gridcolor": "white",
            "linecolor": "white",
            "ticks": ""
           }
          },
          "title": {
           "x": 0.05
          },
          "xaxis": {
           "automargin": true,
           "gridcolor": "white",
           "linecolor": "white",
           "ticks": "",
           "title": {
            "standoff": 15
           },
           "zerolinecolor": "white",
           "zerolinewidth": 2
          },
          "yaxis": {
           "automargin": true,
           "gridcolor": "white",
           "linecolor": "white",
           "ticks": "",
           "title": {
            "standoff": 15
           },
           "zerolinecolor": "white",
           "zerolinewidth": 2
          }
         }
        },
        "xaxis": {
         "anchor": "y",
         "domain": [
          0,
          1
         ],
         "title": {
          "text": "count_vect"
         }
        },
        "yaxis": {
         "anchor": "x",
         "domain": [
          0,
          1
         ],
         "title": {
          "text": "term_frequencies"
         }
        }
       }
      }
     },
     "metadata": {},
     "output_type": "display_data"
    }
   ],
   "source": [
    "#Exercise 13 (take home)\n",
    "x=[];y=[]\n",
    "for i in range(term_frequencies.shape[0]):\n",
    "    if term_frequencies[i]>5000:\n",
    "       x=np.concatenate([x,count_vect.get_feature_names_out()[i:i+1]])\n",
    "       y=np.concatenate([y,term_frequencies[i:i+1]])\n",
    "df = pd.DataFrame(dict(\n",
    "    count_vect = x,\n",
    "    term_frequencies = y))\n",
    "fig = px.bar(df, x = 'count_vect', y = 'term_frequencies')\n",
    "fig.show()"
   ]
  },
  {
   "cell_type": "code",
   "execution_count": 84,
   "metadata": {},
   "outputs": [
    {
     "data": {
      "application/vnd.plotly.v1+json": {
       "config": {
        "plotlyServerURL": "https://plot.ly"
       },
       "data": [
        {
         "alignmentgroup": "True",
         "hovertemplate": "count_vect=%{x}<br>term_frequencies=%{y}<extra></extra>",
         "legendgroup": "",
         "marker": {
          "color": "#636efa",
          "pattern": {
           "shape": ""
          }
         },
         "name": "",
         "offsetgroup": "",
         "orientation": "v",
         "showlegend": false,
         "textposition": "auto",
         "type": "bar",
         "x": [
          "about",
          "all",
          "also",
          "am",
          "an",
          "and",
          "any",
          "anyone",
          "are",
          "article",
          "as",
          "at",
          "be",
          "because",
          "been",
          "being",
          "believe",
          "bible",
          "but",
          "by",
          "can",
          "christian",
          "com",
          "could",
          "cs",
          "did",
          "do",
          "does",
          "don",
          "edu",
          "even",
          "find",
          "first",
          "for",
          "from",
          "get",
          "god",
          "good",
          "graphics",
          "had",
          "has",
          "have",
          "he",
          "here",
          "him",
          "his",
          "host",
          "how",
          "if",
          "image",
          "in",
          "into",
          "is",
          "it",
          "jesus",
          "just",
          "know",
          "like",
          "lines",
          "make",
          "many",
          "may",
          "me",
          "more",
          "most",
          "much",
          "must",
          "my",
          "need",
          "new",
          "nntp",
          "no",
          "not",
          "now",
          "of",
          "on",
          "one",
          "only",
          "or",
          "organization",
          "other",
          "our",
          "out",
          "people",
          "point",
          "posting",
          "question",
          "re",
          "reply",
          "said",
          "same",
          "say",
          "science",
          "see",
          "should",
          "so",
          "some",
          "something",
          "subject",
          "such",
          "system",
          "than",
          "that",
          "the",
          "their",
          "them",
          "then",
          "there",
          "these",
          "they",
          "things",
          "think",
          "this",
          "those",
          "time",
          "to",
          "true",
          "two",
          "university",
          "up",
          "us",
          "use",
          "ve",
          "very",
          "was",
          "way",
          "we",
          "well",
          "were",
          "what",
          "when",
          "where",
          "which",
          "who",
          "why",
          "will",
          "with",
          "world",
          "would",
          "writes",
          "you",
          "your"
         ],
         "xaxis": "x",
         "y": [
          2148,
          2093,
          1090,
          852,
          2393,
          13017,
          1669,
          557,
          4769,
          1453,
          4015,
          2191,
          4898,
          952,
          1068,
          719,
          803,
          541,
          3453,
          2548,
          2818,
          546,
          2172,
          754,
          729,
          551,
          2193,
          1151,
          1400,
          4675,
          765,
          545,
          531,
          5962,
          4877,
          806,
          2216,
          805,
          613,
          870,
          1671,
          4218,
          2232,
          619,
          597,
          1318,
          739,
          1100,
          3208,
          565,
          11226,
          628,
          12343,
          8447,
          825,
          1130,
          1230,
          1177,
          2353,
          557,
          841,
          850,
          1543,
          1286,
          730,
          649,
          594,
          2143,
          521,
          676,
          710,
          1791,
          5285,
          646,
          17660,
          3709,
          2312,
          1127,
          3432,
          2192,
          1278,
          763,
          1142,
          1604,
          531,
          892,
          603,
          2186,
          501,
          556,
          517,
          840,
          558,
          814,
          851,
          1912,
          1802,
          598,
          2464,
          766,
          512,
          1045,
          10723,
          29825,
          1184,
          914,
          989,
          2556,
          850,
          2448,
          576,
          1213,
          5063,
          722,
          959,
          17222,
          504,
          542,
          1170,
          885,
          808,
          772,
          559,
          805,
          3020,
          686,
          2674,
          745,
          1028,
          2472,
          1215,
          588,
          1599,
          1742,
          811,
          1925,
          3655,
          650,
          2000,
          1645,
          6157,
          1793
         ],
         "yaxis": "y"
        }
       ],
       "layout": {
        "barmode": "relative",
        "legend": {
         "tracegroupgap": 0
        },
        "margin": {
         "t": 60
        },
        "template": {
         "data": {
          "bar": [
           {
            "error_x": {
             "color": "#2a3f5f"
            },
            "error_y": {
             "color": "#2a3f5f"
            },
            "marker": {
             "line": {
              "color": "#E5ECF6",
              "width": 0.5
             },
             "pattern": {
              "fillmode": "overlay",
              "size": 10,
              "solidity": 0.2
             }
            },
            "type": "bar"
           }
          ],
          "barpolar": [
           {
            "marker": {
             "line": {
              "color": "#E5ECF6",
              "width": 0.5
             },
             "pattern": {
              "fillmode": "overlay",
              "size": 10,
              "solidity": 0.2
             }
            },
            "type": "barpolar"
           }
          ],
          "carpet": [
           {
            "aaxis": {
             "endlinecolor": "#2a3f5f",
             "gridcolor": "white",
             "linecolor": "white",
             "minorgridcolor": "white",
             "startlinecolor": "#2a3f5f"
            },
            "baxis": {
             "endlinecolor": "#2a3f5f",
             "gridcolor": "white",
             "linecolor": "white",
             "minorgridcolor": "white",
             "startlinecolor": "#2a3f5f"
            },
            "type": "carpet"
           }
          ],
          "choropleth": [
           {
            "colorbar": {
             "outlinewidth": 0,
             "ticks": ""
            },
            "type": "choropleth"
           }
          ],
          "contour": [
           {
            "colorbar": {
             "outlinewidth": 0,
             "ticks": ""
            },
            "colorscale": [
             [
              0,
              "#0d0887"
             ],
             [
              0.1111111111111111,
              "#46039f"
             ],
             [
              0.2222222222222222,
              "#7201a8"
             ],
             [
              0.3333333333333333,
              "#9c179e"
             ],
             [
              0.4444444444444444,
              "#bd3786"
             ],
             [
              0.5555555555555556,
              "#d8576b"
             ],
             [
              0.6666666666666666,
              "#ed7953"
             ],
             [
              0.7777777777777778,
              "#fb9f3a"
             ],
             [
              0.8888888888888888,
              "#fdca26"
             ],
             [
              1,
              "#f0f921"
             ]
            ],
            "type": "contour"
           }
          ],
          "contourcarpet": [
           {
            "colorbar": {
             "outlinewidth": 0,
             "ticks": ""
            },
            "type": "contourcarpet"
           }
          ],
          "heatmap": [
           {
            "colorbar": {
             "outlinewidth": 0,
             "ticks": ""
            },
            "colorscale": [
             [
              0,
              "#0d0887"
             ],
             [
              0.1111111111111111,
              "#46039f"
             ],
             [
              0.2222222222222222,
              "#7201a8"
             ],
             [
              0.3333333333333333,
              "#9c179e"
             ],
             [
              0.4444444444444444,
              "#bd3786"
             ],
             [
              0.5555555555555556,
              "#d8576b"
             ],
             [
              0.6666666666666666,
              "#ed7953"
             ],
             [
              0.7777777777777778,
              "#fb9f3a"
             ],
             [
              0.8888888888888888,
              "#fdca26"
             ],
             [
              1,
              "#f0f921"
             ]
            ],
            "type": "heatmap"
           }
          ],
          "heatmapgl": [
           {
            "colorbar": {
             "outlinewidth": 0,
             "ticks": ""
            },
            "colorscale": [
             [
              0,
              "#0d0887"
             ],
             [
              0.1111111111111111,
              "#46039f"
             ],
             [
              0.2222222222222222,
              "#7201a8"
             ],
             [
              0.3333333333333333,
              "#9c179e"
             ],
             [
              0.4444444444444444,
              "#bd3786"
             ],
             [
              0.5555555555555556,
              "#d8576b"
             ],
             [
              0.6666666666666666,
              "#ed7953"
             ],
             [
              0.7777777777777778,
              "#fb9f3a"
             ],
             [
              0.8888888888888888,
              "#fdca26"
             ],
             [
              1,
              "#f0f921"
             ]
            ],
            "type": "heatmapgl"
           }
          ],
          "histogram": [
           {
            "marker": {
             "pattern": {
              "fillmode": "overlay",
              "size": 10,
              "solidity": 0.2
             }
            },
            "type": "histogram"
           }
          ],
          "histogram2d": [
           {
            "colorbar": {
             "outlinewidth": 0,
             "ticks": ""
            },
            "colorscale": [
             [
              0,
              "#0d0887"
             ],
             [
              0.1111111111111111,
              "#46039f"
             ],
             [
              0.2222222222222222,
              "#7201a8"
             ],
             [
              0.3333333333333333,
              "#9c179e"
             ],
             [
              0.4444444444444444,
              "#bd3786"
             ],
             [
              0.5555555555555556,
              "#d8576b"
             ],
             [
              0.6666666666666666,
              "#ed7953"
             ],
             [
              0.7777777777777778,
              "#fb9f3a"
             ],
             [
              0.8888888888888888,
              "#fdca26"
             ],
             [
              1,
              "#f0f921"
             ]
            ],
            "type": "histogram2d"
           }
          ],
          "histogram2dcontour": [
           {
            "colorbar": {
             "outlinewidth": 0,
             "ticks": ""
            },
            "colorscale": [
             [
              0,
              "#0d0887"
             ],
             [
              0.1111111111111111,
              "#46039f"
             ],
             [
              0.2222222222222222,
              "#7201a8"
             ],
             [
              0.3333333333333333,
              "#9c179e"
             ],
             [
              0.4444444444444444,
              "#bd3786"
             ],
             [
              0.5555555555555556,
              "#d8576b"
             ],
             [
              0.6666666666666666,
              "#ed7953"
             ],
             [
              0.7777777777777778,
              "#fb9f3a"
             ],
             [
              0.8888888888888888,
              "#fdca26"
             ],
             [
              1,
              "#f0f921"
             ]
            ],
            "type": "histogram2dcontour"
           }
          ],
          "mesh3d": [
           {
            "colorbar": {
             "outlinewidth": 0,
             "ticks": ""
            },
            "type": "mesh3d"
           }
          ],
          "parcoords": [
           {
            "line": {
             "colorbar": {
              "outlinewidth": 0,
              "ticks": ""
             }
            },
            "type": "parcoords"
           }
          ],
          "pie": [
           {
            "automargin": true,
            "type": "pie"
           }
          ],
          "scatter": [
           {
            "fillpattern": {
             "fillmode": "overlay",
             "size": 10,
             "solidity": 0.2
            },
            "type": "scatter"
           }
          ],
          "scatter3d": [
           {
            "line": {
             "colorbar": {
              "outlinewidth": 0,
              "ticks": ""
             }
            },
            "marker": {
             "colorbar": {
              "outlinewidth": 0,
              "ticks": ""
             }
            },
            "type": "scatter3d"
           }
          ],
          "scattercarpet": [
           {
            "marker": {
             "colorbar": {
              "outlinewidth": 0,
              "ticks": ""
             }
            },
            "type": "scattercarpet"
           }
          ],
          "scattergeo": [
           {
            "marker": {
             "colorbar": {
              "outlinewidth": 0,
              "ticks": ""
             }
            },
            "type": "scattergeo"
           }
          ],
          "scattergl": [
           {
            "marker": {
             "colorbar": {
              "outlinewidth": 0,
              "ticks": ""
             }
            },
            "type": "scattergl"
           }
          ],
          "scattermapbox": [
           {
            "marker": {
             "colorbar": {
              "outlinewidth": 0,
              "ticks": ""
             }
            },
            "type": "scattermapbox"
           }
          ],
          "scatterpolar": [
           {
            "marker": {
             "colorbar": {
              "outlinewidth": 0,
              "ticks": ""
             }
            },
            "type": "scatterpolar"
           }
          ],
          "scatterpolargl": [
           {
            "marker": {
             "colorbar": {
              "outlinewidth": 0,
              "ticks": ""
             }
            },
            "type": "scatterpolargl"
           }
          ],
          "scatterternary": [
           {
            "marker": {
             "colorbar": {
              "outlinewidth": 0,
              "ticks": ""
             }
            },
            "type": "scatterternary"
           }
          ],
          "surface": [
           {
            "colorbar": {
             "outlinewidth": 0,
             "ticks": ""
            },
            "colorscale": [
             [
              0,
              "#0d0887"
             ],
             [
              0.1111111111111111,
              "#46039f"
             ],
             [
              0.2222222222222222,
              "#7201a8"
             ],
             [
              0.3333333333333333,
              "#9c179e"
             ],
             [
              0.4444444444444444,
              "#bd3786"
             ],
             [
              0.5555555555555556,
              "#d8576b"
             ],
             [
              0.6666666666666666,
              "#ed7953"
             ],
             [
              0.7777777777777778,
              "#fb9f3a"
             ],
             [
              0.8888888888888888,
              "#fdca26"
             ],
             [
              1,
              "#f0f921"
             ]
            ],
            "type": "surface"
           }
          ],
          "table": [
           {
            "cells": {
             "fill": {
              "color": "#EBF0F8"
             },
             "line": {
              "color": "white"
             }
            },
            "header": {
             "fill": {
              "color": "#C8D4E3"
             },
             "line": {
              "color": "white"
             }
            },
            "type": "table"
           }
          ]
         },
         "layout": {
          "annotationdefaults": {
           "arrowcolor": "#2a3f5f",
           "arrowhead": 0,
           "arrowwidth": 1
          },
          "autotypenumbers": "strict",
          "coloraxis": {
           "colorbar": {
            "outlinewidth": 0,
            "ticks": ""
           }
          },
          "colorscale": {
           "diverging": [
            [
             0,
             "#8e0152"
            ],
            [
             0.1,
             "#c51b7d"
            ],
            [
             0.2,
             "#de77ae"
            ],
            [
             0.3,
             "#f1b6da"
            ],
            [
             0.4,
             "#fde0ef"
            ],
            [
             0.5,
             "#f7f7f7"
            ],
            [
             0.6,
             "#e6f5d0"
            ],
            [
             0.7,
             "#b8e186"
            ],
            [
             0.8,
             "#7fbc41"
            ],
            [
             0.9,
             "#4d9221"
            ],
            [
             1,
             "#276419"
            ]
           ],
           "sequential": [
            [
             0,
             "#0d0887"
            ],
            [
             0.1111111111111111,
             "#46039f"
            ],
            [
             0.2222222222222222,
             "#7201a8"
            ],
            [
             0.3333333333333333,
             "#9c179e"
            ],
            [
             0.4444444444444444,
             "#bd3786"
            ],
            [
             0.5555555555555556,
             "#d8576b"
            ],
            [
             0.6666666666666666,
             "#ed7953"
            ],
            [
             0.7777777777777778,
             "#fb9f3a"
            ],
            [
             0.8888888888888888,
             "#fdca26"
            ],
            [
             1,
             "#f0f921"
            ]
           ],
           "sequentialminus": [
            [
             0,
             "#0d0887"
            ],
            [
             0.1111111111111111,
             "#46039f"
            ],
            [
             0.2222222222222222,
             "#7201a8"
            ],
            [
             0.3333333333333333,
             "#9c179e"
            ],
            [
             0.4444444444444444,
             "#bd3786"
            ],
            [
             0.5555555555555556,
             "#d8576b"
            ],
            [
             0.6666666666666666,
             "#ed7953"
            ],
            [
             0.7777777777777778,
             "#fb9f3a"
            ],
            [
             0.8888888888888888,
             "#fdca26"
            ],
            [
             1,
             "#f0f921"
            ]
           ]
          },
          "colorway": [
           "#636efa",
           "#EF553B",
           "#00cc96",
           "#ab63fa",
           "#FFA15A",
           "#19d3f3",
           "#FF6692",
           "#B6E880",
           "#FF97FF",
           "#FECB52"
          ],
          "font": {
           "color": "#2a3f5f"
          },
          "geo": {
           "bgcolor": "white",
           "lakecolor": "white",
           "landcolor": "#E5ECF6",
           "showlakes": true,
           "showland": true,
           "subunitcolor": "white"
          },
          "hoverlabel": {
           "align": "left"
          },
          "hovermode": "closest",
          "mapbox": {
           "style": "light"
          },
          "paper_bgcolor": "white",
          "plot_bgcolor": "#E5ECF6",
          "polar": {
           "angularaxis": {
            "gridcolor": "white",
            "linecolor": "white",
            "ticks": ""
           },
           "bgcolor": "#E5ECF6",
           "radialaxis": {
            "gridcolor": "white",
            "linecolor": "white",
            "ticks": ""
           }
          },
          "scene": {
           "xaxis": {
            "backgroundcolor": "#E5ECF6",
            "gridcolor": "white",
            "gridwidth": 2,
            "linecolor": "white",
            "showbackground": true,
            "ticks": "",
            "zerolinecolor": "white"
           },
           "yaxis": {
            "backgroundcolor": "#E5ECF6",
            "gridcolor": "white",
            "gridwidth": 2,
            "linecolor": "white",
            "showbackground": true,
            "ticks": "",
            "zerolinecolor": "white"
           },
           "zaxis": {
            "backgroundcolor": "#E5ECF6",
            "gridcolor": "white",
            "gridwidth": 2,
            "linecolor": "white",
            "showbackground": true,
            "ticks": "",
            "zerolinecolor": "white"
           }
          },
          "shapedefaults": {
           "line": {
            "color": "#2a3f5f"
           }
          },
          "ternary": {
           "aaxis": {
            "gridcolor": "white",
            "linecolor": "white",
            "ticks": ""
           },
           "baxis": {
            "gridcolor": "white",
            "linecolor": "white",
            "ticks": ""
           },
           "bgcolor": "#E5ECF6",
           "caxis": {
            "gridcolor": "white",
            "linecolor": "white",
            "ticks": ""
           }
          },
          "title": {
           "x": 0.05
          },
          "xaxis": {
           "automargin": true,
           "gridcolor": "white",
           "linecolor": "white",
           "ticks": "",
           "title": {
            "standoff": 15
           },
           "zerolinecolor": "white",
           "zerolinewidth": 2
          },
          "yaxis": {
           "automargin": true,
           "gridcolor": "white",
           "linecolor": "white",
           "ticks": "",
           "title": {
            "standoff": 15
           },
           "zerolinecolor": "white",
           "zerolinewidth": 2
          }
         }
        },
        "xaxis": {
         "anchor": "y",
         "categoryorder": "total descending",
         "domain": [
          0,
          1
         ],
         "title": {
          "text": "count_vect"
         }
        },
        "yaxis": {
         "anchor": "x",
         "domain": [
          0,
          1
         ],
         "title": {
          "text": "term_frequencies"
         }
        }
       }
      }
     },
     "metadata": {},
     "output_type": "display_data"
    }
   ],
   "source": [
    "#Exercise 14 (take home)\n",
    "x=[];y=[]\n",
    "for i in range(term_frequencies.shape[0]):\n",
    "    if term_frequencies[i]>500:\n",
    "       x=np.concatenate([x,count_vect.get_feature_names_out()[i:i+1]])\n",
    "       y=np.concatenate([y,term_frequencies[i:i+1]])\n",
    "df = pd.DataFrame(dict(\n",
    "    count_vect = x,\n",
    "    term_frequencies = y))\n",
    "fig = px.bar(df, x = 'count_vect', y = 'term_frequencies')\n",
    "fig.update_xaxes(categoryorder='total descending')\n",
    "fig.show()"
   ]
  },
  {
   "cell_type": "code",
   "execution_count": 85,
   "metadata": {},
   "outputs": [
    {
     "data": {
      "image/png": "[encoded data removed]",
      "text/plain": [
       "<Figure size 10000x1000 with 1 Axes>"
      ]
     },
     "metadata": {},
     "output_type": "display_data"
    }
   ],
   "source": [
    "import math\n",
    "term_frequencies_log = [math.log(i) for i in term_frequencies]\n",
    "plt.subplots(figsize=(100, 10))\n",
    "g = sns.barplot(x=count_vect.get_feature_names_out()[:300],\n",
    "                y=term_frequencies_log[:300])\n",
    "g.set_xticklabels(count_vect.get_feature_names_out()[:300], rotation = 90);"
   ]
  },
  {
   "cell_type": "code",
   "execution_count": 86,
   "metadata": {},
   "outputs": [
    {
     "data": {
      "application/vnd.plotly.v1+json": {
       "config": {
        "plotlyServerURL": "https://plot.ly"
       },
       "data": [
        {
         "alignmentgroup": "True",
         "hovertemplate": "count_vect=%{x}<br>term_frequencies_log=%{y}<extra></extra>",
         "legendgroup": "",
         "marker": {
          "color": "#636efa",
          "pattern": {
           "shape": ""
          }
         },
         "name": "",
         "offsetgroup": "",
         "orientation": "v",
         "showlegend": false,
         "textposition": "auto",
         "type": "bar",
         "x": [
          "10",
          "11",
          "12",
          "13",
          "14",
          "15",
          "16",
          "17",
          "18",
          "19",
          "1993",
          "20",
          "21",
          "24",
          "30",
          "3d",
          "___",
          "able",
          "about",
          "above",
          "ac",
          "accept",
          "actually",
          "after",
          "again",
          "against",
          "ago",
          "agree",
          "all",
          "also",
          "although",
          "always",
          "am",
          "among",
          "an",
          "and",
          "another",
          "answer",
          "any",
          "anyone",
          "anything",
          "apr",
          "are",
          "argument",
          "around",
          "article",
          "as",
          "ask",
          "at",
          "atheism",
          "atheist",
          "atheists",
          "athos",
          "au",
          "available",
          "away",
          "back",
          "bad",
          "banks",
          "based",
          "be",
          "because",
          "become",
          "been",
          "before",
          "being",
          "belief",
          "beliefs",
          "believe",
          "best",
          "better",
          "between",
          "bible",
          "bit",
          "blood",
          "body",
          "book",
          "books",
          "both",
          "but",
          "by",
          "ca",
          "california",
          "call",
          "called",
          "caltech",
          "can",
          "cancer",
          "cannot",
          "case",
          "catholic",
          "cause",
          "cc",
          "center",
          "certain",
          "certainly",
          "change",
          "children",
          "christ",
          "christian",
          "christianity",
          "christians",
          "church",
          "claim",
          "clear",
          "co",
          "code",
          "color",
          "com",
          "come",
          "comes",
          "common",
          "computer",
          "correct",
          "could",
          "course",
          "cs",
          "current",
          "data",
          "david",
          "day",
          "days",
          "de",
          "death",
          "dept",
          "did",
          "didn",
          "die",
          "different",
          "discussion",
          "disease",
          "display",
          "distribution",
          "do",
          "doctor",
          "does",
          "doesn",
          "doing",
          "don",
          "done",
          "down",
          "dr",
          "dyer",
          "each",
          "earth",
          "edu",
          "effect",
          "either",
          "else",
          "email",
          "end",
          "enough",
          "especially",
          "etc",
          "eternal",
          "even",
          "ever",
          "every",
          "everyone",
          "everything",
          "evidence",
          "example",
          "exist",
          "existence",
          "exists",
          "experience",
          "fact",
          "faith",
          "faq",
          "far",
          "father",
          "fax",
          "feel",
          "few",
          "file",
          "files",
          "find",
          "first",
          "following",
          "food",
          "for",
          "form",
          "format",
          "found",
          "free",
          "from",
          "ftp",
          "full",
          "further",
          "geb",
          "general",
          "get",
          "getting",
          "gif",
          "give",
          "given",
          "go",
          "god",
          "going",
          "good",
          "gordon",
          "got",
          "gov",
          "graphics",
          "great",
          "group",
          "had",
          "hand",
          "hard",
          "has",
          "have",
          "having",
          "he",
          "health",
          "heard",
          "heaven",
          "hell",
          "help",
          "her",
          "here",
          "high",
          "him",
          "himself",
          "his",
          "history",
          "holy",
          "hope",
          "host",
          "how",
          "however",
          "human",
          "ibm",
          "idea",
          "if",
          "image",
          "images",
          "important",
          "in",
          "inc",
          "info",
          "information",
          "institute",
          "interested",
          "into",
          "is",
          "islam",
          "islamic",
          "isn",
          "issue",
          "it",
          "its",
          "james",
          "jesus",
          "jim",
          "john",
          "jon",
          "jpeg",
          "just",
          "keep",
          "keith",
          "keywords",
          "kind",
          "know",
          "knowledge",
          "known",
          "language",
          "last",
          "law",
          "least",
          "less",
          "let",
          "library",
          "life",
          "like",
          "line",
          "lines",
          "list",
          "little",
          "live",
          "livesey",
          "ll",
          "long",
          "look",
          "looking",
          "lord",
          "lot",
          "love",
          "mac",
          "made",
          "mail",
          "make",
          "makes",
          "making",
          "man",
          "many",
          "mark",
          "matter",
          "may",
          "maybe",
          "me",
          "mean",
          "means",
          "medical",
          "medicine",
          "men",
          "message",
          "michael",
          "might",
          "mind",
          "moral",
          "morality",
          "more",
          "most",
          "msg",
          "much",
          "must",
          "my",
          "name",
          "nasa",
          "national",
          "natural",
          "nature",
          "need",
          "net",
          "netcom",
          "never",
          "new",
          "news",
          "newsgroup",
          "next",
          "nntp",
          "no",
          "non",
          "not",
          "note",
          "nothing",
          "now",
          "number",
          "objective",
          "of",
          "off",
          "often",
          "old",
          "on",
          "once",
          "one",
          "only",
          "opinion",
          "opinions",
          "or",
          "order",
          "organization",
          "original",
          "other",
          "others",
          "our",
          "out",
          "over",
          "own",
          "package",
          "pain",
          "part",
          "particular",
          "patients",
          "paul",
          "pc",
          "people",
          "perhaps",
          "person",
          "phone",
          "pitt",
          "pittsburgh",
          "place",
          "please",
          "point",
          "points",
          "possible",
          "post",
          "posting",
          "pretty",
          "probably",
          "problem",
          "problems",
          "program",
          "programs",
          "pub",
          "public",
          "put",
          "question",
          "questions",
          "quite",
          "rather",
          "re",
          "read",
          "reading",
          "real",
          "really",
          "reason",
          "religion",
          "religious",
          "remember",
          "reply",
          "research",
          "right",
          "robert",
          "rutgers",
          "said",
          "same",
          "say",
          "saying",
          "says",
          "science",
          "scientific",
          "scripture",
          "second",
          "see",
          "seem",
          "seems",
          "seen",
          "send",
          "sense",
          "set",
          "several",
          "sgi",
          "she",
          "should",
          "show",
          "similar",
          "simply",
          "sin",
          "since",
          "so",
          "software",
          "some",
          "someone",
          "something",
          "son",
          "sort",
          "source",
          "spirit",
          "standard",
          "state",
          "statement",
          "steve",
          "still",
          "study",
          "stuff",
          "subject",
          "such",
          "sun",
          "support",
          "sure",
          "system",
          "systems",
          "take",
          "talking",
          "technology",
          "tell",
          "than",
          "thanks",
          "that",
          "the",
          "their",
          "them",
          "then",
          "there",
          "therefore",
          "these",
          "they",
          "thing",
          "things",
          "think",
          "this",
          "those",
          "though",
          "thought",
          "three",
          "through",
          "thus",
          "time",
          "times",
          "to",
          "today",
          "told",
          "too",
          "treatment",
          "true",
          "truth",
          "try",
          "trying",
          "two",
          "type",
          "uk",
          "under",
          "understand",
          "universe",
          "university",
          "unix",
          "until",
          "up",
          "upon",
          "us",
          "use",
          "used",
          "using",
          "usually",
          "uucp",
          "ve",
          "version",
          "very",
          "view",
          "want",
          "was",
          "washington",
          "water",
          "way",
          "we",
          "week",
          "well",
          "were",
          "what",
          "when",
          "where",
          "whether",
          "which",
          "while",
          "who",
          "whole",
          "why",
          "will",
          "windows",
          "with",
          "without",
          "women",
          "word",
          "words",
          "work",
          "works",
          "world",
          "would",
          "write",
          "writes",
          "written",
          "wrong",
          "wrote",
          "year",
          "years",
          "yes",
          "yet",
          "you",
          "your"
         ],
         "xaxis": "x",
         "y": [
          5.934894195619588,
          5.3706380281276624,
          5.4638318050256105,
          5.389071729816501,
          5.476463551931511,
          5.680172609017068,
          5.627621113690637,
          5.2574953720277815,
          5.214935757608986,
          5.337538079701318,
          6.1903154058531475,
          5.780743515792329,
          5.2574953720277815,
          5.5909869805108565,
          5.117993812416755,
          5.3471075307174685,
          5.081404364984463,
          5.420534999272286,
          7.672292455628756,
          5.5134287461649825,
          5.713732805509369,
          5.209486152841421,
          5.631211781821365,
          6.192362489474872,
          5.752572638825633,
          5.3612921657094255,
          5.0369526024136295,
          5.337538079701318,
          7.646353722445999,
          6.993932975223189,
          5.099866427824199,
          5.529429087511423,
          6.747586526829315,
          5.293304824724492,
          7.780303087908373,
          9.47401147446646,
          5.998936561946683,
          5.5254529391317835,
          7.419979923661835,
          6.322565239927284,
          5.902633333401366,
          5.814130531825066,
          8.469891918298224,
          5.659482215759621,
          5.5053315359323625,
          7.2813856635702825,
          8.297792626380861,
          5.44673737166631,
          7.692113339595466,
          5.786897381366708,
          5.365976015021851,
          5.958424693029782,
          5.14166355650266,
          5.54907608489522,
          5.82600010738045,
          5.293304824724492,
          5.849324779946859,
          5.3612921657094255,
          5.616771097666572,
          5.655991810819852,
          8.496582237512113,
          6.858565034791365,
          5.135798437050262,
          6.97354301952014,
          6.040254711277414,
          6.577861357721047,
          5.541263545158426,
          5.049856007249537,
          6.688354713946762,
          5.666426688112432,
          5.840641657373398,
          5.7745515455444085,
          6.293419278846481,
          5.7899601708972535,
          5.0369526024136295,
          5.5254529391317835,
          5.8916442118257715,
          5.147494476813453,
          5.998936561946683,
          8.146998697389993,
          7.843064016692054,
          6.198478716492308,
          5.017279836814924,
          5.267858159063328,
          5.683579767338681,
          5.541263545158426,
          7.943782692458625,
          5.043425116919247,
          5.746203190540153,
          5.918893854273146,
          5.159055299214529,
          5.568344503761097,
          5.627621113690637,
          5.459585514144159,
          5.313205979041787,
          5.429345628954441,
          5.081404364984463,
          5.135798437050262,
          5.966146739123692,
          6.302618975744905,
          5.666426688112432,
          6.20455776256869,
          6.156978985585555,
          5.6131281063880705,
          5.204006687076795,
          5.303304908059076,
          5.3230099791384085,
          5.5093883366279774,
          7.683403681053826,
          5.950642552587727,
          5.0689042022202315,
          5.10594547390058,
          6.104793232414985,
          5.147494476813453,
          6.625392368007956,
          5.902633333401366,
          6.591673732008658,
          5.093750200806762,
          5.723585101952381,
          5.808142489980444,
          6.028278520230698,
          5.1298987149230735,
          5.389071729816501,
          5.351858133476067,
          5.093750200806762,
          6.311734809152915,
          5.501258210544727,
          5.0106352940962555,
          5.973809611869261,
          5.123963979403259,
          5.521460917862246,
          5.017279836814924,
          5.75890177387728,
          7.693025748417888,
          5.272999558563747,
          7.048386408721883,
          5.910796644040527,
          5.493061443340548,
          7.24422751560335,
          5.501258210544727,
          5.332718793265369,
          5.056245805348308,
          5.0106352940962555,
          5.697093486505405,
          5.19295685089021,
          8.449984441722787,
          5.056245805348308,
          5.641907070938114,
          5.5134287461649825,
          5.308267697401205,
          5.497168225293202,
          5.641907070938114,
          5.111987788356544,
          6.073044534100405,
          5.099866427824199,
          6.639875833826536,
          5.375278407684165,
          5.82600010738045,
          5.123963979403259,
          5.181783550292085,
          6.07073772800249,
          5.857933154483459,
          5.641907070938114,
          5.420534999272286,
          5.170483995038151,
          5.123963979403259,
          5.971261839790462,
          6.111467339502679,
          5.204006687076795,
          5.62040086571715,
          5.209486152841421,
          5.187385805840755,
          5.2574953720277815,
          5.857933154483459,
          5.8522024797744745,
          5.680172609017068,
          6.300785794663244,
          6.274762021241939,
          5.3230099791384085,
          5.572154032177765,
          8.693161274238017,
          5.081404364984463,
          5.337538079701318,
          5.703782474656201,
          5.762051382780177,
          8.492285555710053,
          5.5134287461649825,
          5.1298987149230735,
          5.081404364984463,
          5.54907608489522,
          5.488937726156687,
          6.692083742506628,
          5.056245805348308,
          5.337538079701318,
          5.648974238161206,
          5.583496308781699,
          6.0014148779611505,
          7.703459047867175,
          5.713732805509369,
          6.690842277418564,
          5.641907070938114,
          5.493061443340548,
          5.488937726156687,
          6.418364935936212,
          5.58724865840025,
          5.8944028342648505,
          6.76849321164863,
          5.236441962829949,
          5.176149732573829,
          7.421177528595393,
          8.34711636103872,
          5.537334267018537,
          7.710653323501202,
          5.627621113690637,
          5.225746673713202,
          5.087596335232384,
          5.7430031878094825,
          6.089044875446846,
          5.966146739123692,
          6.428105272684596,
          5.278114659230517,
          6.391917113392602,
          5.043425116919247,
          7.183870715062453,
          5.099866427824199,
          5.087596335232384,
          5.313205979041787,
          6.6052979209482015,
          7.003065458786462,
          6.045005314036012,
          5.8664680569332965,
          5.356586274672012,
          5.5053315359323625,
          8.073402968986406,
          6.336825731146441,
          5.556828061699537,
          5.225746673713202,
          9.325987795502144,
          5.493061443340548,
          5.484796933490655,
          6.104793232414985,
          5.267858159063328,
          5.204006687076795,
          6.4425401664681985,
          9.42084437974393,
          5.402677381872279,
          5.123963979403259,
          5.5093883366279774,
          5.214935757608986,
          9.041566627727496,
          6.206575926724928,
          5.1647859739235145,
          6.715383386334681,
          5.318119993844216,
          5.831882477283517,
          5.356586274672012,
          5.634789603169249,
          7.029972911706386,
          5.236441962829949,
          5.849324779946859,
          5.1647859739235145,
          5.2574953720277815,
          7.114769448366463,
          5.123963979403259,
          5.247024072160486,
          5.10594547390058,
          5.598421958998375,
          5.8805329864007,
          5.765191102784844,
          5.389071729816501,
          5.6240175061873385,
          5.003946305945459,
          6.1779441140506,
          7.0707241072602764,
          5.5254529391317835,
          7.763446388727362,
          5.062595033026967,
          5.783825182329737,
          5.220355825078324,
          5.170483995038151,
          5.8888779583328805,
          5.793013608384144,
          5.68697535633982,
          5.351858133476067,
          5.3230099791384085,
          5.723585101952381,
          5.4510384535657,
          5.187385805840755,
          5.942799375126701,
          5.983936280687191,
          6.322565239927284,
          5.455321115357702,
          5.0238805208462765,
          5.777652323222656,
          6.734591659972948,
          5.594711379601839,
          5.313205979041787,
          6.745236349484363,
          5.247024072160486,
          7.341483852363161,
          5.883322388488279,
          5.420534999272286,
          5.6937321388027,
          5.030437921392435,
          5.1647859739235145,
          5.0689042022202315,
          5.308267697401205,
          6.061456918928017,
          5.342334251964811,
          5.4680601411351315,
          5.2832037287379885,
          7.1592919047975645,
          6.593044534142437,
          5.749392985908253,
          6.47543271670409,
          6.386879319362645,
          7.669961995473577,
          5.700443573390687,
          5.14166355650266,
          5.159055299214529,
          5.241747015059643,
          5.236441962829949,
          6.255750041753367,
          5.351858133476067,
          5.0689042022202315,
          6.0063531596017325,
          6.516193076042964,
          5.616771097666572,
          5.0106352940962555,
          5.0106352940962555,
          6.565264970035361,
          7.490529402060711,
          5.777652323222656,
          8.572627898304338,
          5.332718793265369,
          5.786897381366708,
          6.470799503782602,
          5.783825182329737,
          5.049856007249537,
          9.77905747415795,
          5.655991810819852,
          5.4680601411351315,
          5.420534999272286,
          8.21851757748959,
          5.2574953720277815,
          7.7458682297922685,
          7.027314514039777,
          5.049856007249537,
          5.209486152841421,
          8.140898460607852,
          5.1647859739235145,
          7.692569648067906,
          5.365976015021851,
          7.15305163493748,
          5.771441123130016,
          6.637258031284457,
          7.040536390215956,
          6.1224928095143865,
          6.008813185442595,
          5.19295685089021,
          5.135798437050262,
          5.8522024797744745,
          5.153291594497779,
          5.241747015059643,
          5.501258210544727,
          5.003946305945459,
          7.38025578842646,
          5.4680601411351315,
          5.75890177387728,
          5.0238805208462765,
          5.860786223465865,
          5.075173815233827,
          5.241747015059643,
          6.091309882077698,
          6.274762021241939,
          5.204006687076795,
          5.707110264748875,
          5.762051382780177,
          6.79346613258001,
          5.111987788356544,
          5.7430031878094825,
          6.129050210060545,
          5.459585514144159,
          5.820082930352362,
          5.332718793265369,
          5.225746673713202,
          5.313205979041787,
          5.424950017481403,
          6.401917196727186,
          5.442417710521793,
          5.683579767338681,
          5.860786223465865,
          7.689828668736484,
          6.206575926724928,
          5.241747015059643,
          5.75890177387728,
          6.137727054086234,
          5.869296913133774,
          5.937536205082426,
          5.53338948872752,
          5.0689042022202315,
          6.2166061010848646,
          5.87493073085203,
          6.161207321695077,
          5.356586274672012,
          5.631211781821365,
          6.320768294250582,
          6.248042874508429,
          6.733401891837359,
          5.564520407322694,
          5.733341276897746,
          6.324358962381311,
          5.303304908059076,
          5.135798437050262,
          5.204006687076795,
          6.70196036600254,
          5.517452896464707,
          5.937536205082426,
          5.293304824724492,
          5.3981627015177525,
          5.313205979041787,
          5.384495062789089,
          5.147494476813453,
          5.700443573390687,
          6.135564891081739,
          6.7464121285733745,
          5.313205979041787,
          5.147494476813453,
          5.313205979041787,
          5.356586274672012,
          6.214608098422191,
          7.555905093611346,
          5.82600010738045,
          7.496652438168283,
          5.877735781779639,
          6.393590753950631,
          5.236441962829949,
          5.153291594497779,
          5.262690188904886,
          5.049856007249537,
          5.099866427824199,
          5.703782474656201,
          5.10594547390058,
          5.375278407684165,
          5.988961416889864,
          5.262690188904886,
          5.10594547390058,
          7.80954132465341,
          6.641182169740591,
          5.332718793265369,
          5.4638318050256105,
          5.8805329864007,
          6.238324625039508,
          5.4680601411351315,
          6.073044534100405,
          5.0238805208462765,
          5.493061443340548,
          5.648974238161206,
          6.951772164398911,
          5.84354441703136,
          9.280146246220145,
          10.303102246966116,
          7.076653815443951,
          6.81783057145415,
          6.8966943316227125,
          7.846198815497425,
          5.521460917862246,
          6.745236349484363,
          7.803026643632217,
          5.926926025970411,
          6.3561076606958915,
          7.10085190894405,
          8.529714471969909,
          6.582025138892826,
          5.662960480135946,
          5.480638923341991,
          5.288267030694535,
          5.916202062607435,
          5.111987788356544,
          6.8658910748834385,
          5.181783550292085,
          9.753942915256111,
          5.017279836814924,
          5.062595033026967,
          6.194405391104672,
          5.043425116919247,
          6.222576268071369,
          5.921578419643816,
          5.648974238161206,
          5.4680601411351315,
          6.295266001439646,
          5.075173815233827,
          6.059123195581797,
          5.673323267171493,
          5.54907608489522,
          5.017279836814924,
          7.064759027791802,
          5.087596335232384,
          5.0106352940962555,
          6.785587645007929,
          5.030437921392435,
          6.694562058521095,
          6.648984550024776,
          6.100318952020064,
          5.762051382780177,
          5.030437921392435,
          5.0238805208462765,
          6.326149473155099,
          5.820082930352362,
          6.690842277418564,
          5.560681631015528,
          6.171700597410915,
          8.013012110368916,
          5.081404364984463,
          5.075173815233827,
          6.530877627725885,
          7.891330757661889,
          5.056245805348308,
          6.61338421837956,
          6.93537044601511,
          7.812782818577581,
          7.102499355774649,
          6.376726947898627,
          5.666426688112432,
          7.377133712833954,
          5.82600010738045,
          7.462789157412448,
          5.308267697401205,
          6.698268054115413,
          7.562681246721884,
          5.159055299214529,
          8.203851372183879,
          6.1224928095143865,
          5.159055299214529,
          5.631211781821365,
          5.424950017481403,
          6.082218910376446,
          5.356586274672012,
          6.476972362889683,
          7.600902459542082,
          5.003946305945459,
          7.405495663199472,
          5.159055299214529,
          5.799092654460526,
          5.560681631015528,
          5.159055299214529,
          6.068425588244111,
          5.517452896464707,
          5.6131281063880705,
          8.72534492491121,
          7.491645473605133
         ],
         "yaxis": "y"
        }
       ],
       "layout": {
        "barmode": "relative",
        "legend": {
         "tracegroupgap": 0
        },
        "margin": {
         "t": 60
        },
        "template": {
         "data": {
          "bar": [
           {
            "error_x": {
             "color": "#2a3f5f"
            },
            "error_y": {
             "color": "#2a3f5f"
            },
            "marker": {
             "line": {
              "color": "#E5ECF6",
              "width": 0.5
             },
             "pattern": {
              "fillmode": "overlay",
              "size": 10,
              "solidity": 0.2
             }
            },
            "type": "bar"
           }
          ],
          "barpolar": [
           {
            "marker": {
             "line": {
              "color": "#E5ECF6",
              "width": 0.5
             },
             "pattern": {
              "fillmode": "overlay",
              "size": 10,
              "solidity": 0.2
             }
            },
            "type": "barpolar"
           }
          ],
          "carpet": [
           {
            "aaxis": {
             "endlinecolor": "#2a3f5f",
             "gridcolor": "white",
             "linecolor": "white",
             "minorgridcolor": "white",
             "startlinecolor": "#2a3f5f"
            },
            "baxis": {
             "endlinecolor": "#2a3f5f",
             "gridcolor": "white",
             "linecolor": "white",
             "minorgridcolor": "white",
             "startlinecolor": "#2a3f5f"
            },
            "type": "carpet"
           }
          ],
          "choropleth": [
           {
            "colorbar": {
             "outlinewidth": 0,
             "ticks": ""
            },
            "type": "choropleth"
           }
          ],
          "contour": [
           {
            "colorbar": {
             "outlinewidth": 0,
             "ticks": ""
            },
            "colorscale": [
             [
              0,
              "#0d0887"
             ],
             [
              0.1111111111111111,
              "#46039f"
             ],
             [
              0.2222222222222222,
              "#7201a8"
             ],
             [
              0.3333333333333333,
              "#9c179e"
             ],
             [
              0.4444444444444444,
              "#bd3786"
             ],
             [
              0.5555555555555556,
              "#d8576b"
             ],
             [
              0.6666666666666666,
              "#ed7953"
             ],
             [
              0.7777777777777778,
              "#fb9f3a"
             ],
             [
              0.8888888888888888,
              "#fdca26"
             ],
             [
              1,
              "#f0f921"
             ]
            ],
            "type": "contour"
           }
          ],
          "contourcarpet": [
           {
            "colorbar": {
             "outlinewidth": 0,
             "ticks": ""
            },
            "type": "contourcarpet"
           }
          ],
          "heatmap": [
           {
            "colorbar": {
             "outlinewidth": 0,
             "ticks": ""
            },
            "colorscale": [
             [
              0,
              "#0d0887"
             ],
             [
              0.1111111111111111,
              "#46039f"
             ],
             [
              0.2222222222222222,
              "#7201a8"
             ],
             [
              0.3333333333333333,
              "#9c179e"
             ],
             [
              0.4444444444444444,
              "#bd3786"
             ],
             [
              0.5555555555555556,
              "#d8576b"
             ],
             [
              0.6666666666666666,
              "#ed7953"
             ],
             [
              0.7777777777777778,
              "#fb9f3a"
             ],
             [
              0.8888888888888888,
              "#fdca26"
             ],
             [
              1,
              "#f0f921"
             ]
            ],
            "type": "heatmap"
           }
          ],
          "heatmapgl": [
           {
            "colorbar": {
             "outlinewidth": 0,
             "ticks": ""
            },
            "colorscale": [
             [
              0,
              "#0d0887"
             ],
             [
              0.1111111111111111,
              "#46039f"
             ],
             [
              0.2222222222222222,
              "#7201a8"
             ],
             [
              0.3333333333333333,
              "#9c179e"
             ],
             [
              0.4444444444444444,
              "#bd3786"
             ],
             [
              0.5555555555555556,
              "#d8576b"
             ],
             [
              0.6666666666666666,
              "#ed7953"
             ],
             [
              0.7777777777777778,
              "#fb9f3a"
             ],
             [
              0.8888888888888888,
              "#fdca26"
             ],
             [
              1,
              "#f0f921"
             ]
            ],
            "type": "heatmapgl"
           }
          ],
          "histogram": [
           {
            "marker": {
             "pattern": {
              "fillmode": "overlay",
              "size": 10,
              "solidity": 0.2
             }
            },
            "type": "histogram"
           }
          ],
          "histogram2d": [
           {
            "colorbar": {
             "outlinewidth": 0,
             "ticks": ""
            },
            "colorscale": [
             [
              0,
              "#0d0887"
             ],
             [
              0.1111111111111111,
              "#46039f"
             ],
             [
              0.2222222222222222,
              "#7201a8"
             ],
             [
              0.3333333333333333,
              "#9c179e"
             ],
             [
              0.4444444444444444,
              "#bd3786"
             ],
             [
              0.5555555555555556,
              "#d8576b"
             ],
             [
              0.6666666666666666,
              "#ed7953"
             ],
             [
              0.7777777777777778,
              "#fb9f3a"
             ],
             [
              0.8888888888888888,
              "#fdca26"
             ],
             [
              1,
              "#f0f921"
             ]
            ],
            "type": "histogram2d"
           }
          ],
          "histogram2dcontour": [
           {
            "colorbar": {
             "outlinewidth": 0,
             "ticks": ""
            },
            "colorscale": [
             [
              0,
              "#0d0887"
             ],
             [
              0.1111111111111111,
              "#46039f"
             ],
             [
              0.2222222222222222,
              "#7201a8"
             ],
             [
              0.3333333333333333,
              "#9c179e"
             ],
             [
              0.4444444444444444,
              "#bd3786"
             ],
             [
              0.5555555555555556,
              "#d8576b"
             ],
             [
              0.6666666666666666,
              "#ed7953"
             ],
             [
              0.7777777777777778,
              "#fb9f3a"
             ],
             [
              0.8888888888888888,
              "#fdca26"
             ],
             [
              1,
              "#f0f921"
             ]
            ],
            "type": "histogram2dcontour"
           }
          ],
          "mesh3d": [
           {
            "colorbar": {
             "outlinewidth": 0,
             "ticks": ""
            },
            "type": "mesh3d"
           }
          ],
          "parcoords": [
           {
            "line": {
             "colorbar": {
              "outlinewidth": 0,
              "ticks": ""
             }
            },
            "type": "parcoords"
           }
          ],
          "pie": [
           {
            "automargin": true,
            "type": "pie"
           }
          ],
          "scatter": [
           {
            "fillpattern": {
             "fillmode": "overlay",
             "size": 10,
             "solidity": 0.2
            },
            "type": "scatter"
           }
          ],
          "scatter3d": [
           {
            "line": {
             "colorbar": {
              "outlinewidth": 0,
              "ticks": ""
             }
            },
            "marker": {
             "colorbar": {
              "outlinewidth": 0,
              "ticks": ""
             }
            },
            "type": "scatter3d"
           }
          ],
          "scattercarpet": [
           {
            "marker": {
             "colorbar": {
              "outlinewidth": 0,
              "ticks": ""
             }
            },
            "type": "scattercarpet"
           }
          ],
          "scattergeo": [
           {
            "marker": {
             "colorbar": {
              "outlinewidth": 0,
              "ticks": ""
             }
            },
            "type": "scattergeo"
           }
          ],
          "scattergl": [
           {
            "marker": {
             "colorbar": {
              "outlinewidth": 0,
              "ticks": ""
             }
            },
            "type": "scattergl"
           }
          ],
          "scattermapbox": [
           {
            "marker": {
             "colorbar": {
              "outlinewidth": 0,
              "ticks": ""
             }
            },
            "type": "scattermapbox"
           }
          ],
          "scatterpolar": [
           {
            "marker": {
             "colorbar": {
              "outlinewidth": 0,
              "ticks": ""
             }
            },
            "type": "scatterpolar"
           }
          ],
          "scatterpolargl": [
           {
            "marker": {
             "colorbar": {
              "outlinewidth": 0,
              "ticks": ""
             }
            },
            "type": "scatterpolargl"
           }
          ],
          "scatterternary": [
           {
            "marker": {
             "colorbar": {
              "outlinewidth": 0,
              "ticks": ""
             }
            },
            "type": "scatterternary"
           }
          ],
          "surface": [
           {
            "colorbar": {
             "outlinewidth": 0,
             "ticks": ""
            },
            "colorscale": [
             [
              0,
              "#0d0887"
             ],
             [
              0.1111111111111111,
              "#46039f"
             ],
             [
              0.2222222222222222,
              "#7201a8"
             ],
             [
              0.3333333333333333,
              "#9c179e"
             ],
             [
              0.4444444444444444,
              "#bd3786"
             ],
             [
              0.5555555555555556,
              "#d8576b"
             ],
             [
              0.6666666666666666,
              "#ed7953"
             ],
             [
              0.7777777777777778,
              "#fb9f3a"
             ],
             [
              0.8888888888888888,
              "#fdca26"
             ],
             [
              1,
              "#f0f921"
             ]
            ],
            "type": "surface"
           }
          ],
          "table": [
           {
            "cells": {
             "fill": {
              "color": "#EBF0F8"
             },
             "line": {
              "color": "white"
             }
            },
            "header": {
             "fill": {
              "color": "#C8D4E3"
             },
             "line": {
              "color": "white"
             }
            },
            "type": "table"
           }
          ]
         },
         "layout": {
          "annotationdefaults": {
           "arrowcolor": "#2a3f5f",
           "arrowhead": 0,
           "arrowwidth": 1
          },
          "autotypenumbers": "strict",
          "coloraxis": {
           "colorbar": {
            "outlinewidth": 0,
            "ticks": ""
           }
          },
          "colorscale": {
           "diverging": [
            [
             0,
             "#8e0152"
            ],
            [
             0.1,
             "#c51b7d"
            ],
            [
             0.2,
             "#de77ae"
            ],
            [
             0.3,
             "#f1b6da"
            ],
            [
             0.4,
             "#fde0ef"
            ],
            [
             0.5,
             "#f7f7f7"
            ],
            [
             0.6,
             "#e6f5d0"
            ],
            [
             0.7,
             "#b8e186"
            ],
            [
             0.8,
             "#7fbc41"
            ],
            [
             0.9,
             "#4d9221"
            ],
            [
             1,
             "#276419"
            ]
           ],
           "sequential": [
            [
             0,
             "#0d0887"
            ],
            [
             0.1111111111111111,
             "#46039f"
            ],
            [
             0.2222222222222222,
             "#7201a8"
            ],
            [
             0.3333333333333333,
             "#9c179e"
            ],
            [
             0.4444444444444444,
             "#bd3786"
            ],
            [
             0.5555555555555556,
             "#d8576b"
            ],
            [
             0.6666666666666666,
             "#ed7953"
            ],
            [
             0.7777777777777778,
             "#fb9f3a"
            ],
            [
             0.8888888888888888,
             "#fdca26"
            ],
            [
             1,
             "#f0f921"
            ]
           ],
           "sequentialminus": [
            [
             0,
             "#0d0887"
            ],
            [
             0.1111111111111111,
             "#46039f"
            ],
            [
             0.2222222222222222,
             "#7201a8"
            ],
            [
             0.3333333333333333,
             "#9c179e"
            ],
            [
             0.4444444444444444,
             "#bd3786"
            ],
            [
             0.5555555555555556,
             "#d8576b"
            ],
            [
             0.6666666666666666,
             "#ed7953"
            ],
            [
             0.7777777777777778,
             "#fb9f3a"
            ],
            [
             0.8888888888888888,
             "#fdca26"
            ],
            [
             1,
             "#f0f921"
            ]
           ]
          },
          "colorway": [
           "#636efa",
           "#EF553B",
           "#00cc96",
           "#ab63fa",
           "#FFA15A",
           "#19d3f3",
           "#FF6692",
           "#B6E880",
           "#FF97FF",
           "#FECB52"
          ],
          "font": {
           "color": "#2a3f5f"
          },
          "geo": {
           "bgcolor": "white",
           "lakecolor": "white",
           "landcolor": "#E5ECF6",
           "showlakes": true,
           "showland": true,
           "subunitcolor": "white"
          },
          "hoverlabel": {
           "align": "left"
          },
          "hovermode": "closest",
          "mapbox": {
           "style": "light"
          },
          "paper_bgcolor": "white",
          "plot_bgcolor": "#E5ECF6",
          "polar": {
           "angularaxis": {
            "gridcolor": "white",
            "linecolor": "white",
            "ticks": ""
           },
           "bgcolor": "#E5ECF6",
           "radialaxis": {
            "gridcolor": "white",
            "linecolor": "white",
            "ticks": ""
           }
          },
          "scene": {
           "xaxis": {
            "backgroundcolor": "#E5ECF6",
            "gridcolor": "white",
            "gridwidth": 2,
            "linecolor": "white",
            "showbackground": true,
            "ticks": "",
            "zerolinecolor": "white"
           },
           "yaxis": {
            "backgroundcolor": "#E5ECF6",
            "gridcolor": "white",
            "gridwidth": 2,
            "linecolor": "white",
            "showbackground": true,
            "ticks": "",
            "zerolinecolor": "white"
           },
           "zaxis": {
            "backgroundcolor": "#E5ECF6",
            "gridcolor": "white",
            "gridwidth": 2,
            "linecolor": "white",
            "showbackground": true,
            "ticks": "",
            "zerolinecolor": "white"
           }
          },
          "shapedefaults": {
           "line": {
            "color": "#2a3f5f"
           }
          },
          "ternary": {
           "aaxis": {
            "gridcolor": "white",
            "linecolor": "white",
            "ticks": ""
           },
           "baxis": {
            "gridcolor": "white",
            "linecolor": "white",
            "ticks": ""
           },
           "bgcolor": "#E5ECF6",
           "caxis": {
            "gridcolor": "white",
            "linecolor": "white",
            "ticks": ""
           }
          },
          "title": {
           "x": 0.05
          },
          "xaxis": {
           "automargin": true,
           "gridcolor": "white",
           "linecolor": "white",
           "ticks": "",
           "title": {
            "standoff": 15
           },
           "zerolinecolor": "white",
           "zerolinewidth": 2
          },
          "yaxis": {
           "automargin": true,
           "gridcolor": "white",
           "linecolor": "white",
           "ticks": "",
           "title": {
            "standoff": 15
           },
           "zerolinecolor": "white",
           "zerolinewidth": 2
          }
         }
        },
        "xaxis": {
         "anchor": "y",
         "categoryorder": "total descending",
         "domain": [
          0,
          1
         ],
         "title": {
          "text": "count_vect"
         }
        },
        "yaxis": {
         "anchor": "x",
         "domain": [
          0,
          1
         ],
         "title": {
          "text": "term_frequencies_log"
         }
        }
       }
      }
     },
     "metadata": {},
     "output_type": "display_data"
    }
   ],
   "source": [
    "#Exercise 15 (take home)\n",
    "x=[];y=[]\n",
    "for i in range(len(term_frequencies_log)):\n",
    "    if term_frequencies_log[i]>5:\n",
    "       x=np.concatenate([x,count_vect.get_feature_names_out()[i:i+1]])\n",
    "       y=np.concatenate([y,term_frequencies_log[i:i+1]])\n",
    "df = pd.DataFrame(dict(\n",
    "    count_vect = x,\n",
    "    term_frequencies_log = y))\n",
    "fig = px.bar(df, x = 'count_vect', y = 'term_frequencies_log')\n",
    "fig.update_xaxes(categoryorder='total descending')\n",
    "fig.show()\n",
    "\n",
    "# different slope, the abs valus of term_frequencies's slpoe is bigger than term_frequencies_log "
   ]
  },
  {
   "cell_type": "code",
   "execution_count": 87,
   "metadata": {},
   "outputs": [
    {
     "name": "stdout",
     "output_type": "stream",
     "text": [
      "Filtered Term-Document Frequency DataFrame for Category comp.graphics:\n"
     ]
    },
    {
     "data": {
      "image/png": "[encoded data removed]",
      "text/plain": [
       "<Figure size 1000x600 with 1 Axes>"
      ]
     },
     "metadata": {},
     "output_type": "display_data"
    },
    {
     "name": "stdout",
     "output_type": "stream",
     "text": [
      "Category: alt.atheism\n",
      "Number of terms in top 5%: 598\n",
      "Filtered terms: ['djohnson', 'charset', 'a2x', 'a2623', 'a16pd', 'a137490', 'chassis', 'a1', 'a000', '_yourself_', '_your_', '_you_', 'chastisement', 'chastity', 'chat', '_why', '_whole_', '_whole', 'a66', 'a7d56e52', 'charlottesville', 'a7f81fd2f801023c', 'aantal_snijpunten', 'characterizes', 'aanerud', 'characterizing', 'aah', 'charge', 'aacc', 'aaai', '_which', 'aaaa', 'aa888', 'charges', 'aa17104', 'aa09923', 'charging', 'chariot', 'charism', 'charismatic', 'aaa', 'characteristics', 'chatting', '_washington', '_the', '_that_', 'chehey', 'cheinan', '_talk_', 'chelsea', 'chem', '_synners_', '_symbol_', 'chemical', 'chemicals', '_steelcollar', '_speed_', 'chemist', '_something_', '_someone', 'chemlab', 'cheeses', 'cheese', 'cheering', 'cheerful', 'chay', '_want_', 'cheat', '_used_', '_us_', '_until_', 'cheated', 'checker', 'chavey', 'checklist', 'checkman', 'checkmate', '_this_', 'checks', 'cheek', '_them_', '_their_', '_the_wholly_babble', '_told_', 'cheque', 'aap', 'aarhus', 'cga', 'cgeuge51', 'abound', 'cgrl', 'ch', 'ch381', 'chacanery', 'abord', 'abomination', 'chad', 'chagning', 'aboard', 'chains', 'abnormally', 'abnormalities', 'chair', 'abner', 'cg', 'cfv', 'cfsmo', 'cfs', 'certain', 'certainly', 'certification', 'absolute', 'ces', 'absitinence', 'absent', 'cesspool', 'ably', 'abscence', 'abruptly', 'cfaks', 'abridged', 'abri', 'cfob', 'cfranz', 'abram', 'abraham', 'abs', 'chapters', 'ablaze', 'abiliy', 'abbreviation', 'abbott', 'channel', 'channeling', 'channico', 'abandon', 'chanted', 'ab961', 'ab4z', 'chanting', 'aau', 'chaotic', 'chaph', 'chaps', 'chapter', 'aarnet', 'aario', 'changing', 'abdominal', 'changefsi', 'changeable', 'chaldea', 'challanged', 'abildskov', 'challenge', 'abigail', 'abiding', 'challenging', 'chalmers', 'chairs', 'chama', 'chambers', 'chambliss', 'chamomile', 'chan', 'chanced', 'chandrakant', 'change', 'abdullah', 'chamberlain', 'cerrito', '_societally_', '_since', 'christia', '_his', 'christianising', '_heart_', '_he', '_hard_', '_hard', 'christianization', '_great_', 'christie', '_goal_', '_fundamentally_', 'christlike', 'christlikeness', 'christmas', '_for', 'christology', 'christanity', '_human', 'christan', 'christaianity', 'chou', 'choueiry', '_just', 'choung', '_judging_', 'choweller', '_jesus', 'chr', 'christophe', 'chrisb', '_irrespective_', '_interrupt_', 'chrisitan', 'chrisitanity', '_includes_', 'chrisp', 'christ', '_iliad_', '_is_', '_know_', 'chrome_', '_enforcible_', 'chvpkh', '_clementine', '_claims_', 'cia', 'cially', 'cica', '_ccc_c_____chumphre', '_ccc_c_', '_came', '_by_defending_myself_against_the_jew', 'ciceran', '_bsplinesurface', 'cigarettes', '_body', 'cinch', '_blessed_', '_black_', 'churchs', 'churches', 'church_', '_consider_', '_empire_', '_einleitende', '_does_', 'chrsitian', 'chrusher', 'chs', '_die_', '_didn', 'chromosomally', 'chuch', 'chuckle', 'chumphre', '_decrease_', '_decision_', '_das', '_count', 'chunks', '_constructed_', 'chuck', 'cheques', '_knowledgeable', 'chosing', 'chicken', 'chickens', '_prima', '_preternatural_', '_press', '_predict_', 'chiefest', '_positive_', 'chigger', 'chiggers', 'child', 'childbearing', 'childhood', '_personality_', 'childish', '_per', 'childrens', 'chicago', '_reading_', '_real_', '_real_god_', '_simple_', '_silent', 'cherche', 'cherished', 'chess', '_sensory_response_', '_semantics', 'chessboard', '_particular_', '_search', 'chests', 'chevy', 'chew', 'chewables', 'chewing', '_registered', 'chi', 'chia', 'chesspieces', '_knowledgeable_', '_paradise', 'chili', 'chocolate', 'choice', '_millions_', '_may_', '_massively_', 'chonak', '_man', '_macaca', '_lost', 'choose', '_long_', '_logically_', '_logical_', 'chop', '_limulus', '_letzte', 'chord', 'chittick', '_mohammad', '_mona', '_monsignor', 'chills', 'chiltepins', '_only_', 'chimp', '_on_coins_', 'chimpanzees', '_not_', '_no_', '_own_', '_nightflyers_', 'chinese', 'chip', 'chips', 'chipset', 'chiropractors', '_must_', '_motivation_', 'chislenko', 'china', 'cinemorph', 'absorption', 'cernapo', 'caste', 'addendum', 'added', 'add', 'castlab', 'adcs00', 'castle', 'aday', 'adaptor', 'casts', 'adaptiove', 'adapting', 'casually', 'cat', 'catabolism', 'adaptable', 'catabolized', 'castaways', 'cast', 'cassette', 'addicts', 'cartoonist', 'adelaide', 'cartwright', 'carwil', 'addresses', 'addressed', 'address______________________________________________', 'address_________________________________________', 'catagories', 'address', 'cases', 'casey', 'additions', 'casilla', 'casio', 'addition', 'addison', 'adding', 'casepatients', 'cartographic', 'catalog', 'adam', 'catharines', 'activity', 'catholicism', 'active', 'activation', 'activating', 'activated', 'activate', 'activa', 'catholique', 'action', 'acting', 'cathy', 'cathye', 'actaully', 'act', 'catpe', 'actors', 'catfish', 'acts', 'actual', 'cataloge', 'adage', 'catalogs', 'catalyst', 'ad99s461', 'ad994', 'ad96', 'catalyzes', 'adamantly', 'acyclovir', 'catechism', 'acutane', 'catechist', 'categorically', 'categorization', 'actually', 'categorized', 'actualization', 'catch', 'acsa', 'adeno', 'carter', 'captivity', 'adriana', 'adrian', 'carbohydrates', 'adrenal_gland', 'adrenal', 'adpro', 'adp', 'carcinogenesis', 'carcinogenic', 'carcinogens', 'cardhu', 'adopt', 'adoni', 'cardinal', 'adolescent', 'adolescence', 'captives', 'adue', 'adulation', 'adult', 'cap', 'adversely', 'capillaries', 'adventists', 'advent', 'advantages', 'advantageous', 'advantage', 'cards', 'capitalisation', 'advanced', 'advance', 'advan', 'capitalism', 'captain', 'adulteries', 'adulteration', 'captialist', 'advancement', 'adenomas', 'admonitions', 'carefully', 'adjusting', 'adjusted', 'adjustable', 'adjust', 'adjudicate', 'adjacent', 'aditives', 'adiposity', 'adiministering', 'carpal', 'adhering', 'carried', 'carrier', 'adherence', 'carrots', 'adequately', 'carrying', 'adjustments', 'carols', 'adjuvant', 'adjuvants', 'admitting', 'carelcomp', 'careless', 'carelessly', 'carelessness', 'admired', 'admirador', 'caring', 'admonishing', 'caringforwrists', 'administrative', 'carlsbad', 'administers', 'administered', 'carmo76differential', 'admd', 'adl', 'carolina', 'carl', 'abstact', 'acs', 'acrid', 'ceftin', 'ceg', 'accidents', 'ceived', 'cel', 'accidental', 'celbration', 'accid', 'celebrated', 'accessible', 'celebrating', 'celebration', 'celery', 'accepts', 'celestial', 'celetial', 'celia', 'acclimitazation', 'accom', 'ceastation', 'ceasetown', 'cd', 'accountants', 'cdh', 'account', 'accosted', 'accordingly', 'cdm', 'cdnswc', 'acceptably', 'cdr', 'accor', 'ce', 'accomplishment', 'cea', 'accomplish', 'accompanying', 'cease', 'accomodated', 'accord', 'accounting', 'accept', 'cellular', 'centure', 'abused', 'abuse', 'centuries', 'abundant', 'ceo', 'cephas', 'cereal', 'absurdities', 'absurd', 'cereals', 'cerebellum', 'cerebrospinal', 'ceredase', 'ceremonies', 'abstinencne', 'cern', 'abuses', 'cents', 'abusive', 'centroid', 'censor', 'accelerator', 'acc', 'acaps', 'center', 'centers', 'centigram', 'centralization', 'cells', 'academic', 'centric', 'acad3', 'centrifuge', 'acad11', 'centris', 'acad', 'ac999266']\n"
     ]
    }
   ],
   "source": [
    "import pandas as pd\n",
    "from sklearn.feature_extraction.text import CountVectorizer\n",
    "\n",
    "#Create separate DataFrames for each category\n",
    "categories = X['category_name'].unique()  # Get unique category labels\n",
    "category_dfs = {}  # Dictionary to store DataFrames for each category\n",
    "\n",
    "for category in categories:\n",
    "    # Filter the original DataFrame by category\n",
    "    category_dfs[category] = X[X['category_name'] == category].copy()\n",
    "\n",
    "# Function to create term-document frequency DataFrame for each category\n",
    "def create_term_document_df(df):\n",
    "    count_vect = CountVectorizer()  # Initialize the CountVectorizer\n",
    "    X_counts = count_vect.fit_transform(df['text'])  # Transform the text data into word counts\n",
    "    \n",
    "    # Get the unique words (vocabulary) from the vectorizer\n",
    "    words = count_vect.get_feature_names_out()\n",
    "    \n",
    "    # Create a DataFrame where rows are documents and columns are words\n",
    "    term_document_df = pd.DataFrame(X_counts.toarray(), columns=words)\n",
    "    \n",
    "    return term_document_df\n",
    "\n",
    "# Create term-document frequency DataFrames for each category\n",
    "term_document_dfs = {}  # Dictionary to store term-document DataFrames for each category\n",
    "\n",
    "for category in categories:\n",
    "    term_document_dfs[category] = create_term_document_df(category_dfs[category])\n",
    "\n",
    "category_number=0 #You can change it from 0 to 3\n",
    "print(f\"Filtered Term-Document Frequency DataFrame for Category {categories[category_number]}:\")\n",
    "term_document_dfs[categories[category_number]]\n",
    "category_number=0 #You can change it from 0 to 3\n",
    "word_counts = term_document_dfs[categories[category_number]].sum(axis=0).to_numpy()\n",
    " \n",
    "# Visualize the frequency distribution\n",
    "plt.figure(figsize=(10, 6))\n",
    "plt.hist(word_counts, bins=5000, color='blue', edgecolor='black')\n",
    "plt.title(f'Term Frequency Distribution for Category {categories[category_number]}')\n",
    "plt.xlabel('Frequency')\n",
    "plt.ylabel('Number of Terms')\n",
    "plt.xlim(1, 200)\n",
    "plt.show()\n",
    "category_number=3 #You can change it from 0 to 3\n",
    "word_counts = term_document_dfs[categories[category_number]].sum(axis=0).to_numpy()\n",
    "\n",
    "# Sort the term frequencies in descending order\n",
    "sorted_indices = np.argsort(word_counts)  # Get indices of sorted frequencies\n",
    "sorted_counts = np.sort(word_counts)[::-1]  # Sort frequencies in descending order\n",
    "\n",
    "# Calculate the index corresponding to the top 5% most frequent terms\n",
    "total_terms = len(sorted_counts)\n",
    "top_5_percent_index = int(0.05 * total_terms)\n",
    "\n",
    "# Get the indices of the top 5% most frequent terms\n",
    "top_5_percent_indices = sorted_indices[:top_5_percent_index]\n",
    "\n",
    "# Filter terms that belong to the top 5% based on their rank\n",
    "filtered_words = [count_vect.get_feature_names_out()[i] for i in top_5_percent_indices]\n",
    "\n",
    "print(f\"Category: {categories[category_number]}\")\n",
    "print(f\"Number of terms in top 5%: {top_5_percent_index}\")\n",
    "print(f\"Filtered terms: {filtered_words}\")"
   ]
  },
  {
   "cell_type": "code",
   "execution_count": 88,
   "metadata": {},
   "outputs": [
    {
     "name": "stdout",
     "output_type": "stream",
     "text": [
      "Category: comp.graphics\n",
      "Number of terms in top 0.1%: 13\n",
      "Filtered terms: ['blotted', 'breathes', 'breathe', 'breath', 'breakfast', 'breadtubes', 'bread', 'breached', 'breach', 'brazil', 'bratislava', 'braod', 'branches']\n",
      "Number of terms in bottom 0.1%: 11\n",
      "Filtered terms: ['blotted', 'breathes', 'breathe', 'breath', 'breakfast', 'breadtubes', 'bread', 'breached', 'breach', 'brazil', 'bratislava']\n",
      "\n",
      "Category: soc.religion.christian\n",
      "Number of terms in top 0.1%: 13\n",
      "Filtered terms: ['acknowleding', 'angelino', 'angelic', 'danj', 'angel', 'anew', 'danket', 'dap', 'daphne', 'dar', 'anecdote', 'angered', 'dare']\n",
      "Number of terms in bottom 0.1%: 11\n",
      "Filtered terms: ['acknowleding', 'angelino', 'angelic', 'danj', 'angel', 'anew', 'danket', 'dap', 'daphne', 'dar', 'anecdote']\n",
      "\n",
      "Category: sci.med\n",
      "Number of terms in top 0.1%: 16\n",
      "Filtered terms: ['haven', 'c5tk4u', 'c5t76d', 'c5sy24', 'c5sqv8', 'gag', 'c5qt5p', 'gagme', 'gail', 'c5pvp5', 'c5prv8', 'c5prca', 'c5nf8t', 'c5nf2r', 'c5mv3v', 'c5u5lg']\n",
      "Number of terms in bottom 0.1%: 11\n",
      "Filtered terms: ['haven', 'c5tk4u', 'c5t76d', 'c5sy24', 'c5sqv8', 'gag', 'c5qt5p', 'gagme', 'gail', 'c5pvp5', 'c5prv8']\n",
      "\n",
      "Category: alt.atheism\n",
      "Number of terms in top 0.1%: 11\n",
      "Filtered terms: ['djohnson', 'charset', 'a2x', 'a2623', 'a16pd', 'a137490', 'chassis', 'a1', 'a000', '_yourself_', '_your_']\n",
      "Number of terms in bottom 0.1%: 11\n",
      "Filtered terms: ['djohnson', 'charset', 'a2x', 'a2623', 'a16pd', 'a137490', 'chassis', 'a1', 'a000', '_yourself_', '_your_']\n",
      "\n"
     ]
    }
   ],
   "source": [
    "#Exercise 16 (take home)\n",
    "for i in range(4):\n",
    "    category_number=i\n",
    "    word_counts = term_document_dfs[categories[category_number]].sum(axis=0).to_numpy()\n",
    "\n",
    "    # Sort the term frequencies in ascending order and get sorted indices\n",
    "    sorted_indices = np.argsort(word_counts)  # Get indices of sorted frequencies\n",
    "    sorted_counts_top = np.sort(word_counts)[::-1]   # Sort frequencies\n",
    "    sorted_counts_bottom = word_counts[sorted_indices]\n",
    "\n",
    "    # Calculate the index corresponding to the bottom 1% least frequent terms\n",
    "    total_terms_top = len(sorted_counts_top)\n",
    "    top_01_percent_index = int(0.001 * total_terms_top)\n",
    "    total_terms_bottom = len(sorted_counts_bottom)\n",
    "    bottom_01_percent_index = int(0.001 * total_terms)\n",
    "\n",
    "    # Get the indices of the bottom 1% least frequent terms\n",
    "    top_01_percent_indices = sorted_indices[:top_01_percent_index]\n",
    "    bottom_01_percent_indices = sorted_indices[:bottom_01_percent_index]\n",
    "\n",
    "    # Filter terms that belong to the top 5% based on their rank\n",
    "    filtered_words_top = [count_vect.get_feature_names_out()[i] for i in top_01_percent_indices]\n",
    "    filtered_words_bottom = [count_vect.get_feature_names_out()[i] for i in bottom_01_percent_indices]\n",
    "\n",
    "    print(f\"Category: {categories[category_number]}\")\n",
    "    print(f\"Number of terms in top 0.1%: {top_01_percent_index}\")\n",
    "    print(f\"Filtered terms: {filtered_words_top}\")\n",
    "    print(f\"Number of terms in bottom 0.1%: {bottom_01_percent_index}\")\n",
    "    print(f\"Filtered terms: {filtered_words_bottom}\\n\")\n",
    "\n",
    "#different value of Number of terms, Filtered terms"
   ]
  },
  {
   "cell_type": "code",
   "execution_count": null,
   "metadata": {},
   "outputs": [],
   "source": [
    "#Exercise 17 (take home)\n",
    "from PAMI.frequentPattern.basic import FPGrowth as alg\n",
    "minSups = [3,6,9]\n",
    "for minSup in minSups:\n",
    "    obj3 = alg.FPGrowth(iFile='td_freq_db_comp_graphics.csv', minSup=minSup)\n",
    "    obj3.mine()\n",
    "    frequentPatternsDF_comp_graphics= obj3.getPatternsAsDataFrame()\n",
    "    print('Total No of patterns: ' + str(len(frequentPatternsDF_comp_graphics))) #print the total number of patterns\n",
    "    print('Runtime: ' + str(obj3.getRuntime())) #measure the runtime\n",
    "\n",
    "import PAMI.frequentPattern.topk.FAE as alg\n",
    "Ks = [500,1000,1500]\n",
    "for K in Ks:\n",
    "    obj = alg.FAE('td_freq_db_comp_graphics.csv', K)\n",
    "    obj.mine()\n",
    "    topKFrequentPatterns = obj.getPatterns()\n",
    "    print(\"Total number of Frequent Patterns\"+str(K)+':', len(topKFrequentPatterns))\n",
    "    Df = obj.getPatternsAsDataFrame()\n",
    "    memUSS = obj.getMemoryUSS()\n",
    "    print(\"Total Memory in USS\"+str(K)+':', memUSS)\n",
    "    memRSS = obj.getMemoryRSS()\n",
    "    print(\"Total Memory in RSS\"+str(K)+':', memRSS)\n",
    "    run = obj.getRuntime()\n",
    "    print(\"Total ExecutionTime in seconds\"+str(K)+':', run)\n",
    "\n",
    "# #"
   ]
  },
  {
   "cell_type": "code",
   "execution_count": null,
   "metadata": {},
   "outputs": [],
   "source": []
  },
  {
   "cell_type": "code",
   "execution_count": 64,
   "metadata": {},
   "outputs": [],
   "source": [
    "#Exercise 18 (take home)"
   ]
  },
  {
   "cell_type": "code",
   "execution_count": 65,
   "metadata": {},
   "outputs": [],
   "source": [
    "#Exercise 19 (take home)"
   ]
  },
  {
   "cell_type": "markdown",
   "metadata": {},
   "source": [
    "#### Second"
   ]
  },
  {
   "cell_type": "markdown",
   "metadata": {},
   "source": [
    "#### Third"
   ]
  },
  {
   "cell_type": "markdown",
   "metadata": {},
   "source": [
    "#### Fourth"
   ]
  },
  {
   "cell_type": "markdown",
   "metadata": {},
   "source": [
    "#### Fifth"
   ]
  }
 ],
 "metadata": {
  "kernelspec": {
   "display_name": "Python 3",
   "language": "python",
   "name": "python3"
  },
  "language_info": {
   "codemirror_mode": {
    "name": "ipython",
    "version": 3
   },
   "file_extension": ".py",
   "mimetype": "text/x-python",
   "name": "python",
   "nbconvert_exporter": "python",
   "pygments_lexer": "ipython3",
   "version": "3.10.11"
  }
 },
 "nbformat": 4,
 "nbformat_minor": 4
}
